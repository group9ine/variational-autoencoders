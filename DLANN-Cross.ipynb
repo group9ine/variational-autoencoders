{
 "cells": [
  {
   "cell_type": "markdown",
   "id": "cb34c7a8",
   "metadata": {},
   "source": [
    "# DLANN\n",
    "## ~~Doesn't Learn Anything Neural Network~~\n",
    "## Deep Learning Autoencoder Neural Network"
   ]
  },
  {
   "cell_type": "markdown",
   "id": "2121bf15",
   "metadata": {},
   "source": [
    "Import necessary packages"
   ]
  },
  {
   "cell_type": "code",
   "execution_count": 1,
   "id": "79f7cdff",
   "metadata": {},
   "outputs": [],
   "source": [
    "import numpy as np\n",
    "import tensorflow as tf\n",
    "from tensorflow import keras\n",
    "from tensorflow.keras import layers\n",
    "from keras import regularizers\n",
    "import matplotlib.pyplot as plt\n",
    "import pandas as pd\n",
    "import seaborn as sns\n",
    "from keras import backend as K\n",
    "from keras.layers import Conv2D, Conv2DTranspose, Input, Flatten, Dense, Lambda, Reshape, AveragePooling2D, UpSampling2D"
   ]
  },
  {
   "cell_type": "markdown",
   "id": "d142e12f",
   "metadata": {},
   "source": [
    "### Data"
   ]
  },
  {
   "cell_type": "markdown",
   "id": "728ed42a",
   "metadata": {},
   "source": [
    "Define core features of the dataset"
   ]
  },
  {
   "cell_type": "code",
   "execution_count": 2,
   "id": "04bdb140",
   "metadata": {},
   "outputs": [],
   "source": [
    "dim = 2\n",
    "numpart = 30\n",
    "box_size = 10\n",
    "latent_dim = 10"
   ]
  },
  {
   "cell_type": "markdown",
   "id": "a4ec27dc",
   "metadata": {},
   "source": [
    "Import and reshape data"
   ]
  },
  {
   "cell_type": "code",
   "execution_count": 3,
   "id": "f20664e3",
   "metadata": {},
   "outputs": [],
   "source": [
    "fname = r'\\\\wsl$\\Ubuntu\\home\\alepitte\\ale\\uni\\variational-autoencoders\\mc-sampling\\dump\\test_30_10_1_0.75_0.2_50000_2500_0_x.txt'\n",
    "#fname=\"mc-sampling/good-runs/nonpolimero_x.txt\"\n",
    "\n",
    "with open(fname) as f:\n",
    "    data = [\n",
    "        [float(i.strip()) for i in s.split(\" \") if i != \"\"]\n",
    "        for s in f.read().split(\"\\n\")\n",
    "        if s != \"\"]"
   ]
  },
  {
   "cell_type": "code",
   "execution_count": 4,
   "id": "3be071e6",
   "metadata": {},
   "outputs": [
    {
     "name": "stdout",
     "output_type": "stream",
     "text": [
      "[6.602492, 2.914273, 5.632625, 2.352631, 9.804926, 1.776639, 8.781303, 2.441727, 3.365558, 3.489642, 0.497381, 2.97126, 7.64297, 3.371478, 2.729281, 0.111159, 7.452005, 0.424503, 2.370376, 4.020165, 9.921614, 0.214307, 2.408065, 2.283695, 2.01747, 1.368826, 4.418548, 4.454403, 8.20593, 1.321902, 9.103216, 0.968846, 7.593875, 2.261605, 5.770208, 1.303452, 0.562347, 0.384708, 1.026059, 3.971758, 6.422909, 0.433186, 4.836941, 1.656635, 7.011751, 1.411104, 4.452852, 2.956323, 3.918127, 0.024072, 1.694333, 2.969465, 1.667498, 0.252255, 3.066908, 1.224696, 5.284445, 0.003942, 8.50326, 0.046534]\n"
     ]
    }
   ],
   "source": [
    "print(data[1])"
   ]
  },
  {
   "cell_type": "code",
   "execution_count": 5,
   "id": "fcc8846f",
   "metadata": {},
   "outputs": [
    {
     "name": "stdout",
     "output_type": "stream",
     "text": [
      "(50000, 30, 2)\n"
     ]
    }
   ],
   "source": [
    "vcs = np.array(data).reshape((-1,numpart,dim))/box_size\n",
    "print(vcs.shape)"
   ]
  },
  {
   "cell_type": "code",
   "execution_count": 6,
   "id": "8d62293b",
   "metadata": {},
   "outputs": [],
   "source": [
    "sortmode = 2"
   ]
  },
  {
   "cell_type": "code",
   "execution_count": 7,
   "id": "81191566",
   "metadata": {},
   "outputs": [],
   "source": [
    "if sortmode == 1 :\n",
    "    idx = np.lexsort((vcs[:,:,0], vcs[:,:,1]))\n",
    "    \n",
    "    # Use the indices to sort each step while maintaining the rows intact\n",
    "    sorted_vcs = np.empty_like(vcs)\n",
    "    for i in range(len(vcs)):\n",
    "        sorted_vcs[i] = vcs[i][idx[i]]\n",
    "            \n",
    "    print(sorted_vcs.shape,\"\\n\",sorted_vcs[1])"
   ]
  },
  {
   "cell_type": "code",
   "execution_count": 8,
   "id": "bf20726d",
   "metadata": {},
   "outputs": [
    {
     "name": "stdout",
     "output_type": "stream",
     "text": [
      "(50000, 30, 2) \n",
      " [[5.623470e-02 3.847080e-02]\n",
      " [1.667498e-01 2.522550e-02]\n",
      " [2.017470e-01 1.368826e-01]\n",
      " [2.729281e-01 1.111590e-02]\n",
      " [4.973810e-02 2.971260e-01]\n",
      " [3.066908e-01 1.224696e-01]\n",
      " [2.408065e-01 2.283695e-01]\n",
      " [1.694333e-01 2.969465e-01]\n",
      " [3.918127e-01 2.407200e-03]\n",
      " [1.026059e-01 3.971758e-01]\n",
      " [2.370376e-01 4.020165e-01]\n",
      " [3.365558e-01 3.489642e-01]\n",
      " [4.836941e-01 1.656635e-01]\n",
      " [5.284445e-01 3.942000e-04]\n",
      " [4.452852e-01 2.956323e-01]\n",
      " [5.770208e-01 1.303452e-01]\n",
      " [5.632625e-01 2.352631e-01]\n",
      " [4.418548e-01 4.454403e-01]\n",
      " [6.422909e-01 4.331860e-02]\n",
      " [7.011751e-01 1.411104e-01]\n",
      " [6.602492e-01 2.914273e-01]\n",
      " [7.452005e-01 4.245030e-02]\n",
      " [7.593875e-01 2.261605e-01]\n",
      " [8.205930e-01 1.321902e-01]\n",
      " [7.642970e-01 3.371478e-01]\n",
      " [8.503260e-01 4.653400e-03]\n",
      " [8.781303e-01 2.441727e-01]\n",
      " [9.103216e-01 9.688460e-02]\n",
      " [9.921614e-01 2.143070e-02]\n",
      " [9.804926e-01 1.776639e-01]]\n"
     ]
    }
   ],
   "source": [
    "if sortmode==2:\n",
    "\n",
    "    # Calculate distances from (0, 0)\n",
    "    distances = np.sqrt(vcs[:,:,0]**2 + vcs[:,:,1]**2)\n",
    "    idx = np.argsort(distances, axis=1)\n",
    "    sorted_vcs = np.empty_like(vcs)\n",
    "    for i in range(len(vcs)):\n",
    "        sorted_vcs[i] = vcs[i][idx[i]]\n",
    "\n",
    "    print(sorted_vcs.shape,\"\\n\",sorted_vcs[1])"
   ]
  },
  {
   "cell_type": "code",
   "execution_count": 9,
   "id": "5ca6564e",
   "metadata": {},
   "outputs": [
    {
     "name": "stdout",
     "output_type": "stream",
     "text": [
      "(40000, 30, 2)\n",
      "(10000, 30, 2)\n"
     ]
    }
   ],
   "source": [
    "train_perc=0.8\n",
    "trainset = vcs[:int(train_perc*len(data))]\n",
    "print(trainset.shape)\n",
    "test_perc=0.25*train_perc\n",
    "testset = vcs[int(train_perc*len(data)):int((test_perc+train_perc)*len(data))]\n",
    "print(testset.shape)"
   ]
  },
  {
   "cell_type": "code",
   "execution_count": 10,
   "id": "a617d223",
   "metadata": {},
   "outputs": [],
   "source": [
    "class Sampling(layers.Layer):\n",
    "    \"\"\"Uses (z_mean, z_log_var) to sample z, the vector encoding a digit.\"\"\"\n",
    "\n",
    "    def call(self, inputs):\n",
    "        z_mean, z_log_var = inputs\n",
    "        batch = tf.shape(z_mean)[0]\n",
    "        dim = tf.shape(z_mean)[1]\n",
    "        epsilon = tf.keras.backend.random_normal(shape=(batch, dim))\n",
    "        return z_mean + tf.exp(0.5 * z_log_var) * epsilon\n"
   ]
  },
  {
   "cell_type": "code",
   "execution_count": 11,
   "id": "7c956808",
   "metadata": {},
   "outputs": [
    {
     "name": "stdout",
     "output_type": "stream",
     "text": [
      "Model: \"encoder\"\n",
      "__________________________________________________________________________________________________\n",
      " Layer (type)                   Output Shape         Param #     Connected to                     \n",
      "==================================================================================================\n",
      " input_1 (InputLayer)           [(None, 30, 2, 1)]   0           []                               \n",
      "                                                                                                  \n",
      " conv2d (Conv2D)                (None, 30, 2, 64)    640         ['input_1[0][0]']                \n",
      "                                                                                                  \n",
      " conv2d_1 (Conv2D)              (None, 30, 2, 32)    18464       ['conv2d[0][0]']                 \n",
      "                                                                                                  \n",
      " flatten (Flatten)              (None, 1920)         0           ['conv2d_1[0][0]']               \n",
      "                                                                                                  \n",
      " z_mean (Dense)                 (None, 10)           19210       ['flatten[0][0]']                \n",
      "                                                                                                  \n",
      " z_log_var (Dense)              (None, 10)           19210       ['flatten[0][0]']                \n",
      "                                                                                                  \n",
      " sampling (Sampling)            (None, 10)           0           ['z_mean[0][0]',                 \n",
      "                                                                  'z_log_var[0][0]']              \n",
      "                                                                                                  \n",
      "==================================================================================================\n",
      "Total params: 57,524\n",
      "Trainable params: 57,524\n",
      "Non-trainable params: 0\n",
      "__________________________________________________________________________________________________\n",
      "Model: \"decoder\"\n",
      "_________________________________________________________________\n",
      " Layer (type)                Output Shape              Param #   \n",
      "=================================================================\n",
      " decoder_input (InputLayer)  [(None, 10)]              0         \n",
      "                                                                 \n",
      " dense (Dense)               (None, 1920)              21120     \n",
      "                                                                 \n",
      " reshape (Reshape)           (None, 30, 2, 32)         0         \n",
      "                                                                 \n",
      " conv2d_transpose (Conv2DTra  (None, 30, 2, 32)        9248      \n",
      " nspose)                                                         \n",
      "                                                                 \n",
      " conv2d_transpose_1 (Conv2DT  (None, 30, 2, 64)        18496     \n",
      " ranspose)                                                       \n",
      "                                                                 \n",
      " decoder_output (Conv2DTrans  (None, 30, 2, 1)         577       \n",
      " pose)                                                           \n",
      "                                                                 \n",
      "=================================================================\n",
      "Total params: 49,441\n",
      "Trainable params: 49,441\n",
      "Non-trainable params: 0\n",
      "_________________________________________________________________\n"
     ]
    }
   ],
   "source": [
    "#Encoder\n",
    "\n",
    "encoder_inputs = keras.Input(shape=(numpart, dim, 1))\n",
    "#x = Conv2D(128, (3,3), padding='same', activation='relu')(encoder_inputs)\n",
    "#x = AveragePooling2D(pool_size=(2, 2), strides=(1, 1), padding='same')(x)\n",
    "x = Conv2D(64, (3,3), padding='same', activation='relu')(encoder_inputs)\n",
    "#x = AveragePooling2D(pool_size=(2, 2), strides=(1, 1), padding='same')(x)\n",
    "x = Conv2D(32, (3,3), padding='same', activation='relu')(x)\n",
    "conv_shape = K.int_shape(x) #Shape of conv to be provided to decoder\n",
    "#x = AveragePooling2D(pool_size=(2, 2), strides=(1, 1), padding='same')(x)\n",
    "\n",
    "x = Flatten()(x)\n",
    "#x = Dense(32, activation='relu')(x)\n",
    "\n",
    "z_mean = layers.Dense(latent_dim, name=\"z_mean\")(x)\n",
    "z_log_var = layers.Dense(latent_dim, name=\"z_log_var\")(x)\n",
    "z = Sampling()([z_mean, z_log_var])\n",
    "encoder = keras.Model(encoder_inputs, [z_mean, z_log_var, z], name=\"encoder\")\n",
    "encoder.summary()\n",
    "\n",
    "\n",
    "#decoder\n",
    "decoder_input = Input(shape=(latent_dim, ), name='decoder_input')\n",
    "x = Dense(conv_shape[1]*conv_shape[2]*conv_shape[3], activation='relu')(decoder_input)\n",
    "x = Reshape((conv_shape[1], conv_shape[2], conv_shape[3]))(x)\n",
    "x = Conv2DTranspose(32, (3,3), padding='same', activation='relu')(x)\n",
    "#x = UpSampling2D((2, 2))(x)\n",
    "x = Conv2DTranspose(64, (3,3), padding='same', activation='relu')(x)\n",
    "#x = UpSampling2D((2, 2))(x)\n",
    "#x = Conv2DTranspose(128, (3,3), padding='same', activation='relu')(x)\n",
    "#x = UpSampling2D((2, 2))(x)\n",
    "decoder_outputs = Conv2DTranspose(1, 3, padding='same', activation='sigmoid', name='decoder_output')(x)\n",
    "\n",
    "decoder = keras.Model(decoder_input, decoder_outputs, name='decoder')\n",
    "decoder.summary()\n"
   ]
  },
  {
   "cell_type": "code",
   "execution_count": 12,
   "id": "db6851b3",
   "metadata": {},
   "outputs": [],
   "source": [
    "class VAE(keras.Model):\n",
    "    def __init__(self, encoder, decoder, **kwargs):\n",
    "        super().__init__(**kwargs)\n",
    "        self.encoder = encoder\n",
    "        self.decoder = decoder\n",
    "        self.total_loss_tracker = keras.metrics.Mean(name=\"total_loss\")\n",
    "        self.reconstruction_loss_tracker = keras.metrics.Mean(\n",
    "            name=\"reconstruction_loss\"\n",
    "        )\n",
    "        self.kl_loss_tracker = keras.metrics.Mean(name=\"kl_loss\")\n",
    "\n",
    "    @property\n",
    "    def metrics(self):\n",
    "        return [\n",
    "            self.total_loss_tracker,\n",
    "            self.reconstruction_loss_tracker,\n",
    "            self.kl_loss_tracker,\n",
    "        ]\n",
    "\n",
    "    def train_step(self, data):\n",
    "        with tf.GradientTape() as tape:\n",
    "            z_mean, z_log_var, z = self.encoder(data)\n",
    "            reconstruction = self.decoder(z)\n",
    "        \n",
    "            data = tf.expand_dims(data, axis=-1)\n",
    "            \n",
    "            reconstruction_loss = tf.reduce_mean(\n",
    "                 \n",
    "                tf.reduce_sum(\n",
    "                    keras.losses.binary_crossentropy(data, reconstruction), axis=(1, 2)\n",
    "                )\n",
    "                \n",
    "            )\n",
    "            kl_loss = -0.5 * (\n",
    "                1 + z_log_var - tf.square(z_mean) - tf.exp(z_log_var)\n",
    "            )\n",
    "            kl_loss = tf.reduce_mean(kl_loss)\n",
    "            total_loss = reconstruction_loss + reg_lambda * kl_loss\n",
    "        grads = tape.gradient(total_loss, self.trainable_weights)\n",
    "        self.optimizer.apply_gradients(zip(grads, self.trainable_weights))\n",
    "        self.total_loss_tracker.update_state(total_loss)\n",
    "        self.reconstruction_loss_tracker.update_state(reconstruction_loss)\n",
    "        self.kl_loss_tracker.update_state(kl_loss)\n",
    "        return {\n",
    "            \"loss\": self.total_loss_tracker.result(),\n",
    "            \"reconstruction_loss\": self.reconstruction_loss_tracker.result(),\n",
    "            \"kl_loss\": self.kl_loss_tracker.result(),\n",
    "        }"
   ]
  },
  {
   "cell_type": "code",
   "execution_count": 13,
   "id": "fd72ca72",
   "metadata": {
    "scrolled": true
   },
   "outputs": [
    {
     "name": "stdout",
     "output_type": "stream",
     "text": [
      "Epoch 1/100\n",
      "313/313 - 17s - loss: 34.3682 - reconstruction_loss: 34.3665 - kl_loss: 1.7239 - 17s/epoch - 54ms/step\n",
      "Epoch 2/100\n",
      "313/313 - 16s - loss: 32.6344 - reconstruction_loss: 32.6298 - kl_loss: 4.5636 - 16s/epoch - 53ms/step\n",
      "Epoch 3/100\n",
      "313/313 - 16s - loss: 32.5121 - reconstruction_loss: 32.5075 - kl_loss: 4.6288 - 16s/epoch - 50ms/step\n",
      "Epoch 4/100\n",
      "313/313 - 15s - loss: 32.2428 - reconstruction_loss: 32.2383 - kl_loss: 4.4918 - 15s/epoch - 49ms/step\n",
      "Epoch 5/100\n",
      "313/313 - 15s - loss: 31.4259 - reconstruction_loss: 31.4208 - kl_loss: 5.1118 - 15s/epoch - 48ms/step\n",
      "Epoch 6/100\n",
      "313/313 - 15s - loss: 31.1513 - reconstruction_loss: 31.1458 - kl_loss: 5.5459 - 15s/epoch - 47ms/step\n",
      "Epoch 7/100\n",
      "313/313 - 15s - loss: 31.0138 - reconstruction_loss: 31.0080 - kl_loss: 5.7936 - 15s/epoch - 47ms/step\n",
      "Epoch 8/100\n",
      "313/313 - 15s - loss: 30.9300 - reconstruction_loss: 30.9241 - kl_loss: 5.8876 - 15s/epoch - 47ms/step\n",
      "Epoch 9/100\n",
      "313/313 - 15s - loss: 30.8511 - reconstruction_loss: 30.8451 - kl_loss: 6.0151 - 15s/epoch - 47ms/step\n",
      "Epoch 10/100\n",
      "313/313 - 15s - loss: 30.7835 - reconstruction_loss: 30.7774 - kl_loss: 6.1228 - 15s/epoch - 47ms/step\n",
      "Epoch 11/100\n",
      "313/313 - 15s - loss: 30.7309 - reconstruction_loss: 30.7248 - kl_loss: 6.1454 - 15s/epoch - 48ms/step\n",
      "Epoch 12/100\n",
      "313/313 - 15s - loss: 30.6766 - reconstruction_loss: 30.6703 - kl_loss: 6.2696 - 15s/epoch - 48ms/step\n",
      "Epoch 13/100\n",
      "313/313 - 15s - loss: 30.6338 - reconstruction_loss: 30.6275 - kl_loss: 6.3095 - 15s/epoch - 47ms/step\n",
      "Epoch 14/100\n",
      "313/313 - 15s - loss: 30.5881 - reconstruction_loss: 30.5817 - kl_loss: 6.3291 - 15s/epoch - 47ms/step\n",
      "Epoch 15/100\n",
      "313/313 - 15s - loss: 30.5541 - reconstruction_loss: 30.5476 - kl_loss: 6.4318 - 15s/epoch - 48ms/step\n",
      "Epoch 16/100\n",
      "313/313 - 15s - loss: 30.5171 - reconstruction_loss: 30.5105 - kl_loss: 6.5169 - 15s/epoch - 48ms/step\n",
      "Epoch 17/100\n",
      "313/313 - 15s - loss: 30.4810 - reconstruction_loss: 30.4745 - kl_loss: 6.4786 - 15s/epoch - 48ms/step\n",
      "Epoch 18/100\n",
      "313/313 - 15s - loss: 30.4391 - reconstruction_loss: 30.4326 - kl_loss: 6.5567 - 15s/epoch - 48ms/step\n",
      "Epoch 19/100\n",
      "313/313 - 15s - loss: 30.4370 - reconstruction_loss: 30.4304 - kl_loss: 6.5842 - 15s/epoch - 48ms/step\n",
      "Epoch 20/100\n",
      "313/313 - 15s - loss: 30.4233 - reconstruction_loss: 30.4166 - kl_loss: 6.7401 - 15s/epoch - 47ms/step\n",
      "Epoch 21/100\n",
      "313/313 - 15s - loss: 30.3626 - reconstruction_loss: 30.3560 - kl_loss: 6.6348 - 15s/epoch - 48ms/step\n",
      "Epoch 22/100\n",
      "313/313 - 15s - loss: 30.3405 - reconstruction_loss: 30.3338 - kl_loss: 6.6911 - 15s/epoch - 47ms/step\n",
      "Epoch 23/100\n",
      "313/313 - 15s - loss: 30.3446 - reconstruction_loss: 30.3378 - kl_loss: 6.7180 - 15s/epoch - 47ms/step\n",
      "Epoch 24/100\n",
      "313/313 - 16s - loss: 30.3224 - reconstruction_loss: 30.3156 - kl_loss: 6.8065 - 16s/epoch - 50ms/step\n",
      "Epoch 25/100\n",
      "313/313 - 15s - loss: 30.3082 - reconstruction_loss: 30.3014 - kl_loss: 6.8102 - 15s/epoch - 48ms/step\n",
      "Epoch 26/100\n",
      "313/313 - 15s - loss: 30.2785 - reconstruction_loss: 30.2716 - kl_loss: 6.8525 - 15s/epoch - 48ms/step\n",
      "Epoch 27/100\n",
      "313/313 - 15s - loss: 30.2649 - reconstruction_loss: 30.2581 - kl_loss: 6.8471 - 15s/epoch - 48ms/step\n",
      "Epoch 28/100\n",
      "313/313 - 15s - loss: 30.2418 - reconstruction_loss: 30.2349 - kl_loss: 6.8582 - 15s/epoch - 48ms/step\n",
      "Epoch 29/100\n",
      "313/313 - 15s - loss: 30.2545 - reconstruction_loss: 30.2476 - kl_loss: 6.9108 - 15s/epoch - 48ms/step\n",
      "Epoch 30/100\n",
      "313/313 - 15s - loss: 30.2200 - reconstruction_loss: 30.2132 - kl_loss: 6.8556 - 15s/epoch - 48ms/step\n",
      "Epoch 31/100\n",
      "313/313 - 15s - loss: 30.2101 - reconstruction_loss: 30.2031 - kl_loss: 6.9970 - 15s/epoch - 48ms/step\n",
      "Epoch 32/100\n",
      "313/313 - 15s - loss: 30.2032 - reconstruction_loss: 30.1963 - kl_loss: 6.9184 - 15s/epoch - 48ms/step\n",
      "Epoch 33/100\n",
      "313/313 - 15s - loss: 30.1999 - reconstruction_loss: 30.1930 - kl_loss: 6.9605 - 15s/epoch - 48ms/step\n",
      "Epoch 34/100\n",
      "313/313 - 15s - loss: 30.1971 - reconstruction_loss: 30.1901 - kl_loss: 7.0264 - 15s/epoch - 48ms/step\n",
      "Epoch 35/100\n",
      "313/313 - 15s - loss: 30.1740 - reconstruction_loss: 30.1671 - kl_loss: 6.9644 - 15s/epoch - 48ms/step\n",
      "Epoch 36/100\n",
      "313/313 - 15s - loss: 30.1662 - reconstruction_loss: 30.1592 - kl_loss: 7.0081 - 15s/epoch - 48ms/step\n",
      "Epoch 37/100\n",
      "313/313 - 15s - loss: 30.1627 - reconstruction_loss: 30.1556 - kl_loss: 7.1224 - 15s/epoch - 48ms/step\n",
      "Epoch 38/100\n",
      "313/313 - 15s - loss: 30.1303 - reconstruction_loss: 30.1233 - kl_loss: 7.0894 - 15s/epoch - 48ms/step\n",
      "Epoch 39/100\n",
      "313/313 - 16s - loss: 30.1238 - reconstruction_loss: 30.1167 - kl_loss: 7.1152 - 16s/epoch - 51ms/step\n",
      "Epoch 40/100\n",
      "313/313 - 15s - loss: 30.1327 - reconstruction_loss: 30.1256 - kl_loss: 7.1128 - 15s/epoch - 48ms/step\n",
      "Epoch 41/100\n",
      "313/313 - 15s - loss: 30.1115 - reconstruction_loss: 30.1044 - kl_loss: 7.1126 - 15s/epoch - 48ms/step\n",
      "Epoch 42/100\n",
      "313/313 - 15s - loss: 30.1521 - reconstruction_loss: 30.1451 - kl_loss: 7.0553 - 15s/epoch - 48ms/step\n",
      "Epoch 43/100\n",
      "313/313 - 15s - loss: 30.1066 - reconstruction_loss: 30.0993 - kl_loss: 7.2222 - 15s/epoch - 48ms/step\n",
      "Epoch 44/100\n",
      "313/313 - 15s - loss: 30.1282 - reconstruction_loss: 30.1211 - kl_loss: 7.0747 - 15s/epoch - 48ms/step\n",
      "Epoch 45/100\n",
      "313/313 - 15s - loss: 30.0959 - reconstruction_loss: 30.0886 - kl_loss: 7.1930 - 15s/epoch - 48ms/step\n",
      "Epoch 46/100\n",
      "313/313 - 15s - loss: 30.0856 - reconstruction_loss: 30.0784 - kl_loss: 7.1851 - 15s/epoch - 48ms/step\n",
      "Epoch 47/100\n",
      "313/313 - 15s - loss: 30.0802 - reconstruction_loss: 30.0731 - kl_loss: 7.1688 - 15s/epoch - 48ms/step\n",
      "Epoch 48/100\n",
      "313/313 - 15s - loss: 30.0607 - reconstruction_loss: 30.0535 - kl_loss: 7.1799 - 15s/epoch - 49ms/step\n",
      "Epoch 49/100\n",
      "313/313 - 15s - loss: 30.0749 - reconstruction_loss: 30.0677 - kl_loss: 7.1909 - 15s/epoch - 49ms/step\n",
      "Epoch 50/100\n",
      "313/313 - 15s - loss: 30.0578 - reconstruction_loss: 30.0506 - kl_loss: 7.2341 - 15s/epoch - 48ms/step\n",
      "Epoch 51/100\n",
      "313/313 - 15s - loss: 30.0548 - reconstruction_loss: 30.0476 - kl_loss: 7.2275 - 15s/epoch - 48ms/step\n",
      "Epoch 52/100\n",
      "313/313 - 14s - loss: 30.0500 - reconstruction_loss: 30.0428 - kl_loss: 7.2065 - 14s/epoch - 45ms/step\n",
      "Epoch 53/100\n",
      "313/313 - 15s - loss: 30.0804 - reconstruction_loss: 30.0732 - kl_loss: 7.2106 - 15s/epoch - 48ms/step\n",
      "Epoch 54/100\n",
      "313/313 - 15s - loss: 30.0630 - reconstruction_loss: 30.0557 - kl_loss: 7.2479 - 15s/epoch - 47ms/step\n",
      "Epoch 55/100\n",
      "313/313 - 15s - loss: 30.1279 - reconstruction_loss: 30.1207 - kl_loss: 7.2149 - 15s/epoch - 48ms/step\n",
      "Epoch 56/100\n",
      "313/313 - 15s - loss: 30.0843 - reconstruction_loss: 30.0770 - kl_loss: 7.2682 - 15s/epoch - 49ms/step\n",
      "Epoch 57/100\n",
      "313/313 - 15s - loss: 30.0306 - reconstruction_loss: 30.0233 - kl_loss: 7.2846 - 15s/epoch - 48ms/step\n",
      "Epoch 58/100\n",
      "313/313 - 15s - loss: 30.0713 - reconstruction_loss: 30.0640 - kl_loss: 7.2400 - 15s/epoch - 48ms/step\n",
      "Epoch 59/100\n",
      "313/313 - 15s - loss: 30.0397 - reconstruction_loss: 30.0325 - kl_loss: 7.2686 - 15s/epoch - 49ms/step\n",
      "Epoch 60/100\n",
      "313/313 - 15s - loss: 30.0417 - reconstruction_loss: 30.0344 - kl_loss: 7.2859 - 15s/epoch - 48ms/step\n",
      "Epoch 61/100\n",
      "313/313 - 15s - loss: 30.0437 - reconstruction_loss: 30.0364 - kl_loss: 7.3228 - 15s/epoch - 48ms/step\n",
      "Epoch 62/100\n",
      "313/313 - 15s - loss: 30.0423 - reconstruction_loss: 30.0350 - kl_loss: 7.2966 - 15s/epoch - 49ms/step\n",
      "Epoch 63/100\n",
      "313/313 - 16s - loss: 30.0312 - reconstruction_loss: 30.0239 - kl_loss: 7.2986 - 16s/epoch - 50ms/step\n",
      "Epoch 64/100\n",
      "313/313 - 16s - loss: 30.0441 - reconstruction_loss: 30.0368 - kl_loss: 7.3304 - 16s/epoch - 50ms/step\n",
      "Epoch 65/100\n",
      "313/313 - 16s - loss: 30.0486 - reconstruction_loss: 30.0413 - kl_loss: 7.2953 - 16s/epoch - 51ms/step\n",
      "Epoch 66/100\n",
      "313/313 - 15s - loss: 30.0725 - reconstruction_loss: 30.0652 - kl_loss: 7.3012 - 15s/epoch - 48ms/step\n",
      "Epoch 67/100\n",
      "313/313 - 15s - loss: 30.0185 - reconstruction_loss: 30.0112 - kl_loss: 7.3347 - 15s/epoch - 48ms/step\n",
      "Epoch 68/100\n",
      "313/313 - 15s - loss: 30.0067 - reconstruction_loss: 29.9994 - kl_loss: 7.3444 - 15s/epoch - 48ms/step\n",
      "Epoch 69/100\n",
      "313/313 - 15s - loss: 30.0013 - reconstruction_loss: 29.9940 - kl_loss: 7.3719 - 15s/epoch - 47ms/step\n",
      "Epoch 70/100\n",
      "313/313 - 15s - loss: 30.0058 - reconstruction_loss: 29.9985 - kl_loss: 7.3529 - 15s/epoch - 47ms/step\n",
      "Epoch 71/100\n",
      "313/313 - 15s - loss: 30.0223 - reconstruction_loss: 30.0150 - kl_loss: 7.3614 - 15s/epoch - 47ms/step\n"
     ]
    },
    {
     "name": "stdout",
     "output_type": "stream",
     "text": [
      "Epoch 72/100\n",
      "313/313 - 15s - loss: 30.0085 - reconstruction_loss: 30.0011 - kl_loss: 7.3887 - 15s/epoch - 48ms/step\n",
      "Epoch 73/100\n",
      "313/313 - 15s - loss: 29.9736 - reconstruction_loss: 29.9662 - kl_loss: 7.3878 - 15s/epoch - 47ms/step\n",
      "Epoch 74/100\n",
      "313/313 - 14s - loss: 30.0013 - reconstruction_loss: 29.9938 - kl_loss: 7.4154 - 14s/epoch - 46ms/step\n",
      "Epoch 75/100\n",
      "313/313 - 14s - loss: 30.0460 - reconstruction_loss: 30.0386 - kl_loss: 7.4278 - 14s/epoch - 45ms/step\n",
      "Epoch 76/100\n",
      "313/313 - 15s - loss: 30.0024 - reconstruction_loss: 29.9949 - kl_loss: 7.4396 - 15s/epoch - 47ms/step\n",
      "Epoch 77/100\n",
      "313/313 - 15s - loss: 30.0101 - reconstruction_loss: 30.0026 - kl_loss: 7.4952 - 15s/epoch - 47ms/step\n",
      "Epoch 78/100\n",
      "313/313 - 15s - loss: 30.0153 - reconstruction_loss: 30.0078 - kl_loss: 7.4765 - 15s/epoch - 47ms/step\n",
      "Epoch 79/100\n",
      "313/313 - 15s - loss: 29.9872 - reconstruction_loss: 29.9798 - kl_loss: 7.4538 - 15s/epoch - 48ms/step\n",
      "Epoch 80/100\n",
      "313/313 - 15s - loss: 29.9949 - reconstruction_loss: 29.9874 - kl_loss: 7.4387 - 15s/epoch - 47ms/step\n",
      "Epoch 81/100\n",
      "313/313 - 15s - loss: 29.9644 - reconstruction_loss: 29.9569 - kl_loss: 7.5480 - 15s/epoch - 47ms/step\n",
      "Epoch 82/100\n",
      "313/313 - 15s - loss: 29.9878 - reconstruction_loss: 29.9802 - kl_loss: 7.6116 - 15s/epoch - 48ms/step\n",
      "Epoch 83/100\n",
      "313/313 - 14s - loss: 29.9825 - reconstruction_loss: 29.9749 - kl_loss: 7.5138 - 14s/epoch - 46ms/step\n",
      "Epoch 84/100\n",
      "313/313 - 15s - loss: 29.9903 - reconstruction_loss: 29.9827 - kl_loss: 7.5845 - 15s/epoch - 49ms/step\n",
      "Epoch 85/100\n",
      "313/313 - 15s - loss: 30.0777 - reconstruction_loss: 30.0699 - kl_loss: 7.7505 - 15s/epoch - 49ms/step\n",
      "Epoch 86/100\n",
      "313/313 - 15s - loss: 30.0116 - reconstruction_loss: 30.0040 - kl_loss: 7.5742 - 15s/epoch - 49ms/step\n",
      "Epoch 87/100\n",
      "313/313 - 15s - loss: 29.9978 - reconstruction_loss: 29.9903 - kl_loss: 7.4625 - 15s/epoch - 49ms/step\n",
      "Epoch 88/100\n",
      "313/313 - 15s - loss: 29.9783 - reconstruction_loss: 29.9707 - kl_loss: 7.5928 - 15s/epoch - 49ms/step\n",
      "Epoch 89/100\n",
      "313/313 - 15s - loss: 29.9835 - reconstruction_loss: 29.9759 - kl_loss: 7.5916 - 15s/epoch - 49ms/step\n",
      "Epoch 90/100\n",
      "313/313 - 15s - loss: 30.0110 - reconstruction_loss: 30.0033 - kl_loss: 7.6974 - 15s/epoch - 49ms/step\n",
      "Epoch 91/100\n",
      "313/313 - 17s - loss: 30.0725 - reconstruction_loss: 30.0648 - kl_loss: 7.6738 - 17s/epoch - 55ms/step\n",
      "Epoch 92/100\n",
      "313/313 - 16s - loss: 30.0734 - reconstruction_loss: 30.0658 - kl_loss: 7.6464 - 16s/epoch - 52ms/step\n",
      "Epoch 93/100\n",
      "313/313 - 15s - loss: 30.0000 - reconstruction_loss: 29.9925 - kl_loss: 7.5212 - 15s/epoch - 48ms/step\n",
      "Epoch 94/100\n",
      "313/313 - 14s - loss: 29.9388 - reconstruction_loss: 29.9313 - kl_loss: 7.5191 - 14s/epoch - 44ms/step\n",
      "Epoch 95/100\n",
      "313/313 - 14s - loss: 29.9418 - reconstruction_loss: 29.9342 - kl_loss: 7.5670 - 14s/epoch - 45ms/step\n",
      "Epoch 96/100\n",
      "313/313 - 15s - loss: 29.9645 - reconstruction_loss: 29.9566 - kl_loss: 7.8872 - 15s/epoch - 47ms/step\n",
      "Epoch 97/100\n",
      "313/313 - 16s - loss: 29.9855 - reconstruction_loss: 29.9776 - kl_loss: 7.8819 - 16s/epoch - 50ms/step\n",
      "Epoch 98/100\n",
      "313/313 - 20s - loss: 29.9267 - reconstruction_loss: 29.9191 - kl_loss: 7.5534 - 20s/epoch - 63ms/step\n",
      "Epoch 99/100\n",
      "313/313 - 17s - loss: 29.9389 - reconstruction_loss: 29.9311 - kl_loss: 7.7748 - 17s/epoch - 53ms/step\n",
      "Epoch 100/100\n",
      "313/313 - 15s - loss: 29.9635 - reconstruction_loss: 29.9557 - kl_loss: 7.7679 - 15s/epoch - 48ms/step\n"
     ]
    }
   ],
   "source": [
    "#training\n",
    "reg_lambda = 0.001\n",
    "vae = VAE(encoder, decoder)\n",
    "vae.compile(optimizer=keras.optimizers.Adam())\n",
    "fit=vae.fit(trainset, epochs=100, batch_size=128, verbose=2)"
   ]
  },
  {
   "cell_type": "code",
   "execution_count": 14,
   "id": "41e0a7a8",
   "metadata": {},
   "outputs": [
    {
     "data": {
      "text/plain": [
       "<matplotlib.legend.Legend at 0x270132e1c70>"
      ]
     },
     "execution_count": 14,
     "metadata": {},
     "output_type": "execute_result"
    },
    {
     "data": {
      "image/png": "[encoded data removed]",
      "text/plain": [
       "<Figure size 1400x600 with 2 Axes>"
      ]
     },
     "metadata": {},
     "output_type": "display_data"
    }
   ],
   "source": [
    "fig,AX=plt.subplots(1,2,figsize=(14,6.))\n",
    "ax=AX[0]\n",
    "ax.plot(fit.history['loss'],label=\"MSE loss\",c=\"b\")\n",
    "ax.set_xlabel('epoch')\n",
    "ax.set_ylabel(\"MSE loss\")\n",
    "ax.legend()\n",
    "ax=AX[1]\n",
    "ax.plot(fit.history['kl_loss'],label=\"KL loss\",c=\"r\")\n",
    "ax.set_xlabel('epoch')\n",
    "ax.set_ylabel(\"KL loss\")\n",
    "ax.legend()"
   ]
  },
  {
   "cell_type": "markdown",
   "id": "a1e0e846",
   "metadata": {},
   "source": [
    "## Evaluate performance\n",
    "We'll now use the test set to explore the latent space distribution of data and the reconstruction accuracy"
   ]
  },
  {
   "cell_type": "code",
   "execution_count": 15,
   "id": "10df409c",
   "metadata": {},
   "outputs": [
    {
     "name": "stdout",
     "output_type": "stream",
     "text": [
      "313/313 [==============================] - 2s 5ms/step\n"
     ]
    }
   ],
   "source": [
    "encoded_test = np.array(vae.encoder.predict(testset))"
   ]
  },
  {
   "cell_type": "code",
   "execution_count": 16,
   "id": "aae37675",
   "metadata": {},
   "outputs": [
    {
     "name": "stdout",
     "output_type": "stream",
     "text": [
      "(3, 10000, 10)\n"
     ]
    }
   ],
   "source": [
    "print(encoded_test.shape)"
   ]
  },
  {
   "cell_type": "markdown",
   "id": "2fb5ff61",
   "metadata": {},
   "source": [
    "z_mean are the first dimension, z_log_var the second (used in training), we're interested in the third dimension, which are the sampled z"
   ]
  },
  {
   "cell_type": "code",
   "execution_count": 17,
   "id": "8a8e920b",
   "metadata": {},
   "outputs": [
    {
     "name": "stdout",
     "output_type": "stream",
     "text": [
      "(10000, 10)\n"
     ]
    }
   ],
   "source": [
    "dim1 = encoded_test[2,:,:]\n",
    "print(dim1.shape)"
   ]
  },
  {
   "cell_type": "markdown",
   "id": "357c9a7c",
   "metadata": {},
   "source": [
    "Sampling in the latent space is reasonably gaussian as expected"
   ]
  },
  {
   "cell_type": "code",
   "execution_count": 18,
   "id": "6161263d",
   "metadata": {},
   "outputs": [],
   "source": [
    "#df = pd.DataFrame(dim1, columns=[\"x\", \"y\"])\n",
    "#sns.jointplot(x=\"x\", y=\"y\", data=df);"
   ]
  },
  {
   "cell_type": "markdown",
   "id": "5298c76a",
   "metadata": {},
   "source": [
    "We can now use the data to decode"
   ]
  },
  {
   "cell_type": "code",
   "execution_count": 19,
   "id": "40394aeb",
   "metadata": {},
   "outputs": [
    {
     "name": "stdout",
     "output_type": "stream",
     "text": [
      "313/313 [==============================] - 2s 6ms/step\n",
      "(10000, 30, 2)\n"
     ]
    }
   ],
   "source": [
    "decoded_test = np.array(decoder.predict(encoded_test[2,:,:])).reshape(-1,numpart,dim)\n",
    "print(decoded_test.shape)"
   ]
  },
  {
   "cell_type": "markdown",
   "id": "7602682f",
   "metadata": {},
   "source": [
    "#### Check reconstruction"
   ]
  },
  {
   "cell_type": "code",
   "execution_count": 20,
   "id": "43b1aad7",
   "metadata": {},
   "outputs": [
    {
     "data": {
      "text/plain": [
       "array([[0.27462667, 0.17482306],\n",
       "       [0.587514  , 0.17756729],\n",
       "       [0.6658019 , 0.16025987],\n",
       "       [0.6439375 , 0.16776845],\n",
       "       [0.44648364, 0.16540387],\n",
       "       [0.6351591 , 0.17295788],\n",
       "       [0.8773    , 0.16863813],\n",
       "       [0.16293249, 0.14721638],\n",
       "       [0.30311993, 0.18939666],\n",
       "       [0.58622766, 0.18009204],\n",
       "       [0.7203723 , 0.162146  ],\n",
       "       [0.1606947 , 0.16739853],\n",
       "       [0.51924753, 0.19717854],\n",
       "       [0.7697383 , 0.18024799],\n",
       "       [0.63707024, 0.16735524],\n",
       "       [0.46318492, 0.17928736],\n",
       "       [0.14686616, 0.17813775],\n",
       "       [0.6783012 , 0.18916506],\n",
       "       [0.2840702 , 0.15860134],\n",
       "       [0.21190162, 0.1482145 ],\n",
       "       [0.49839738, 0.17094219],\n",
       "       [0.47439158, 0.17718303],\n",
       "       [0.11282977, 0.15936401],\n",
       "       [0.642935  , 0.18354054],\n",
       "       [0.81299406, 0.17184815],\n",
       "       [0.08059824, 0.15566535],\n",
       "       [0.45823896, 0.17799197],\n",
       "       [0.13072427, 0.16600971],\n",
       "       [0.79839927, 0.14731716],\n",
       "       [0.21620391, 0.1521075 ]], dtype=float32)"
      ]
     },
     "execution_count": 20,
     "metadata": {},
     "output_type": "execute_result"
    }
   ],
   "source": [
    "decoded_test[2]"
   ]
  },
  {
   "cell_type": "code",
   "execution_count": 21,
   "id": "9f83de44",
   "metadata": {},
   "outputs": [
    {
     "name": "stdout",
     "output_type": "stream",
     "text": [
      "[[2.990644e-01 3.352000e-04]\n",
      " [7.735282e-01 2.992800e-03]\n",
      " [7.309610e-01 2.924166e-01]\n",
      " [8.716311e-01 2.100680e-01]\n",
      " [3.298893e-01 9.424160e-02]\n",
      " [5.848028e-01 1.206412e-01]\n",
      " [9.723777e-01 2.747653e-01]\n",
      " [2.482327e-01 2.078027e-01]\n",
      " [5.366855e-01 4.675300e-03]\n",
      " [4.193797e-01 1.547142e-01]\n",
      " [8.979198e-01 2.698030e-02]\n",
      " [1.419817e-01 2.895554e-01]\n",
      " [6.040007e-01 3.293142e-01]\n",
      " [8.141228e-01 1.228458e-01]\n",
      " [9.904185e-01 1.237807e-01]\n",
      " [4.270444e-01 3.677650e-02]\n",
      " [2.075590e-01 9.940480e-02]\n",
      " [7.093927e-01 1.337432e-01]\n",
      " [2.900636e-01 3.314003e-01]\n",
      " [1.262072e-01 1.732292e-01]\n",
      " [6.536569e-01 4.198210e-02]\n",
      " [4.408216e-01 2.701317e-01]\n",
      " [4.005290e-02 2.582971e-01]\n",
      " [5.137588e-01 2.021446e-01]\n",
      " [8.564943e-01 3.419889e-01]\n",
      " [1.160887e-01 4.095560e-02]\n",
      " [5.207156e-01 5.226902e-01]\n",
      " [2.039200e-03 1.394003e-01]\n",
      " [6.289994e-01 2.188384e-01]\n",
      " [3.491023e-01 2.361448e-01]]\n"
     ]
    }
   ],
   "source": [
    "ts = testset.reshape(-1,numpart,dim)\n",
    "print(ts[2,:,:])"
   ]
  },
  {
   "cell_type": "code",
   "execution_count": 22,
   "id": "9a477297",
   "metadata": {},
   "outputs": [
    {
     "data": {
      "image/png": "[encoded data removed]",
      "text/plain": [
       "<Figure size 600x600 with 1 Axes>"
      ]
     },
     "metadata": {},
     "output_type": "display_data"
    }
   ],
   "source": [
    "if dim == 2:\n",
    "    ind = 1\n",
    "    plt.figure(figsize=(6, 6))\n",
    "    plt.scatter(decoded_test[ind,:,0], decoded_test[ind,:,1], s=20, c=\"b\")\n",
    "    plt.scatter(ts[ind,:,0], ts[ind,:,1], s=20, c=\"y\")\n",
    "    plt.xlim(0, 1)\n",
    "    plt.ylim(0, 1)"
   ]
  },
  {
   "cell_type": "code",
   "execution_count": 23,
   "id": "8dd8e9ef",
   "metadata": {},
   "outputs": [
    {
     "name": "stderr",
     "output_type": "stream",
     "text": [
      "MovieWriter imagemagick unavailable; using Pillow instead.\n"
     ]
    },
    {
     "data": {
      "image/png": "[encoded data removed]",
      "text/plain": [
       "<Figure size 640x480 with 1 Axes>"
      ]
     },
     "metadata": {},
     "output_type": "display_data"
    }
   ],
   "source": [
    "from matplotlib.animation import FuncAnimation\n",
    "\n",
    "# Create the figure and axis objects\n",
    "fig, ax = plt.subplots()\n",
    "\n",
    "nframes = 100\n",
    "\n",
    "# Define the animation function\n",
    "def update(ind):\n",
    "    ax.clear()\n",
    "    plt.scatter(decoded_test[ind,:,0], decoded_test[ind,:,1], s=20, c=\"b\")\n",
    "    plt.scatter(ts[ind,:,0], ts[ind,:,1], s=20, c=\"y\")\n",
    "    ax.set_title(f\"Scatter plot ({ind}/{nframes})\")\n",
    "    ax.set_xlim(0,1)\n",
    "    ax.set_ylim(0,1)\n",
    "\n",
    "# Create the animation\n",
    "animation = FuncAnimation(fig, update, frames=nframes, interval=300)\n",
    "\n",
    "# Save the animation as a GIF\n",
    "animation.save(\"prediction.gif\", writer=\"imagemagick\")\n"
   ]
  },
  {
   "cell_type": "code",
   "execution_count": 24,
   "id": "1f31d6bf",
   "metadata": {},
   "outputs": [],
   "source": [
    "if dim ==3:\n",
    "    fig = plt.figure(figsize=(15, 15))\n",
    "    ax = fig.add_subplot(projection='3d')\n",
    "    ax.scatter(decoded_test[1,:,0], decoded_test[1,:,1],decoded_test[1,:,2], s=30, c=\"b\", depthshade=True)\n",
    "    ax.scatter(ts[1,:,0], ts[1,:,1],ts[1,:,2], s=30, c=\"y\", depthshade=True)\n",
    "    ax.view_init(45,45)"
   ]
  },
  {
   "cell_type": "code",
   "execution_count": 25,
   "id": "04275f90",
   "metadata": {},
   "outputs": [
    {
     "name": "stdout",
     "output_type": "stream",
     "text": [
      "1563/1563 [==============================] - 4s 3ms/step\n",
      "0.16532225655472854 0.1593142357561813 0.32463649231090985\n"
     ]
    },
    {
     "data": {
      "image/png": "[encoded data removed]",
      "text/plain": [
       "<Figure size 800x500 with 2 Axes>"
      ]
     },
     "metadata": {},
     "output_type": "display_data"
    }
   ],
   "source": [
    "from scipy import linalg as la\n",
    "\n",
    "labels = [1]*len(data)\n",
    "def label_vis(vae, data, labels):\n",
    "    \n",
    "    #prediction\n",
    "    z_mean, _, _ = vae.encoder.predict(data)\n",
    "    \n",
    "    #PCA on z_mean\n",
    "    A = pd.DataFrame(z_mean)\n",
    "    l, V = la.eig(np.cov(A.T))\n",
    "    lr = np.copy(l.real)\n",
    "    n1 = np.argmax(l)\n",
    "    l[n1] = 0\n",
    "    n2 = np.argmax(l)\n",
    "    print(lr[n1]/sum(lr), lr[n2]/sum(lr), (lr[n1]+lr[n2])/sum(lr) )\n",
    "\n",
    "    #plot\n",
    "    plt.figure(figsize=(8, 5))\n",
    "    plt.scatter(z_mean[:, n1], z_mean[:, n2], c=labels)\n",
    "    plt.colorbar()\n",
    "    plt.xlabel(\"z[0]\")\n",
    "    plt.ylabel(\"z[1]\")\n",
    "    plt.show()\n",
    "\n",
    "label_vis(vae, vcs, labels)"
   ]
  },
  {
   "cell_type": "code",
   "execution_count": null,
   "id": "2bbb0932",
   "metadata": {},
   "outputs": [],
   "source": []
  },
  {
   "cell_type": "code",
   "execution_count": null,
   "id": "d8313ad6",
   "metadata": {},
   "outputs": [],
   "source": []
  }
 ],
 "metadata": {
  "kernelspec": {
   "display_name": "Python 3 (ipykernel)",
   "language": "python",
   "name": "python3"
  },
  "language_info": {
   "codemirror_mode": {
    "name": "ipython",
    "version": 3
   },
   "file_extension": ".py",
   "mimetype": "text/x-python",
   "name": "python",
   "nbconvert_exporter": "python",
   "pygments_lexer": "ipython3",
   "version": "3.8.3"
  }
 },
 "nbformat": 4,
 "nbformat_minor": 5
}
