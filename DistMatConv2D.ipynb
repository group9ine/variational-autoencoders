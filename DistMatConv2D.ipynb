{
 "cells": [
  {
   "cell_type": "markdown",
   "id": "cb34c7a8",
   "metadata": {},
   "source": [
    "# SBANN\n",
    "## ~~Just a Fit But Call it a Model Neural Network~~\n",
    "## Size and Batch Adaptable Neural Network"
   ]
  },
  {
   "cell_type": "markdown",
   "id": "2121bf15",
   "metadata": {},
   "source": [
    "Import necessary packages"
   ]
  },
  {
   "cell_type": "code",
   "execution_count": 1,
   "id": "79f7cdff",
   "metadata": {},
   "outputs": [
    {
     "name": "stderr",
     "output_type": "stream",
     "text": [
      "2023-05-30 12:39:47.509655: I tensorflow/core/platform/cpu_feature_guard.cc:193] This TensorFlow binary is optimized with oneAPI Deep Neural Network Library (oneDNN) to use the following CPU instructions in performance-critical operations:  SSE4.1 SSE4.2\n",
      "To enable them in other operations, rebuild TensorFlow with the appropriate compiler flags.\n"
     ]
    }
   ],
   "source": [
    "import numpy as np\n",
    "from scipy.spatial.distance import pdist, squareform\n",
    "import tensorflow as tf\n",
    "from tensorflow import keras\n",
    "from tensorflow.keras import layers\n",
    "import matplotlib.pyplot as plt\n",
    "import pandas as pd\n",
    "import seaborn as sns\n",
    "from scipy import linalg as la\n",
    "from keras import regularizers\n",
    "from keras import backend as K\n",
    "from keras.layers import Conv2D, Conv2DTranspose, Input, Flatten, Dense, Lambda, Reshape"
   ]
  },
  {
   "cell_type": "markdown",
   "id": "d142e12f",
   "metadata": {},
   "source": [
    "### Data"
   ]
  },
  {
   "cell_type": "markdown",
   "id": "728ed42a",
   "metadata": {},
   "source": [
    "Define core features of the dataset"
   ]
  },
  {
   "cell_type": "code",
   "execution_count": 2,
   "id": "04bdb140",
   "metadata": {},
   "outputs": [],
   "source": [
    "dim = 2\n",
    "numpart = 30\n",
    "latent_dim = 4\n",
    "box_size = 10"
   ]
  },
  {
   "cell_type": "markdown",
   "id": "a4ec27dc",
   "metadata": {},
   "source": [
    "Import and reshape data"
   ]
  },
  {
   "cell_type": "code",
   "execution_count": 3,
   "id": "f20664e3",
   "metadata": {},
   "outputs": [],
   "source": [
    "#fname = r'\\\\wsl$\\Ubuntu\\home\\alepitte\\ale\\uni\\variational-autoencoders\\mc-sampling\\dump\\test_30_10_1_0.75_0.2_10000_2500_5_x.txt'\n",
    "fname = '/Users/lorenzobarbiero/Documents/GitHub/variational-autoencoders/mc-sampling/good-runs/test_30_10_1_0.75_0.2_10000_2500_5_x.txt'\n",
    "\n",
    "with open(fname) as f:\n",
    "    data = [\n",
    "        [float(i.strip()) for i in s.split(\" \") if i != \"\"]\n",
    "        for s in f.read().split(\"\\n\")\n",
    "        if s != \"\"]\n",
    "\n",
    "    \n",
    "#labels = [row[-1] for row in data]\n",
    "\n",
    "#for row in data:\n",
    "#    del row[-1]"
   ]
  },
  {
   "cell_type": "code",
   "execution_count": 4,
   "id": "3be071e6",
   "metadata": {},
   "outputs": [
    {
     "name": "stdout",
     "output_type": "stream",
     "text": [
      "[9.886406, 1.733028, 5.70476, 2.535296, 2.840124, 2.350916, 1.765133, 0.618148, 4.150855, 1.776409, 0.273838, 2.5205, 2.162391, 1.565633, 8.438227, 0.122682, 0.77619, 1.349542, 7.692682, 1.124421, 3.571692, 3.226635, 5.117197, 0.406894, 5.477664, 3.650954, 7.615125, 3.490127, 2.773286, 0.202774, 6.421184, 1.101841, 0.228484, 0.43304, 7.187389, 0.15407, 5.486495, 1.438391, 9.513661, 0.717713, 3.18499, 1.307135, 1.384128, 2.413111, 9.879337, 3.398973, 7.846247, 2.163855, 3.992875, 0.48304, 8.812831, 1.430235, 6.729518, 2.117621, 4.687167, 2.894377, 8.77692, 2.687815, 6.587482, 3.315774]\n"
     ]
    }
   ],
   "source": [
    "print(data[1])"
   ]
  },
  {
   "cell_type": "code",
   "execution_count": 5,
   "id": "d468582e",
   "metadata": {},
   "outputs": [
    {
     "name": "stdout",
     "output_type": "stream",
     "text": [
      "(10000, 30, 2) [[0.69907447 0.12254359]\n",
      " [0.40338745 0.1792725 ]\n",
      " [0.20082709 0.16623486]\n",
      " [0.12481375 0.04370966]\n",
      " [0.29350977 0.12561109]\n",
      " [0.01936327 0.17822626]\n",
      " [0.15290413 0.11070697]\n",
      " [0.59667275 0.00867493]\n",
      " [0.05488492 0.09542703]\n",
      " [0.54395476 0.07950857]\n",
      " [0.25255676 0.22815755]\n",
      " [0.36184047 0.02877175]\n",
      " [0.38732934 0.25816143]\n",
      " [0.53847065 0.24678925]\n",
      " [0.19610093 0.01433829]\n",
      " [0.45404627 0.07791192]\n",
      " [0.01615626 0.03062055]\n",
      " [0.50822515 0.01089439]\n",
      " [0.38795378 0.1017096 ]\n",
      " [0.67271742 0.05074997]\n",
      " [0.2252128  0.0924284 ]\n",
      " [0.09787263 0.17063272]\n",
      " [0.69857462 0.24034369]\n",
      " [0.55481345 0.15300765]\n",
      " [0.2823389  0.03415609]\n",
      " [0.62316126 0.10113289]\n",
      " [0.47584878 0.14973842]\n",
      " [0.33143276 0.20466336]\n",
      " [0.62062196 0.19005722]\n",
      " [0.46580532 0.23446063]]\n"
     ]
    }
   ],
   "source": [
    "vcs = np.array(data).reshape((-1,numpart,dim))/(box_size*np.sqrt(2))\n",
    "#vcs = np.array(data)\n",
    "print(vcs.shape,vcs[1])"
   ]
  },
  {
   "cell_type": "code",
   "execution_count": 6,
   "id": "935ce942",
   "metadata": {},
   "outputs": [
    {
     "name": "stdout",
     "output_type": "stream",
     "text": [
      "(10000, 30, 2) \n",
      " [[0.01615626 0.03062055]\n",
      " [0.05488492 0.09542703]\n",
      " [0.12481375 0.04370966]\n",
      " [0.01936327 0.17822626]\n",
      " [0.15290413 0.11070697]\n",
      " [0.19610093 0.01433829]\n",
      " [0.09787263 0.17063272]\n",
      " [0.2252128  0.0924284 ]\n",
      " [0.20082709 0.16623486]\n",
      " [0.2823389  0.03415609]\n",
      " [0.29350977 0.12561109]\n",
      " [0.25255676 0.22815755]\n",
      " [0.36184047 0.02877175]\n",
      " [0.33143276 0.20466336]\n",
      " [0.38795378 0.1017096 ]\n",
      " [0.40338745 0.1792725 ]\n",
      " [0.45404627 0.07791192]\n",
      " [0.38732934 0.25816143]\n",
      " [0.47584878 0.14973842]\n",
      " [0.50822515 0.01089439]\n",
      " [0.46580532 0.23446063]\n",
      " [0.54395476 0.07950857]\n",
      " [0.55481345 0.15300765]\n",
      " [0.53847065 0.24678925]\n",
      " [0.59667275 0.00867493]\n",
      " [0.62316126 0.10113289]\n",
      " [0.62062196 0.19005722]\n",
      " [0.67271742 0.05074997]\n",
      " [0.69907447 0.12254359]\n",
      " [0.69857462 0.24034369]]\n"
     ]
    }
   ],
   "source": [
    "sortmode = 1\n",
    "if sortmode==1:\n",
    "\n",
    "    # Calculate distances from (0, 0)\n",
    "    distances = np.sqrt(vcs[:,:,0]**2 + vcs[:,:,1]**2)\n",
    "    idx = np.argsort(distances, axis=1)\n",
    "    sorted_vcs = np.empty_like(vcs)\n",
    "    for i in range(len(vcs)):\n",
    "        sorted_vcs[i] = vcs[i][idx[i]]\n",
    "\n",
    "    print(sorted_vcs.shape,\"\\n\",sorted_vcs[1])"
   ]
  },
  {
   "cell_type": "markdown",
   "id": "ecc829a1",
   "metadata": {},
   "source": [
    "### Compute distance matrix"
   ]
  },
  {
   "cell_type": "code",
   "execution_count": 7,
   "id": "6d724534",
   "metadata": {},
   "outputs": [
    {
     "name": "stdout",
     "output_type": "stream",
     "text": [
      "(10000, 30, 30) \n",
      " [[0.         0.07549695 0.10944302 0.14764055 0.15847339 0.18067982\n",
      "  0.16211407 0.21800195 0.22911691 0.26620612 0.29316919 0.30806828\n",
      "  0.34568916 0.36012521 0.37853276 0.41478355 0.44043631 0.43536686\n",
      "  0.47487502 0.49246413 0.49369531 0.53005782 0.55238589 0.56527978\n",
      "  0.58093116 0.61108678 0.62513906 0.65686966 0.68907701 0.71391779]\n",
      " [0.07549695 0.         0.08697544 0.09009717 0.09920304 0.16284148\n",
      "  0.0866247  0.17035427 0.16221241 0.23556197 0.24052629 0.23809987\n",
      "  0.31410927 0.29734035 0.33312811 0.35844675 0.39954545 0.37013751\n",
      "  0.42445294 0.46115413 0.43380401 0.48932883 0.5032336  0.50672052\n",
      "  0.54868933 0.56830498 0.57359679 0.61944575 0.64476002 0.65980093]\n",
      " [0.10944302 0.08697544 0.         0.17092255 0.07264784 0.07710084\n",
      "  0.12975086 0.11159518 0.14418895 0.15781458 0.1875265  0.22436421\n",
      "  0.23749696 0.26191126 0.26945625 0.30980734 0.3310043  0.33897492\n",
      "  0.36669836 0.38481313 0.3907188  0.42066703 0.44367306 0.46081813\n",
      "  0.47315785 0.50164496 0.51695589 0.5479489  0.57964658 0.60651997]\n",
      " [0.14764055 0.09009717 0.17092255 0.         0.14963962 0.24103002\n",
      "  0.07887573 0.22301413 0.1818596  0.29985396 0.27914989 0.23847922\n",
      "  0.37366734 0.3131873  0.37644889 0.3840256  0.44610793 0.37654835\n",
      "  0.45737357 0.51670678 0.44996978 0.53379904 0.53604372 0.52361566\n",
      "  0.60169252 0.60869976 0.60137508 0.66567398 0.68198818 0.68204591]\n",
      " [0.15847339 0.09920304 0.07264784 0.14963962 0.         0.10560723\n",
      "  0.08136069 0.07458317 0.07334819 0.15037751 0.14139334 0.15403014\n",
      "  0.22442766 0.20174308 0.23522179 0.25969814 0.3029226  0.27694403\n",
      "  0.32529479 0.36907394 0.33648495 0.39229317 0.40412924 0.40887642\n",
      "  0.45534726 0.47035457 0.47440113 0.52325968 0.54629859 0.56085823]\n",
      " [0.18067982 0.16284148 0.07710084 0.24103002 0.10560723 0.\n",
      "  0.18459888 0.08334007 0.15197009 0.08848577 0.14788549 0.22114687\n",
      "  0.16636682 0.23353444 0.21081096 0.26489808 0.26566409 0.30986776\n",
      "  0.31079262 0.31214322 0.34812972 0.35390599 0.38458271 0.41382421\n",
      "  0.40061185 0.43579103 0.45945103 0.47800532 0.51448107 0.5509612 ]\n",
      " [0.16211407 0.0866247  0.12975086 0.07887573 0.08136069 0.18459888\n",
      "  0.         0.14943706 0.10304835 0.22946389 0.20075069 0.1650342\n",
      "  0.29967241 0.23602631 0.29815679 0.30563696 0.36804458 0.30240116\n",
      "  0.37855322 0.44034705 0.37342799 0.45529428 0.45728061 0.44713134\n",
      "  0.52443483 0.52986637 0.5231101  0.5872124  0.60312206 0.60473341]\n",
      " [0.21800195 0.17035427 0.11159518 0.22301413 0.07458317 0.08334007\n",
      "  0.14943706 0.         0.07773067 0.08160303 0.07593133 0.13845611\n",
      "  0.15072919 0.15452949 0.16300542 0.19821226 0.22929345 0.23183875\n",
      "  0.25710471 0.29452298 0.27938846 0.3190037  0.33512152 0.3492245\n",
      "  0.3807849  0.39804364 0.40728343 0.44944129 0.47481766 0.49593381]\n",
      " [0.22911691 0.16221241 0.14418895 0.1818596  0.07334819 0.15197009\n",
      "  0.10304835 0.07773067 0.         0.15520624 0.10119471 0.08068691\n",
      "  0.21171069 0.1361418  0.19793915 0.2029795  0.26818071 0.20792686\n",
      "  0.27551599 0.34441868 0.27362057 0.35391813 0.35423339 0.34711984\n",
      "  0.42605037 0.42732237 0.42047026 0.48581606 0.50015935 0.50323426]\n",
      " [0.26620612 0.23556197 0.15781458 0.29985396 0.15037751 0.08848577\n",
      "  0.22946389 0.08160303 0.15520624 0.         0.09213471 0.19627415\n",
      "  0.07968369 0.17743432 0.12537137 0.18897493 0.1771948  0.24738914\n",
      "  0.22540042 0.22708083 0.27162812 0.26551781 0.29726768 0.33289088\n",
      "  0.31536497 0.347341   0.37247899 0.39073104 0.42600574 0.46450565]\n",
      " [0.29316919 0.24052629 0.1875265  0.27914989 0.14139334 0.14788549\n",
      "  0.20075069 0.07593133 0.10119471 0.09213471 0.         0.11042158\n",
      "  0.11851979 0.08767791 0.09742152 0.12228103 0.16747292 0.16239367\n",
      "  0.18392836 0.24343914 0.20379887 0.25465297 0.26273596 0.27329468\n",
      "  0.32493362 0.33055905 0.3334002  0.38652636 0.4055763  0.42100012]\n",
      " [0.30806828 0.23809987 0.22436421 0.23847922 0.15403014 0.22114687\n",
      "  0.1650342  0.13845611 0.08068691 0.19627415 0.11042158 0.\n",
      "  0.22737112 0.08230066 0.18526045 0.15855486 0.25133995 0.13807201\n",
      "  0.23666196 0.33551394 0.21334169 0.32712278 0.31145884 0.28652032\n",
      "  0.40815247 0.39176901 0.37003193 0.45607941 0.45883807 0.4461843 ]\n",
      " [0.34568916 0.31410927 0.23749696 0.37366734 0.22442766 0.16636682\n",
      "  0.29967241 0.15072919 0.21171069 0.07968369 0.11851979 0.22737112\n",
      "  0.         0.17850066 0.07747151 0.15613016 0.10448286 0.23080145\n",
      "  0.16622524 0.14747228 0.2304704  0.18904983 0.22950627 0.2805884\n",
      "  0.23569065 0.27115436 0.30492764 0.31165289 0.35002847 0.39768401]\n",
      " [0.36012521 0.29734035 0.26191126 0.3131873  0.20174308 0.23353444\n",
      "  0.23602631 0.15452949 0.1361418  0.17743432 0.08767791 0.08230066\n",
      "  0.17850066 0.         0.1174483  0.07630317 0.17635192 0.07737229\n",
      "  0.15450805 0.26230128 0.13763671 0.24663601 0.22927548 0.2112801\n",
      "  0.32979345 0.30955464 0.28955783 0.37438557 0.37670159 0.36887157]\n",
      " [0.37853276 0.33312811 0.26945625 0.37644889 0.23522179 0.21081096\n",
      "  0.29815679 0.16300542 0.19793915 0.12537137 0.09742152 0.18526045\n",
      "  0.07747151 0.1174483  0.         0.07908351 0.07024633 0.15645308\n",
      "  0.10016136 0.15070701 0.15389508 0.15757281 0.174567   0.20905366\n",
      "  0.2285149  0.23520818 0.24887705 0.28928742 0.31181748 0.34015395]\n",
      " [0.41478355 0.35844675 0.30980734 0.3840256  0.25969814 0.26489808\n",
      "  0.30563696 0.19821226 0.2029795  0.18897493 0.12228103 0.15855486\n",
      "  0.15613016 0.07630317 0.07908351 0.         0.11331497 0.08050669\n",
      "  0.07824901 0.19834851 0.08331699 0.17237172 0.15368694 0.1510165\n",
      "  0.25780369 0.23325164 0.21750206 0.29842365 0.3010797  0.30143848]\n",
      " [0.44043631 0.39954545 0.3310043  0.44610793 0.3029226  0.26566409\n",
      "  0.36804458 0.22929345 0.26818071 0.1771948  0.16747292 0.25133995\n",
      "  0.10448286 0.17635192 0.07024633 0.11331497 0.         0.19220051\n",
      "  0.0750626  0.0861783  0.15698972 0.08992266 0.12567176 0.1888042\n",
      "  0.1585436  0.17070176 0.20080844 0.22035163 0.24905984 0.29356122]\n",
      " [0.43536686 0.37013751 0.33897492 0.37654835 0.27694403 0.30986776\n",
      "  0.30240116 0.23183875 0.20792686 0.24738914 0.16239367 0.13807201\n",
      "  0.23080145 0.07737229 0.15645308 0.08050669 0.19220051 0.\n",
      "  0.13996872 0.27523951 0.08197688 0.23758865 0.19775804 0.15156855\n",
      "  0.32568111 0.28332783 0.24303011 0.35279721 0.33996651 0.31175487]\n",
      " [0.47487502 0.42445294 0.36669836 0.45737357 0.32529479 0.31079262\n",
      "  0.37855322 0.25710471 0.27551599 0.22540042 0.18392836 0.23666196\n",
      "  0.16622524 0.15450805 0.10016136 0.07824901 0.0750626  0.13996872\n",
      "  0.         0.1425689  0.08531544 0.09782973 0.07903231 0.11550049\n",
      "  0.1857346  0.15512402 0.15028267 0.2203542  0.22487612 0.24044981]\n",
      " [0.49246413 0.46115413 0.38481313 0.51670678 0.36907394 0.31214322\n",
      "  0.44034705 0.29452298 0.34441868 0.22708083 0.24343914 0.33551394\n",
      "  0.14747228 0.26230128 0.15070701 0.19834851 0.0861783  0.27523951\n",
      "  0.1425689  0.         0.22755505 0.07735962 0.14955483 0.23782593\n",
      "  0.08847545 0.14612766 0.21150027 0.16925181 0.22110858 0.29812732]\n",
      " [0.49369531 0.43380401 0.3907188  0.44996978 0.33648495 0.34812972\n",
      "  0.37342799 0.27938846 0.27362057 0.27162812 0.20379887 0.21334169\n",
      "  0.2304704  0.13763671 0.15389508 0.08331699 0.15698972 0.08197688\n",
      "  0.08531544 0.22755505 0.         0.17354387 0.12065253 0.07370377\n",
      "  0.26097024 0.20624543 0.16105855 0.27669879 0.25872751 0.23284363]\n",
      " [0.53005782 0.48932883 0.42066703 0.53379904 0.39229317 0.35390599\n",
      "  0.45529428 0.3190037  0.35391813 0.26551781 0.25465297 0.32712278\n",
      "  0.18904983 0.24663601 0.15757281 0.17237172 0.08992266 0.23758865\n",
      "  0.09782973 0.07735962 0.17354387 0.         0.07429688 0.16737055\n",
      "  0.08829831 0.0821053  0.13453202 0.13193513 0.16097869 0.22310364]\n",
      " [0.55238589 0.5032336  0.44367306 0.53604372 0.40412924 0.38458271\n",
      "  0.45728061 0.33512152 0.35423339 0.29726768 0.26273596 0.31145884\n",
      "  0.22950627 0.22927548 0.174567   0.15368694 0.12567176 0.19775804\n",
      "  0.07903231 0.14955483 0.12065253 0.07429688 0.         0.09519493\n",
      "  0.1502802  0.08580451 0.07552107 0.15607043 0.14744254 0.16821075]\n",
      " [0.56527978 0.50672052 0.46081813 0.52361566 0.40887642 0.41382421\n",
      "  0.44713134 0.3492245  0.34711984 0.33289088 0.27329468 0.28652032\n",
      "  0.2805884  0.2112801  0.20905366 0.1510165  0.1888042  0.15156855\n",
      "  0.11550049 0.23782593 0.07370377 0.16737055 0.09519493 0.\n",
      "  0.24512428 0.1684882  0.09983667 0.23759965 0.20305312 0.16023366]\n",
      " [0.58093116 0.54868933 0.47315785 0.60169252 0.45534726 0.40061185\n",
      "  0.52443483 0.3807849  0.42605037 0.31536497 0.32493362 0.40815247\n",
      "  0.23569065 0.32979345 0.2285149  0.25780369 0.1585436  0.32568111\n",
      "  0.1857346  0.08847545 0.26097024 0.08829831 0.1502802  0.24512428\n",
      "  0.         0.09617752 0.18295656 0.08690858 0.15314106 0.25308971]\n",
      " [0.61108678 0.56830498 0.50164496 0.60869976 0.47035457 0.43579103\n",
      "  0.52986637 0.39804364 0.42732237 0.347341   0.33055905 0.39176901\n",
      "  0.27115436 0.30955464 0.23520818 0.23325164 0.17070176 0.28332783\n",
      "  0.15512402 0.14612766 0.20624543 0.0821053  0.08580451 0.1684882\n",
      "  0.09617752 0.         0.08896058 0.07067002 0.0788748  0.15832505]\n",
      " [0.62513906 0.57359679 0.51695589 0.60137508 0.47440113 0.45945103\n",
      "  0.5231101  0.40728343 0.42047026 0.37247899 0.3334002  0.37003193\n",
      "  0.30492764 0.28955783 0.24887705 0.21750206 0.20080844 0.24303011\n",
      "  0.15028267 0.21150027 0.16105855 0.13453202 0.07552107 0.09983667\n",
      "  0.18295656 0.08896058 0.         0.14872944 0.10350308 0.092765  ]\n",
      " [0.65686966 0.61944575 0.5479489  0.66567398 0.52325968 0.47800532\n",
      "  0.5872124  0.44944129 0.48581606 0.39073104 0.38652636 0.45607941\n",
      "  0.31165289 0.37438557 0.28928742 0.29842365 0.22035163 0.35279721\n",
      "  0.2203542  0.16925181 0.27669879 0.13193513 0.15607043 0.23759965\n",
      "  0.08690858 0.07067002 0.14872944 0.         0.07647887 0.19134882]\n",
      " [0.68907701 0.64476002 0.57964658 0.68198818 0.54629859 0.51448107\n",
      "  0.60312206 0.47481766 0.50015935 0.42600574 0.4055763  0.45883807\n",
      "  0.35002847 0.37670159 0.31181748 0.3010797  0.24905984 0.33996651\n",
      "  0.22487612 0.22110858 0.25872751 0.16097869 0.14744254 0.20305312\n",
      "  0.15314106 0.0788748  0.10350308 0.07647887 0.         0.11780116]\n",
      " [0.71391779 0.65980093 0.60651997 0.68204591 0.56085823 0.5509612\n",
      "  0.60473341 0.49593381 0.50323426 0.46450565 0.42100012 0.4461843\n",
      "  0.39768401 0.36887157 0.34015395 0.30143848 0.29356122 0.31175487\n",
      "  0.24044981 0.29812732 0.23284363 0.22310364 0.16821075 0.16023366\n",
      "  0.25308971 0.15832505 0.092765   0.19134882 0.11780116 0.        ]]\n"
     ]
    }
   ],
   "source": [
    "dm = np.zeros((len(vcs),numpart,numpart))\n",
    "\n",
    "for i in range(len(vcs)):\n",
    "               dm[i]=squareform(pdist(sorted_vcs[i], metric='euclidean'), force='no', checks=True)\n",
    "               \n",
    "print(dm.shape, '\\n', dm[1])"
   ]
  },
  {
   "cell_type": "markdown",
   "id": "dc556d3b",
   "metadata": {},
   "source": [
    "Split in training and test set"
   ]
  },
  {
   "cell_type": "code",
   "execution_count": 8,
   "id": "7e97d525",
   "metadata": {},
   "outputs": [
    {
     "name": "stdout",
     "output_type": "stream",
     "text": [
      "(8000, 30, 2)\n",
      "(2000, 30, 2)\n",
      "(8000, 30, 30)\n",
      "(2000, 30, 30)\n"
     ]
    }
   ],
   "source": [
    "train_perc=0.8\n",
    "\n",
    "trainset_conf = sorted_vcs[:int(train_perc*len(dm))]\n",
    "print(trainset_conf.shape)\n",
    "testset_conf = sorted_vcs[int(train_perc*len(dm)):]\n",
    "print(testset_conf.shape)\n",
    "\n",
    "trainset_mat = dm[:int(train_perc*len(dm))]\n",
    "print(trainset_mat.shape)\n",
    "testset_mat = dm[int(train_perc*len(dm)):]\n",
    "print(testset_mat.shape)"
   ]
  },
  {
   "cell_type": "markdown",
   "id": "5a611a5b",
   "metadata": {},
   "source": [
    "### Sampling class"
   ]
  },
  {
   "cell_type": "code",
   "execution_count": 9,
   "id": "1f699c38",
   "metadata": {},
   "outputs": [],
   "source": [
    "class Sampling(layers.Layer):\n",
    "    \"\"\"Uses (z_mean, z_log_var) to sample z, the vector encoding a digit.\"\"\"\n",
    "\n",
    "    def call(self, inputs):\n",
    "        z_mean, z_log_var = inputs\n",
    "        batch = tf.shape(z_mean)[0]\n",
    "        dim = tf.shape(z_mean)[1]\n",
    "        epsilon = tf.keras.backend.random_normal(shape=(batch, dim))\n",
    "        return z_mean + tf.exp(0.5 * z_log_var) * epsilon"
   ]
  },
  {
   "cell_type": "code",
   "execution_count": 10,
   "id": "c8aec76f",
   "metadata": {},
   "outputs": [],
   "source": [
    "class DistanceMatrixLayer(layers.Layer):\n",
    "    def __init__(self):\n",
    "        super(DistanceMatrixLayer, self).__init__()\n",
    "\n",
    "    def call(self, inputs):\n",
    "        numpart, dim = inputs.shape[0], inputs.shape[1]\n",
    "\n",
    "        arrayd = []\n",
    "        \n",
    "        for i, data in enumerate(inputs):\n",
    "            for j, data in enumerate(inputs):\n",
    "                arrayd[j+i*inputs.shape[0]] = np.linalg.norm(data[i]-data[j])\n",
    "        \n",
    "        arrayd = np.array(arrayd)\n",
    "\n",
    "        return arrayd"
   ]
  },
  {
   "cell_type": "code",
   "execution_count": 11,
   "id": "5d8812e7",
   "metadata": {},
   "outputs": [],
   "source": [
    "class DistanceMatrixLayer(layers.Layer):\n",
    "    def __init__(self):\n",
    "        super(DistanceMatrixLayer, self).__init__()\n",
    "\n",
    "    def call(self, inputs):\n",
    "        numpart, dim = inputs.shape[1], inputs.shape[2]\n",
    "\n",
    "        # Compute pairwise distances\n",
    "        expanded_inputs = tf.expand_dims(inputs, axis=1)\n",
    "        expanded_inputs_transpose = tf.transpose(expanded_inputs, perm=[0, 2, 1, 3])\n",
    "        pairwise_distances = tf.norm(expanded_inputs - expanded_inputs_transpose, axis=-1)\n",
    "\n",
    "        # Normalize distances\n",
    "        #normalized_distances = pairwise_distances / (numpart * dim)\n",
    "\n",
    "        return tf.keras.layers.Flatten()(pairwise_distances)"
   ]
  },
  {
   "cell_type": "markdown",
   "id": "0e55e13e",
   "metadata": {},
   "source": [
    "### Encoder"
   ]
  },
  {
   "cell_type": "code",
   "execution_count": 12,
   "id": "67faee0e",
   "metadata": {
    "scrolled": false
   },
   "outputs": [
    {
     "name": "stdout",
     "output_type": "stream",
     "text": [
      "Model: \"encoder\"\n",
      "__________________________________________________________________________________________________\n",
      " Layer (type)                   Output Shape         Param #     Connected to                     \n",
      "==================================================================================================\n",
      " input_1 (InputLayer)           [(None, 30, 30, 1)]  0           []                               \n",
      "                                                                                                  \n",
      " conv2d (Conv2D)                (None, 30, 30, 32)   320         ['input_1[0][0]']                \n",
      "                                                                                                  \n",
      " conv2d_1 (Conv2D)              (None, 30, 30, 64)   18496       ['conv2d[0][0]']                 \n",
      "                                                                                                  \n",
      " flatten (Flatten)              (None, 57600)        0           ['conv2d_1[0][0]']               \n",
      "                                                                                                  \n",
      " z_mean (Dense)                 (None, 4)            230404      ['flatten[0][0]']                \n",
      "                                                                                                  \n",
      " z_log_var (Dense)              (None, 4)            230404      ['flatten[0][0]']                \n",
      "                                                                                                  \n",
      " sampling (Sampling)            (None, 4)            0           ['z_mean[0][0]',                 \n",
      "                                                                  'z_log_var[0][0]']              \n",
      "                                                                                                  \n",
      "==================================================================================================\n",
      "Total params: 479,624\n",
      "Trainable params: 479,624\n",
      "Non-trainable params: 0\n",
      "__________________________________________________________________________________________________\n"
     ]
    },
    {
     "name": "stderr",
     "output_type": "stream",
     "text": [
      "2023-05-30 12:39:51.365991: I tensorflow/core/platform/cpu_feature_guard.cc:193] This TensorFlow binary is optimized with oneAPI Deep Neural Network Library (oneDNN) to use the following CPU instructions in performance-critical operations:  SSE4.1 SSE4.2\n",
      "To enable them in other operations, rebuild TensorFlow with the appropriate compiler flags.\n"
     ]
    }
   ],
   "source": [
    "encoder_inputs = keras.Input(shape=(numpart, numpart, 1))\n",
    "x = Conv2D(32, 3, padding='same', activation='relu')(encoder_inputs)\n",
    "#x = Conv2D(128, 3, padding='same', activation='relu')(x)\n",
    "x = Conv2D(64, 3, padding='same', activation='relu')(x)\n",
    "conv_shape = K.int_shape(x) #Shape of conv to be provided to decoder\n",
    "x = Flatten()(x) #Flatten\n",
    "\n",
    "\n",
    "z_mean = layers.Dense(latent_dim, name=\"z_mean\")(x)\n",
    "z_log_var = layers.Dense(latent_dim, name=\"z_log_var\")(x)\n",
    "z = Sampling()([z_mean, z_log_var])\n",
    "encoder = keras.Model(encoder_inputs, [z_mean, z_log_var, z], name=\"encoder\")\n",
    "encoder.summary()"
   ]
  },
  {
   "cell_type": "markdown",
   "id": "fcc3e390",
   "metadata": {},
   "source": [
    "### Decoder"
   ]
  },
  {
   "cell_type": "code",
   "execution_count": 13,
   "id": "c0907c43",
   "metadata": {},
   "outputs": [
    {
     "name": "stdout",
     "output_type": "stream",
     "text": [
      "Model: \"decoder\"\n",
      "_________________________________________________________________\n",
      " Layer (type)                Output Shape              Param #   \n",
      "=================================================================\n",
      " decoder_input (InputLayer)  [(None, 4)]               0         \n",
      "                                                                 \n",
      " dense (Dense)               (None, 57600)             288000    \n",
      "                                                                 \n",
      " reshape (Reshape)           (None, 30, 30, 64)        0         \n",
      "                                                                 \n",
      " conv2d_transpose (Conv2DTra  (None, 30, 30, 64)       36928     \n",
      " nspose)                                                         \n",
      "                                                                 \n",
      " conv2d_transpose_1 (Conv2DT  (None, 30, 30, 32)       18464     \n",
      " ranspose)                                                       \n",
      "                                                                 \n",
      " decoder_output (Conv2DTrans  (None, 30, 30, 1)        289       \n",
      " pose)                                                           \n",
      "                                                                 \n",
      "=================================================================\n",
      "Total params: 343,681\n",
      "Trainable params: 343,681\n",
      "Non-trainable params: 0\n",
      "_________________________________________________________________\n"
     ]
    }
   ],
   "source": [
    "decoder_input = Input(shape=(latent_dim, ), name='decoder_input')\n",
    "x = Dense(conv_shape[1]*conv_shape[2]*conv_shape[3], activation='relu')(decoder_input)\n",
    "x = Reshape((conv_shape[1], conv_shape[2], conv_shape[3]))(x)\n",
    "x = Conv2DTranspose(64, 3, padding='same', activation='relu')(x)\n",
    "#x = Conv2DTranspose(128, 3, padding='same', activation='relu')(x)\n",
    "x = Conv2DTranspose(32, 3, padding='same', activation='relu')(x)\n",
    "decoder_outputs = Conv2DTranspose(1, 3, padding='same', activation='sigmoid', name='decoder_output')(x)\n",
    "\n",
    "decoder = keras.Model(decoder_input, decoder_outputs, name='decoder')\n",
    "decoder.summary()"
   ]
  },
  {
   "cell_type": "markdown",
   "id": "8a3299e2",
   "metadata": {},
   "source": [
    "### VAE Class"
   ]
  },
  {
   "cell_type": "code",
   "execution_count": 14,
   "id": "5816189c",
   "metadata": {},
   "outputs": [],
   "source": [
    "class VAE(keras.Model):\n",
    "    def __init__(self, encoder, decoder, **kwargs):\n",
    "        super().__init__(**kwargs)\n",
    "        self.encoder = encoder\n",
    "        self.decoder = decoder\n",
    "        self.total_loss_tracker = keras.metrics.Mean(name=\"total_loss\")\n",
    "        self.reconstruction_loss_tracker = keras.metrics.Mean(\n",
    "            name=\"reconstruction_loss\"\n",
    "        )\n",
    "        self.kl_loss_tracker = keras.metrics.Mean(name=\"kl_loss\")\n",
    "\n",
    "    @property\n",
    "    def metrics(self):\n",
    "        return [\n",
    "            self.total_loss_tracker,\n",
    "            self.reconstruction_loss_tracker,\n",
    "            self.kl_loss_tracker,\n",
    "        ]\n",
    "\n",
    "    def train_step(self, data):\n",
    "        with tf.GradientTape() as tape:\n",
    "            z_mean, z_log_var, z = self.encoder(data)\n",
    "            reconstruction = self.decoder(z)\n",
    "            size = reconstruction.shape[1:]  # Extract dimensions excluding the first 'None' dimension\n",
    "            noise = np.random.normal(0, 0.1, size=size)\n",
    "            reconstruction = reconstruction + noise\n",
    "            \n",
    "            # Reshape data to match decoder output shape\n",
    "            data = tf.expand_dims(data, axis=-1)\n",
    "            \n",
    "            reconstruction_loss = tf.reduce_mean(\n",
    "                keras.losses.mean_squared_error(data, reconstruction)\n",
    "            )\n",
    "            kl_loss = -0.5 * (\n",
    "                1 + z_log_var - tf.square(z_mean) - tf.exp(z_log_var)\n",
    "            )\n",
    "            kl_loss = tf.reduce_mean(kl_loss)\n",
    "            total_loss = reconstruction_loss + reg_lambda * kl_loss\n",
    "        grads = tape.gradient(total_loss, self.trainable_weights)\n",
    "        self.optimizer.apply_gradients(zip(grads, self.trainable_weights))\n",
    "        self.total_loss_tracker.update_state(total_loss)\n",
    "        self.reconstruction_loss_tracker.update_state(reconstruction_loss)\n",
    "        self.kl_loss_tracker.update_state(kl_loss)\n",
    "        return {\n",
    "            \"loss\": self.total_loss_tracker.result(),\n",
    "            \"reconstruction_loss\": self.reconstruction_loss_tracker.result(),\n",
    "            \"kl_loss\": self.kl_loss_tracker.result(),\n",
    "        }"
   ]
  },
  {
   "cell_type": "markdown",
   "id": "77af32ab",
   "metadata": {},
   "source": [
    "### Train VAE"
   ]
  },
  {
   "cell_type": "code",
   "execution_count": 15,
   "id": "1f85776b",
   "metadata": {
    "scrolled": false
   },
   "outputs": [
    {
     "name": "stdout",
     "output_type": "stream",
     "text": [
      "Epoch 1/10\n",
      "63/63 - 28s - loss: 0.0185 - reconstruction_loss: 0.0169 - kl_loss: 1.6218 - 28s/epoch - 447ms/step\n",
      "Epoch 2/10\n",
      "63/63 - 28s - loss: 0.0054 - reconstruction_loss: 0.0050 - kl_loss: 0.4749 - 28s/epoch - 442ms/step\n",
      "Epoch 3/10\n",
      "63/63 - 29s - loss: 0.0049 - reconstruction_loss: 0.0046 - kl_loss: 0.3120 - 29s/epoch - 458ms/step\n",
      "Epoch 4/10\n",
      "63/63 - 33s - loss: 0.0046 - reconstruction_loss: 0.0045 - kl_loss: 0.1600 - 33s/epoch - 517ms/step\n",
      "Epoch 5/10\n",
      "63/63 - 33s - loss: 0.0045 - reconstruction_loss: 0.0045 - kl_loss: 0.0469 - 33s/epoch - 523ms/step\n",
      "Epoch 6/10\n",
      "63/63 - 35s - loss: 0.0044 - reconstruction_loss: 0.0044 - kl_loss: 0.0088 - 35s/epoch - 549ms/step\n",
      "Epoch 7/10\n",
      "63/63 - 34s - loss: 0.0044 - reconstruction_loss: 0.0044 - kl_loss: 0.0038 - 34s/epoch - 543ms/step\n",
      "Epoch 8/10\n",
      "63/63 - 34s - loss: 0.0044 - reconstruction_loss: 0.0044 - kl_loss: 0.0022 - 34s/epoch - 533ms/step\n",
      "Epoch 9/10\n",
      "63/63 - 35s - loss: 0.0044 - reconstruction_loss: 0.0044 - kl_loss: 0.0017 - 35s/epoch - 548ms/step\n",
      "Epoch 10/10\n",
      "63/63 - 33s - loss: 0.0044 - reconstruction_loss: 0.0044 - kl_loss: 0.0013 - 33s/epoch - 526ms/step\n"
     ]
    }
   ],
   "source": [
    "reg_lambda=0.001\n",
    "vae = VAE(encoder, decoder)\n",
    "vae.compile(optimizer=keras.optimizers.Adam(learning_rate=0.001)) #lower learning rate\n",
    "fit=vae.fit(trainset_mat, epochs=10, batch_size=128, verbose=2)"
   ]
  },
  {
   "cell_type": "code",
   "execution_count": 16,
   "id": "4fa509d5",
   "metadata": {},
   "outputs": [
    {
     "data": {
      "text/plain": [
       "<matplotlib.legend.Legend at 0x7f9d782ac2e0>"
      ]
     },
     "execution_count": 16,
     "metadata": {},
     "output_type": "execute_result"
    },
    {
     "data": {
      "image/png": "[encoded data removed]",
      "text/plain": [
       "<Figure size 1400x600 with 2 Axes>"
      ]
     },
     "metadata": {},
     "output_type": "display_data"
    }
   ],
   "source": [
    "plt.rcParams['font.size'] = 12\n",
    "fig,AX=plt.subplots(1,2,figsize=(14,6.))\n",
    "ax=AX[0]\n",
    "ax.plot(fit.history['loss'],label=\"MSE loss\",c=\"b\")\n",
    "ax.set_xlabel('epoch')\n",
    "ax.set_ylabel(\"MSE loss\")\n",
    "ax.legend()\n",
    "ax=AX[1]\n",
    "ax.plot(fit.history['kl_loss'],label=\"KL loss\",c=\"r\")\n",
    "ax.set_xlabel('epoch')\n",
    "ax.set_ylabel(\"KL loss\")\n",
    "ax.legend()"
   ]
  },
  {
   "cell_type": "markdown",
   "id": "a1e0e846",
   "metadata": {},
   "source": [
    "## Evaluate performance\n",
    "We'll now use the test set to explore the latent space distribution of data and the reconstruction accuracy"
   ]
  },
  {
   "cell_type": "code",
   "execution_count": 17,
   "id": "10df409c",
   "metadata": {},
   "outputs": [
    {
     "name": "stdout",
     "output_type": "stream",
     "text": [
      "63/63 [==============================] - 1s 12ms/step\n",
      "250/250 [==============================] - 3s 12ms/step\n"
     ]
    }
   ],
   "source": [
    "encoded_test = np.array(vae.encoder.predict(testset_mat))\n",
    "encoded_train = np.array(vae.encoder.predict(trainset_mat))"
   ]
  },
  {
   "cell_type": "code",
   "execution_count": 18,
   "id": "aae37675",
   "metadata": {},
   "outputs": [
    {
     "name": "stdout",
     "output_type": "stream",
     "text": [
      "(3, 2000, 4)\n"
     ]
    }
   ],
   "source": [
    "print(encoded_test.shape)"
   ]
  },
  {
   "cell_type": "markdown",
   "id": "2fb5ff61",
   "metadata": {},
   "source": [
    "z_mean are the first dimension, z_log_var the second (used in training), we're interested in the third dimension, which are the sampled z"
   ]
  },
  {
   "cell_type": "code",
   "execution_count": 19,
   "id": "8a8e920b",
   "metadata": {},
   "outputs": [
    {
     "name": "stdout",
     "output_type": "stream",
     "text": [
      "(2000, 4)\n"
     ]
    }
   ],
   "source": [
    "dim1 = encoded_test[2,:,:]\n",
    "print(dim1.shape)"
   ]
  },
  {
   "cell_type": "markdown",
   "id": "357c9a7c",
   "metadata": {},
   "source": [
    "Sampling in the latent space is reasonably gaussian as expected"
   ]
  },
  {
   "cell_type": "code",
   "execution_count": 20,
   "id": "6161263d",
   "metadata": {},
   "outputs": [
    {
     "ename": "ValueError",
     "evalue": "Shape of passed values is (2000, 4), indices imply (2000, 2)",
     "output_type": "error",
     "traceback": [
      "\u001b[0;31m---------------------------------------------------------------------------\u001b[0m",
      "\u001b[0;31mValueError\u001b[0m                                Traceback (most recent call last)",
      "Cell \u001b[0;32mIn[20], line 1\u001b[0m\n\u001b[0;32m----> 1\u001b[0m df \u001b[38;5;241m=\u001b[39m \u001b[43mpd\u001b[49m\u001b[38;5;241;43m.\u001b[39;49m\u001b[43mDataFrame\u001b[49m\u001b[43m(\u001b[49m\u001b[43mdim1\u001b[49m\u001b[43m,\u001b[49m\u001b[43m \u001b[49m\u001b[43mcolumns\u001b[49m\u001b[38;5;241;43m=\u001b[39;49m\u001b[43m[\u001b[49m\u001b[38;5;124;43m\"\u001b[39;49m\u001b[38;5;124;43mx\u001b[39;49m\u001b[38;5;124;43m\"\u001b[39;49m\u001b[43m,\u001b[49m\u001b[43m \u001b[49m\u001b[38;5;124;43m\"\u001b[39;49m\u001b[38;5;124;43my\u001b[39;49m\u001b[38;5;124;43m\"\u001b[39;49m\u001b[43m]\u001b[49m\u001b[43m)\u001b[49m\n\u001b[1;32m      2\u001b[0m sns\u001b[38;5;241m.\u001b[39mjointplot(x\u001b[38;5;241m=\u001b[39m\u001b[38;5;124m\"\u001b[39m\u001b[38;5;124mx\u001b[39m\u001b[38;5;124m\"\u001b[39m, y\u001b[38;5;241m=\u001b[39m\u001b[38;5;124m\"\u001b[39m\u001b[38;5;124my\u001b[39m\u001b[38;5;124m\"\u001b[39m, data\u001b[38;5;241m=\u001b[39mdf)\n",
      "File \u001b[0;32m~/anaconda3/lib/python3.10/site-packages/pandas/core/frame.py:722\u001b[0m, in \u001b[0;36mDataFrame.__init__\u001b[0;34m(self, data, index, columns, dtype, copy)\u001b[0m\n\u001b[1;32m    712\u001b[0m         mgr \u001b[38;5;241m=\u001b[39m dict_to_mgr(\n\u001b[1;32m    713\u001b[0m             \u001b[38;5;66;03m# error: Item \"ndarray\" of \"Union[ndarray, Series, Index]\" has no\u001b[39;00m\n\u001b[1;32m    714\u001b[0m             \u001b[38;5;66;03m# attribute \"name\"\u001b[39;00m\n\u001b[0;32m   (...)\u001b[0m\n\u001b[1;32m    719\u001b[0m             typ\u001b[38;5;241m=\u001b[39mmanager,\n\u001b[1;32m    720\u001b[0m         )\n\u001b[1;32m    721\u001b[0m     \u001b[38;5;28;01melse\u001b[39;00m:\n\u001b[0;32m--> 722\u001b[0m         mgr \u001b[38;5;241m=\u001b[39m \u001b[43mndarray_to_mgr\u001b[49m\u001b[43m(\u001b[49m\n\u001b[1;32m    723\u001b[0m \u001b[43m            \u001b[49m\u001b[43mdata\u001b[49m\u001b[43m,\u001b[49m\n\u001b[1;32m    724\u001b[0m \u001b[43m            \u001b[49m\u001b[43mindex\u001b[49m\u001b[43m,\u001b[49m\n\u001b[1;32m    725\u001b[0m \u001b[43m            \u001b[49m\u001b[43mcolumns\u001b[49m\u001b[43m,\u001b[49m\n\u001b[1;32m    726\u001b[0m \u001b[43m            \u001b[49m\u001b[43mdtype\u001b[49m\u001b[38;5;241;43m=\u001b[39;49m\u001b[43mdtype\u001b[49m\u001b[43m,\u001b[49m\n\u001b[1;32m    727\u001b[0m \u001b[43m            \u001b[49m\u001b[43mcopy\u001b[49m\u001b[38;5;241;43m=\u001b[39;49m\u001b[43mcopy\u001b[49m\u001b[43m,\u001b[49m\n\u001b[1;32m    728\u001b[0m \u001b[43m            \u001b[49m\u001b[43mtyp\u001b[49m\u001b[38;5;241;43m=\u001b[39;49m\u001b[43mmanager\u001b[49m\u001b[43m,\u001b[49m\n\u001b[1;32m    729\u001b[0m \u001b[43m        \u001b[49m\u001b[43m)\u001b[49m\n\u001b[1;32m    731\u001b[0m \u001b[38;5;66;03m# For data is list-like, or Iterable (will consume into list)\u001b[39;00m\n\u001b[1;32m    732\u001b[0m \u001b[38;5;28;01melif\u001b[39;00m is_list_like(data):\n",
      "File \u001b[0;32m~/anaconda3/lib/python3.10/site-packages/pandas/core/internals/construction.py:349\u001b[0m, in \u001b[0;36mndarray_to_mgr\u001b[0;34m(values, index, columns, dtype, copy, typ)\u001b[0m\n\u001b[1;32m    344\u001b[0m \u001b[38;5;66;03m# _prep_ndarraylike ensures that values.ndim == 2 at this point\u001b[39;00m\n\u001b[1;32m    345\u001b[0m index, columns \u001b[38;5;241m=\u001b[39m _get_axes(\n\u001b[1;32m    346\u001b[0m     values\u001b[38;5;241m.\u001b[39mshape[\u001b[38;5;241m0\u001b[39m], values\u001b[38;5;241m.\u001b[39mshape[\u001b[38;5;241m1\u001b[39m], index\u001b[38;5;241m=\u001b[39mindex, columns\u001b[38;5;241m=\u001b[39mcolumns\n\u001b[1;32m    347\u001b[0m )\n\u001b[0;32m--> 349\u001b[0m \u001b[43m_check_values_indices_shape_match\u001b[49m\u001b[43m(\u001b[49m\u001b[43mvalues\u001b[49m\u001b[43m,\u001b[49m\u001b[43m \u001b[49m\u001b[43mindex\u001b[49m\u001b[43m,\u001b[49m\u001b[43m \u001b[49m\u001b[43mcolumns\u001b[49m\u001b[43m)\u001b[49m\n\u001b[1;32m    351\u001b[0m \u001b[38;5;28;01mif\u001b[39;00m typ \u001b[38;5;241m==\u001b[39m \u001b[38;5;124m\"\u001b[39m\u001b[38;5;124marray\u001b[39m\u001b[38;5;124m\"\u001b[39m:\n\u001b[1;32m    353\u001b[0m     \u001b[38;5;28;01mif\u001b[39;00m \u001b[38;5;28missubclass\u001b[39m(values\u001b[38;5;241m.\u001b[39mdtype\u001b[38;5;241m.\u001b[39mtype, \u001b[38;5;28mstr\u001b[39m):\n",
      "File \u001b[0;32m~/anaconda3/lib/python3.10/site-packages/pandas/core/internals/construction.py:420\u001b[0m, in \u001b[0;36m_check_values_indices_shape_match\u001b[0;34m(values, index, columns)\u001b[0m\n\u001b[1;32m    418\u001b[0m passed \u001b[38;5;241m=\u001b[39m values\u001b[38;5;241m.\u001b[39mshape\n\u001b[1;32m    419\u001b[0m implied \u001b[38;5;241m=\u001b[39m (\u001b[38;5;28mlen\u001b[39m(index), \u001b[38;5;28mlen\u001b[39m(columns))\n\u001b[0;32m--> 420\u001b[0m \u001b[38;5;28;01mraise\u001b[39;00m \u001b[38;5;167;01mValueError\u001b[39;00m(\u001b[38;5;124mf\u001b[39m\u001b[38;5;124m\"\u001b[39m\u001b[38;5;124mShape of passed values is \u001b[39m\u001b[38;5;132;01m{\u001b[39;00mpassed\u001b[38;5;132;01m}\u001b[39;00m\u001b[38;5;124m, indices imply \u001b[39m\u001b[38;5;132;01m{\u001b[39;00mimplied\u001b[38;5;132;01m}\u001b[39;00m\u001b[38;5;124m\"\u001b[39m)\n",
      "\u001b[0;31mValueError\u001b[0m: Shape of passed values is (2000, 4), indices imply (2000, 2)"
     ]
    }
   ],
   "source": [
    "df = pd.DataFrame(dim1, columns=[\"x\", \"y\"])\n",
    "sns.jointplot(x=\"x\", y=\"y\", data=df);"
   ]
  },
  {
   "cell_type": "markdown",
   "id": "5298c76a",
   "metadata": {},
   "source": [
    "We can now use the data to decode"
   ]
  },
  {
   "cell_type": "code",
   "execution_count": 21,
   "id": "40394aeb",
   "metadata": {},
   "outputs": [
    {
     "name": "stdout",
     "output_type": "stream",
     "text": [
      "63/63 [==============================] - 2s 32ms/step\n",
      "250/250 [==============================] - 9s 36ms/step\n",
      "(2000, 30, 30)\n"
     ]
    }
   ],
   "source": [
    "decoded_test = np.array(decoder.predict(encoded_test[2,:,:])).reshape(-1,30,30)\n",
    "decoded_train = np.array(decoder.predict(encoded_train[2,:,:])).reshape(-1,30,30)\n",
    "print(decoded_test.shape)"
   ]
  },
  {
   "cell_type": "markdown",
   "id": "7602682f",
   "metadata": {},
   "source": [
    "#### Check reconstruction"
   ]
  },
  {
   "cell_type": "code",
   "execution_count": 32,
   "id": "43b1aad7",
   "metadata": {},
   "outputs": [
    {
     "data": {
      "image/png": "[encoded data removed]",
      "text/plain": [
       "<Figure size 640x480 with 2 Axes>"
      ]
     },
     "metadata": {},
     "output_type": "display_data"
    }
   ],
   "source": [
    "ind = 20\n",
    "df = pd.DataFrame(decoded_test[ind])\n",
    "sns.heatmap(data=df);"
   ]
  },
  {
   "cell_type": "code",
   "execution_count": 33,
   "id": "9f83de44",
   "metadata": {},
   "outputs": [
    {
     "data": {
      "image/png": "[encoded data removed]",
      "text/plain": [
       "<Figure size 640x480 with 2 Axes>"
      ]
     },
     "metadata": {},
     "output_type": "display_data"
    }
   ],
   "source": [
    "df2 = pd.DataFrame(testset_mat[ind])\n",
    "sns.heatmap(data=df2);"
   ]
  },
  {
   "cell_type": "markdown",
   "id": "2693cb63",
   "metadata": {},
   "source": [
    "## La segunda parte"
   ]
  },
  {
   "cell_type": "code",
   "execution_count": 24,
   "id": "b9551a8f",
   "metadata": {},
   "outputs": [],
   "source": [
    "class CoordinateReconstructionLayer(layers.Layer):\n",
    "    def __init__(self, numpart, dim):\n",
    "        super(CoordinateReconstructionLayer, self).__init__()\n",
    "        self.numpart = numpart\n",
    "        self.dim = dim\n",
    "\n",
    "        # Define the trainable layer(s) for coordinate reconstruction\n",
    "        self.dense1 = layers.Dense(self.numpart**2, activation='relu')\n",
    "        self.dense2 = layers.Dense(self.numpart * self.dim)\n",
    " \n",
    "    def call(self, inputs):\n",
    "        # Reconstruct coordinates from distance matrix\n",
    "        x = self.dense1(inputs)\n",
    "        reconstructed_coordinates = self.dense2(x)\n",
    "\n",
    "        # Reshape the output to match the coordinate shape\n",
    "        reconstructed_coordinates = tf.reshape(reconstructed_coordinates, (-1, self.numpart, self.dim))\n",
    "\n",
    "        return reconstructed_coordinates"
   ]
  },
  {
   "cell_type": "code",
   "execution_count": 25,
   "id": "0f8f4792",
   "metadata": {},
   "outputs": [
    {
     "name": "stdout",
     "output_type": "stream",
     "text": [
      "Model: \"model\"\n",
      "_________________________________________________________________\n",
      " Layer (type)                Output Shape              Param #   \n",
      "=================================================================\n",
      " input_2 (InputLayer)        [(None, 30, 30)]          0         \n",
      "                                                                 \n",
      " flatten_1 (Flatten)         (None, 900)               0         \n",
      "                                                                 \n",
      " dense_1 (Dense)             (None, 720)               648720    \n",
      "                                                                 \n",
      " coordinate_reconstruction_l  (None, 30, 2)            702960    \n",
      " ayer (CoordinateReconstruct                                     \n",
      " ionLayer)                                                       \n",
      "                                                                 \n",
      "=================================================================\n",
      "Total params: 1,351,680\n",
      "Trainable params: 1,351,680\n",
      "Non-trainable params: 0\n",
      "_________________________________________________________________\n"
     ]
    }
   ],
   "source": [
    "rec_inputs = layers.Input(shape=(numpart,numpart))\n",
    "x = Flatten()(rec_inputs)\n",
    "x = layers.Dense(int(numpart**2 *4/5), activation='relu')(x)\n",
    "rec_outputs = CoordinateReconstructionLayer(numpart,dim)(x)\n",
    "reconstruction = keras.Model(rec_inputs,rec_outputs)\n",
    "reconstruction.summary()"
   ]
  },
  {
   "cell_type": "code",
   "execution_count": 26,
   "id": "5bbf1ca6",
   "metadata": {},
   "outputs": [
    {
     "name": "stdout",
     "output_type": "stream",
     "text": [
      "Model: \"model_1\"\n",
      "_________________________________________________________________\n",
      " Layer (type)                Output Shape              Param #   \n",
      "=================================================================\n",
      " input_3 (InputLayer)        [(None, 30, 30)]          0         \n",
      "                                                                 \n",
      " flatten_2 (Flatten)         (None, 900)               0         \n",
      "                                                                 \n",
      " dense_4 (Dense)             (None, 720)               648720    \n",
      "                                                                 \n",
      " dense_5 (Dense)             (None, 540)               389340    \n",
      "                                                                 \n",
      " dense_6 (Dense)             (None, 360)               194760    \n",
      "                                                                 \n",
      " dense_7 (Dense)             (None, 180)               64980     \n",
      "                                                                 \n",
      " dense_8 (Dense)             (None, 60)                10860     \n",
      "                                                                 \n",
      " reshape_1 (Reshape)         (None, 30, 2)             0         \n",
      "                                                                 \n",
      "=================================================================\n",
      "Total params: 1,308,660\n",
      "Trainable params: 1,308,660\n",
      "Non-trainable params: 0\n",
      "_________________________________________________________________\n"
     ]
    }
   ],
   "source": [
    "rec_inputs = layers.Input(shape=(numpart,numpart))\n",
    "x = Flatten()(rec_inputs)\n",
    "x = layers.Dense(int(numpart**2 *4/5), activation='relu')(x)\n",
    "x = layers.Dense(int(numpart**2 *3/5), activation='relu')(x)\n",
    "x = layers.Dense(int(numpart**2 *2/5), activation='relu')(x)\n",
    "x = layers.Dense(int(numpart**2 *1/5), activation='relu')(x)\n",
    "x = layers.Dense(int(numpart*dim))(x)\n",
    "rec_outputs = Reshape((numpart, dim))(x)\n",
    "reconstruction = keras.Model(rec_inputs,rec_outputs)\n",
    "reconstruction.summary()"
   ]
  },
  {
   "cell_type": "code",
   "execution_count": 27,
   "id": "ecef36ae",
   "metadata": {
    "scrolled": true
   },
   "outputs": [
    {
     "name": "stdout",
     "output_type": "stream",
     "text": [
      "Epoch 1/30\n",
      "63/63 - 1s - loss: 0.0245 - 865ms/epoch - 14ms/step\n",
      "Epoch 2/30\n",
      "63/63 - 1s - loss: 0.0052 - 627ms/epoch - 10ms/step\n",
      "Epoch 3/30\n",
      "63/63 - 1s - loss: 0.0051 - 611ms/epoch - 10ms/step\n",
      "Epoch 4/30\n",
      "63/63 - 1s - loss: 0.0051 - 667ms/epoch - 11ms/step\n",
      "Epoch 5/30\n",
      "63/63 - 1s - loss: 0.0052 - 682ms/epoch - 11ms/step\n",
      "Epoch 6/30\n",
      "63/63 - 1s - loss: 0.0051 - 716ms/epoch - 11ms/step\n",
      "Epoch 7/30\n",
      "63/63 - 1s - loss: 0.0051 - 659ms/epoch - 10ms/step\n",
      "Epoch 8/30\n",
      "63/63 - 1s - loss: 0.0051 - 616ms/epoch - 10ms/step\n",
      "Epoch 9/30\n",
      "63/63 - 1s - loss: 0.0052 - 617ms/epoch - 10ms/step\n",
      "Epoch 10/30\n",
      "63/63 - 1s - loss: 0.0052 - 613ms/epoch - 10ms/step\n",
      "Epoch 11/30\n",
      "63/63 - 1s - loss: 0.0052 - 679ms/epoch - 11ms/step\n",
      "Epoch 12/30\n",
      "63/63 - 1s - loss: 0.0052 - 664ms/epoch - 11ms/step\n",
      "Epoch 13/30\n",
      "63/63 - 1s - loss: 0.0052 - 662ms/epoch - 11ms/step\n",
      "Epoch 14/30\n",
      "63/63 - 1s - loss: 0.0052 - 787ms/epoch - 12ms/step\n",
      "Epoch 15/30\n",
      "63/63 - 1s - loss: 0.0052 - 693ms/epoch - 11ms/step\n",
      "Epoch 16/30\n",
      "63/63 - 1s - loss: 0.0052 - 657ms/epoch - 10ms/step\n",
      "Epoch 17/30\n",
      "63/63 - 1s - loss: 0.0052 - 618ms/epoch - 10ms/step\n",
      "Epoch 18/30\n",
      "63/63 - 1s - loss: 0.0052 - 676ms/epoch - 11ms/step\n",
      "Epoch 19/30\n",
      "63/63 - 1s - loss: 0.0052 - 654ms/epoch - 10ms/step\n",
      "Epoch 20/30\n",
      "63/63 - 1s - loss: 0.0052 - 642ms/epoch - 10ms/step\n",
      "Epoch 21/30\n",
      "63/63 - 1s - loss: 0.0052 - 622ms/epoch - 10ms/step\n",
      "Epoch 22/30\n",
      "63/63 - 1s - loss: 0.0052 - 622ms/epoch - 10ms/step\n",
      "Epoch 23/30\n",
      "63/63 - 1s - loss: 0.0052 - 619ms/epoch - 10ms/step\n",
      "Epoch 24/30\n",
      "63/63 - 1s - loss: 0.0052 - 631ms/epoch - 10ms/step\n",
      "Epoch 25/30\n",
      "63/63 - 1s - loss: 0.0052 - 623ms/epoch - 10ms/step\n",
      "Epoch 26/30\n",
      "63/63 - 1s - loss: 0.0052 - 760ms/epoch - 12ms/step\n",
      "Epoch 27/30\n",
      "63/63 - 1s - loss: 0.0052 - 681ms/epoch - 11ms/step\n",
      "Epoch 28/30\n",
      "63/63 - 1s - loss: 0.0052 - 634ms/epoch - 10ms/step\n",
      "Epoch 29/30\n",
      "63/63 - 1s - loss: 0.0052 - 628ms/epoch - 10ms/step\n",
      "Epoch 30/30\n",
      "63/63 - 1s - loss: 0.0052 - 623ms/epoch - 10ms/step\n"
     ]
    }
   ],
   "source": [
    "reconstruction.compile(optimizer=keras.optimizers.Adam(learning_rate=0.0001),loss=tf.keras.losses.MeanSquaredError()) #lower learning rate\n",
    "fit=reconstruction.fit(decoded_train, trainset_conf, epochs=30, batch_size=128, verbose=2)"
   ]
  },
  {
   "cell_type": "code",
   "execution_count": 28,
   "id": "fe2d6ee4",
   "metadata": {},
   "outputs": [
    {
     "name": "stdout",
     "output_type": "stream",
     "text": [
      "63/63 [==============================] - 0s 3ms/step\n"
     ]
    }
   ],
   "source": [
    "rec_test = np.array(reconstruction.predict(testset_mat))"
   ]
  },
  {
   "cell_type": "code",
   "execution_count": 29,
   "id": "f25a164a",
   "metadata": {},
   "outputs": [
    {
     "name": "stdout",
     "output_type": "stream",
     "text": [
      "(2000, 30, 2)\n",
      "[[ 0.05201908 -0.00208961]\n",
      " [ 0.08241355  0.01098704]\n",
      " [ 0.11409016  0.04453369]\n",
      " [ 0.11362411  0.09172656]\n",
      " [ 0.088865    0.11880638]\n",
      " [ 0.15898837  0.11425352]\n",
      " [ 0.089779    0.10963725]\n",
      " [ 0.11154781  0.13976909]\n",
      " [ 0.1949612   0.11027019]\n",
      " [ 0.18920602  0.1559382 ]\n",
      " [ 0.2074168   0.09942816]\n",
      " [ 0.21250996  0.14628437]\n",
      " [ 0.26452494  0.08933683]\n",
      " [ 0.24684861  0.17876036]\n",
      " [ 0.2886312   0.10305484]\n",
      " [ 0.345994    0.1394481 ]\n",
      " [ 0.3116934   0.13463475]\n",
      " [ 0.3494106   0.11964793]\n",
      " [ 0.39036304  0.12394026]\n",
      " [ 0.3587741   0.11768965]\n",
      " [ 0.4502512   0.1236051 ]\n",
      " [ 0.46833086  0.10774117]\n",
      " [ 0.42571864  0.12236499]\n",
      " [ 0.4633272   0.11562762]\n",
      " [ 0.5025298   0.11895365]\n",
      " [ 0.54792744  0.06992304]\n",
      " [ 0.52687865  0.12332531]\n",
      " [ 0.53445005  0.11191424]\n",
      " [ 0.59794635  0.09330348]\n",
      " [ 0.60029674  0.11864243]]\n"
     ]
    }
   ],
   "source": [
    "print(rec_test.shape)\n",
    "print(rec_test[1])"
   ]
  },
  {
   "cell_type": "code",
   "execution_count": 30,
   "id": "6dff11e2",
   "metadata": {},
   "outputs": [
    {
     "data": {
      "text/plain": [
       "(-0.15, 1.15)"
      ]
     },
     "execution_count": 30,
     "metadata": {},
     "output_type": "execute_result"
    },
    {
     "data": {
      "image/png": "[encoded data removed]",
      "text/plain": [
       "<Figure size 500x500 with 1 Axes>"
      ]
     },
     "metadata": {},
     "output_type": "display_data"
    }
   ],
   "source": [
    "fig = plt.figure(figsize=(5, 5))\n",
    "ax = fig.add_subplot()\n",
    "l = np.sqrt(2)\n",
    "ax.scatter(rec_test[ind,:,0]*l, rec_test[ind,:,1]*l, s=30, c=\"#e63946\")\n",
    "ax.scatter(testset_conf[ind,:,0]*l, testset_conf[ind,:,1]*l, s=30, c=\"#023e8a\")\n",
    "ax.set_xlim(-0.15,1.15)\n",
    "ax.set_ylim(-0.15,1.15)"
   ]
  },
  {
   "cell_type": "code",
   "execution_count": null,
   "id": "312ed391",
   "metadata": {
    "scrolled": true
   },
   "outputs": [],
   "source": [
    "from matplotlib.animation import FuncAnimation\n",
    "\n",
    "# Create the figure and axis objects\n",
    "fig, ax = plt.subplots()\n",
    "\n",
    "nframes = 100\n",
    "\n",
    "# Define the animation function\n",
    "def update(ind):\n",
    "    ax.clear()\n",
    "    plt.scatter(rec_test[ind,:,0]*l, rec_test[ind,:,1]*l, s=20, c=\"b\")\n",
    "    plt.scatter(testset_conf[ind,:,0]*l, testset_conf[ind,:,1]*l, s=20, c=\"y\")\n",
    "    ax.set_title(f\"Scatter plot ({ind}/{nframes})\")\n",
    "    ax.set_xlim(-0.1,1.1)\n",
    "    ax.set_ylim(-0.1,1.1)\n",
    "\n",
    "# Create the animation\n",
    "animation = FuncAnimation(fig, update, frames=nframes, interval=400)\n",
    "\n",
    "# Save the animation as a GIF\n",
    "animation.save(\"conv2dist.gif\", writer=\"imagemagick\")"
   ]
  },
  {
   "cell_type": "markdown",
   "id": "b0642e57",
   "metadata": {},
   "source": [
    "## Deez Labels"
   ]
  },
  {
   "cell_type": "code",
   "execution_count": null,
   "id": "0c2a4838",
   "metadata": {},
   "outputs": [],
   "source": [
    "labels = [1]*len(data)"
   ]
  },
  {
   "cell_type": "code",
   "execution_count": null,
   "id": "a0497eb4",
   "metadata": {},
   "outputs": [],
   "source": [
    "def label_vis(vae, data, labels):\n",
    "    \n",
    "    #prediction\n",
    "    z_mean, _, _ = vae.encoder.predict(data)\n",
    "    \n",
    "    #PCA on z_mean\n",
    "    A = pd.DataFrame(z_mean)\n",
    "    l, V = la.eig(np.cov(A.T))\n",
    "    lr = np.copy(l.real)\n",
    "    n1 = np.argmax(l)\n",
    "    l[n1] = 0\n",
    "    n2 = np.argmax(l)\n",
    "    print(lr[n1]/sum(lr), lr[n2]/sum(lr), (lr[n1]+lr[n2])/sum(lr) )\n",
    "\n",
    "    #plot\n",
    "    plt.figure(figsize=(8, 8))\n",
    "    plt.scatter(z_mean[:, n1], z_mean[:, n2], c=labels)\n",
    "    plt.colorbar()\n",
    "    plt.xlabel(\"z[0]\")\n",
    "    plt.ylabel(\"z[1]\")\n",
    "    plt.show()"
   ]
  },
  {
   "cell_type": "code",
   "execution_count": null,
   "id": "36969448",
   "metadata": {},
   "outputs": [],
   "source": [
    "label_vis(vae, dm, labels)"
   ]
  }
 ],
 "metadata": {
  "kernelspec": {
   "display_name": "Python 3 (ipykernel)",
   "language": "python",
   "name": "python3"
  },
  "language_info": {
   "codemirror_mode": {
    "name": "ipython",
    "version": 3
   },
   "file_extension": ".py",
   "mimetype": "text/x-python",
   "name": "python",
   "nbconvert_exporter": "python",
   "pygments_lexer": "ipython3",
   "version": "3.10.9"
  }
 },
 "nbformat": 4,
 "nbformat_minor": 5
}
