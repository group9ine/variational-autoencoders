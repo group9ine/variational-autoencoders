{
 "cells": [
  {
   "cell_type": "markdown",
   "id": "cb34c7a8",
   "metadata": {},
   "source": [
    "# JSTNN\n",
    "## ~~Just Stupid Trivial Neural Network~~\n",
    "## Joint Structure Thermalized Neural Network"
   ]
  },
  {
   "cell_type": "markdown",
   "id": "2121bf15",
   "metadata": {},
   "source": [
    "Import necessary packages"
   ]
  },
  {
   "cell_type": "code",
   "execution_count": 1,
   "id": "79f7cdff",
   "metadata": {},
   "outputs": [],
   "source": [
    "import numpy as np\n",
    "import tensorflow as tf\n",
    "from tensorflow import keras\n",
    "from tensorflow.keras import layers\n",
    "from keras import regularizers\n",
    "import matplotlib.pyplot as plt\n",
    "import pandas as pd\n",
    "import seaborn as sns"
   ]
  },
  {
   "cell_type": "markdown",
   "id": "d142e12f",
   "metadata": {},
   "source": [
    "### Data"
   ]
  },
  {
   "cell_type": "markdown",
   "id": "728ed42a",
   "metadata": {},
   "source": [
    "Define core features of the dataset"
   ]
  },
  {
   "cell_type": "code",
   "execution_count": 2,
   "id": "04bdb140",
   "metadata": {},
   "outputs": [],
   "source": [
    "dim = 2\n",
    "numpart = 25\n",
    "box_size = 10\n",
    "latent_dim = 5"
   ]
  },
  {
   "cell_type": "markdown",
   "id": "a4ec27dc",
   "metadata": {},
   "source": [
    "Import and reshape data"
   ]
  },
  {
   "cell_type": "code",
   "execution_count": 3,
   "id": "f20664e3",
   "metadata": {},
   "outputs": [],
   "source": [
    "fname = r'\\\\wsl$\\Ubuntu\\home\\alepitte\\ale\\uni\\variational-autoencoders\\mc-sampling\\dump\\test_25_10_1_0.75_0.2_100000_2500_5_x.txt'\n",
    "#fname=\"mc-sampling/good-runs/nonpolimero_x.txt\"\n",
    "\n",
    "with open(fname) as f:\n",
    "    data = [\n",
    "        [float(i.strip()) for i in s.split(\" \") if i != \"\"]\n",
    "        for s in f.read().split(\"\\n\")\n",
    "        if s != \"\"]"
   ]
  },
  {
   "cell_type": "code",
   "execution_count": 4,
   "id": "3be071e6",
   "metadata": {},
   "outputs": [
    {
     "name": "stdout",
     "output_type": "stream",
     "text": [
      "[3.180787, 2.412516, 7.633109, 2.648419, 5.968157, 1.106966, 4.167049, 1.930876, 9.776027, 2.229036, 2.525097, 0.094556, 2.619431, 1.45399, 4.060368, 3.123917, 0.286433, 0.142511, 4.292573, 0.298462, 9.243757, 0.125158, 9.679416, 0.994678, 6.523954, 0.105735, 4.935052, 1.087431, 5.370665, 0.113932, 5.110775, 2.960006, 3.615703, 4.070283, 0.454368, 1.361296, 8.560841, 1.231844, 9.016901, 2.978163, 1.525243, 0.005543, 3.407643, 0.724244, 8.038712, 0.154833, 1.603654, 1.06262, 1.846255, 2.291894]\n"
     ]
    }
   ],
   "source": [
    "print(data[1])"
   ]
  },
  {
   "cell_type": "code",
   "execution_count": 5,
   "id": "fcc8846f",
   "metadata": {},
   "outputs": [
    {
     "name": "stdout",
     "output_type": "stream",
     "text": [
      "(100000, 25, 2)\n"
     ]
    }
   ],
   "source": [
    "vcs = np.array(data).reshape((-1,numpart,dim))/box_size\n",
    "print(vcs.shape)"
   ]
  },
  {
   "cell_type": "code",
   "execution_count": 6,
   "id": "8d62293b",
   "metadata": {},
   "outputs": [],
   "source": [
    "sortmode = 2"
   ]
  },
  {
   "cell_type": "code",
   "execution_count": 7,
   "id": "81191566",
   "metadata": {},
   "outputs": [],
   "source": [
    "if sortmode == 1 :\n",
    "    idx = np.lexsort((vcs[:,:,0], vcs[:,:,1]))\n",
    "    \n",
    "    # Use the indices to sort each step while maintaining the rows intact\n",
    "    sorted_vcs = np.empty_like(vcs)\n",
    "    for i in range(len(vcs)):\n",
    "        sorted_vcs[i] = vcs[i][idx[i]]\n",
    "            \n",
    "    print(sorted_vcs.shape,\"\\n\",sorted_vcs[1])"
   ]
  },
  {
   "cell_type": "code",
   "execution_count": 8,
   "id": "bf20726d",
   "metadata": {},
   "outputs": [
    {
     "name": "stdout",
     "output_type": "stream",
     "text": [
      "(100000, 25, 2) \n",
      " [[2.864330e-02 1.425110e-02]\n",
      " [4.543680e-02 1.361296e-01]\n",
      " [1.525243e-01 5.543000e-04]\n",
      " [1.603654e-01 1.062620e-01]\n",
      " [2.525097e-01 9.455600e-03]\n",
      " [1.846255e-01 2.291894e-01]\n",
      " [2.619431e-01 1.453990e-01]\n",
      " [3.407643e-01 7.242440e-02]\n",
      " [3.180787e-01 2.412516e-01]\n",
      " [4.292573e-01 2.984620e-02]\n",
      " [4.167049e-01 1.930876e-01]\n",
      " [4.935052e-01 1.087431e-01]\n",
      " [4.060368e-01 3.123917e-01]\n",
      " [5.370665e-01 1.139320e-02]\n",
      " [3.615703e-01 4.070283e-01]\n",
      " [5.110775e-01 2.960006e-01]\n",
      " [5.968157e-01 1.106966e-01]\n",
      " [6.523954e-01 1.057350e-02]\n",
      " [8.038712e-01 1.548330e-02]\n",
      " [7.633109e-01 2.648419e-01]\n",
      " [8.560841e-01 1.231844e-01]\n",
      " [9.243757e-01 1.251580e-02]\n",
      " [9.016901e-01 2.978163e-01]\n",
      " [9.679416e-01 9.946780e-02]\n",
      " [9.776027e-01 2.229036e-01]]\n"
     ]
    }
   ],
   "source": [
    "if sortmode==2:\n",
    "\n",
    "    # Calculate distances from (0, 0)\n",
    "    distances = np.sqrt(vcs[:,:,0]**2 + vcs[:,:,1]**2)\n",
    "    idx = np.argsort(distances, axis=1)\n",
    "    sorted_vcs = np.empty_like(vcs)\n",
    "    for i in range(len(vcs)):\n",
    "        sorted_vcs[i] = vcs[i][idx[i]]\n",
    "\n",
    "    print(sorted_vcs.shape,\"\\n\",sorted_vcs[1])"
   ]
  },
  {
   "cell_type": "code",
   "execution_count": 9,
   "id": "5ca6564e",
   "metadata": {},
   "outputs": [
    {
     "name": "stdout",
     "output_type": "stream",
     "text": [
      "(80000, 25, 2)\n",
      "(20000, 25, 2)\n"
     ]
    }
   ],
   "source": [
    "train_perc=0.8\n",
    "trainset = vcs[:int(train_perc*len(data))]\n",
    "print(trainset.shape)\n",
    "test_perc=0.25*train_perc\n",
    "testset = vcs[int(train_perc*len(data)):int((test_perc+train_perc)*len(data))]\n",
    "print(testset.shape)"
   ]
  },
  {
   "cell_type": "code",
   "execution_count": 10,
   "id": "5d5352e4",
   "metadata": {},
   "outputs": [],
   "source": [
    "class Sampling(layers.Layer):\n",
    "    \"\"\"Uses (z_mean, z_log_var) to sample z, the vector encoding a digit.\"\"\"\n",
    "\n",
    "    def call(self, inputs):\n",
    "        z_mean, z_log_var = inputs\n",
    "        batch = tf.shape(z_mean)[0]\n",
    "        dim = tf.shape(z_mean)[1]\n",
    "        epsilon = tf.keras.backend.random_normal(shape=(batch,dim))\n",
    "        return z_mean + tf.exp(0.5 * z_log_var) * epsilon"
   ]
  },
  {
   "cell_type": "code",
   "execution_count": 11,
   "id": "788b81de",
   "metadata": {},
   "outputs": [
    {
     "name": "stdout",
     "output_type": "stream",
     "text": [
      "Model: \"encoder\"\n",
      "__________________________________________________________________________________________________\n",
      " Layer (type)                   Output Shape         Param #     Connected to                     \n",
      "==================================================================================================\n",
      " input_1 (InputLayer)           [(None, 25, 2)]      0           []                               \n",
      "                                                                                                  \n",
      " flatten (Flatten)              (None, 50)           0           ['input_1[0][0]']                \n",
      "                                                                                                  \n",
      " dense (Dense)                  (None, 150)          7650        ['flatten[0][0]']                \n",
      "                                                                                                  \n",
      " dense_1 (Dense)                (None, 100)          15100       ['dense[0][0]']                  \n",
      "                                                                                                  \n",
      " dense_2 (Dense)                (None, 50)           5050        ['dense_1[0][0]']                \n",
      "                                                                                                  \n",
      " z_mean (Dense)                 (None, 5)            255         ['dense_2[0][0]']                \n",
      "                                                                                                  \n",
      " z_log_var (Dense)              (None, 5)            255         ['dense_2[0][0]']                \n",
      "                                                                                                  \n",
      " sampling (Sampling)            (None, 5)            0           ['z_mean[0][0]',                 \n",
      "                                                                  'z_log_var[0][0]']              \n",
      "                                                                                                  \n",
      "==================================================================================================\n",
      "Total params: 28,310\n",
      "Trainable params: 28,310\n",
      "Non-trainable params: 0\n",
      "__________________________________________________________________________________________________\n",
      "Model: \"decoder\"\n",
      "_________________________________________________________________\n",
      " Layer (type)                Output Shape              Param #   \n",
      "=================================================================\n",
      " input_2 (InputLayer)        [(None, 5)]               0         \n",
      "                                                                 \n",
      " dense_3 (Dense)             (None, 50)                300       \n",
      "                                                                 \n",
      " dense_4 (Dense)             (None, 100)               5100      \n",
      "                                                                 \n",
      " dense_5 (Dense)             (None, 150)               15150     \n",
      "                                                                 \n",
      " dense_6 (Dense)             (None, 50)                7550      \n",
      "                                                                 \n",
      " reshape (Reshape)           (None, 25, 2)             0         \n",
      "                                                                 \n",
      "=================================================================\n",
      "Total params: 28,100\n",
      "Trainable params: 28,100\n",
      "Non-trainable params: 0\n",
      "_________________________________________________________________\n"
     ]
    }
   ],
   "source": [
    "#encoder\n",
    "input_shape = (numpart,dim)\n",
    "inputs = layers.Input(shape=input_shape)\n",
    "x = layers.Flatten()(inputs)\n",
    "x = layers.Dense(int(numpart*dim*3), activation='relu')(x)#activity_regularizer=regularizers.l1(10e-2))(x)\n",
    "x = layers.Dense(int(numpart*dim*2), activation='relu')(x)#,activity_regularizer=regularizers.l1(10e-2))(x)\n",
    "x = layers.Dense(int(numpart*dim*1), activation='relu')(x)#,activity_regularizer=regularizers.l1(10e-2))(x)\n",
    "z_mean = layers.Dense(latent_dim, name='z_mean')(x)\n",
    "z_log_var = layers.Dense(latent_dim, name='z_log_var')(x)\n",
    "z = Sampling()([z_mean, z_log_var])\n",
    "encoder = keras.Model(inputs, [z_mean, z_log_var, z], name=\"encoder\")\n",
    "encoder.summary()\n",
    "\n",
    "#decoder\n",
    "latent_inputs = keras.Input(shape=(latent_dim,))\n",
    "x = layers.Dense(int(numpart*dim*1), activation=\"relu\")(latent_inputs)\n",
    "x = layers.Dense(int(numpart*dim*2), activation=\"relu\")(x)\n",
    "x = layers.Dense(int(numpart*dim*3), activation=\"relu\")(x)\n",
    "x = layers.Dense(numpart*dim, activation=\"relu\")(x)\n",
    "decoder_outputs = layers.Reshape((numpart, dim))(x)\n",
    "decoder = keras.Model(latent_inputs, decoder_outputs, name=\"decoder\")\n",
    "decoder.summary()"
   ]
  },
  {
   "cell_type": "code",
   "execution_count": 12,
   "id": "db6851b3",
   "metadata": {},
   "outputs": [],
   "source": [
    "class VAE(keras.Model):\n",
    "    def __init__(self, encoder, decoder, **kwargs):\n",
    "        super().__init__(**kwargs)\n",
    "        self.encoder = encoder\n",
    "        self.decoder = decoder\n",
    "        self.total_loss_tracker = keras.metrics.Mean(name=\"total_loss\")\n",
    "        self.reconstruction_loss_tracker = keras.metrics.Mean(\n",
    "            name=\"reconstruction_loss\"\n",
    "        )\n",
    "        self.kl_loss_tracker = keras.metrics.Mean(name=\"kl_loss\")\n",
    "\n",
    "    @property\n",
    "    def metrics(self):\n",
    "        return [\n",
    "            self.total_loss_tracker,\n",
    "            self.reconstruction_loss_tracker,\n",
    "            self.kl_loss_tracker,\n",
    "        ]\n",
    "\n",
    "    def train_step(self, data):\n",
    "        with tf.GradientTape() as tape:\n",
    "            z_mean, z_log_var, z = self.encoder(data)\n",
    "            reconstruction = self.decoder(z)\n",
    "            reconstruction_loss = tf.reduce_mean(\n",
    "                keras.losses.mean_squared_error(data, reconstruction)\n",
    "            )\n",
    "            kl_loss = -0.5 * (\n",
    "                1 + z_log_var - tf.square(z_mean) - tf.exp(z_log_var)\n",
    "            )\n",
    "            kl_loss = tf.reduce_mean(kl_loss)\n",
    "            total_loss = reconstruction_loss + reg_lambda * kl_loss\n",
    "        grads = tape.gradient(total_loss, self.trainable_weights)\n",
    "        self.optimizer.apply_gradients(zip(grads, self.trainable_weights))\n",
    "        self.total_loss_tracker.update_state(total_loss)\n",
    "        self.reconstruction_loss_tracker.update_state(reconstruction_loss)\n",
    "        self.kl_loss_tracker.update_state(kl_loss)\n",
    "        return {\n",
    "            \"loss\": self.total_loss_tracker.result(),\n",
    "            \"reconstruction_loss\": self.reconstruction_loss_tracker.result(),\n",
    "            \"kl_loss\": self.kl_loss_tracker.result(),\n",
    "        }"
   ]
  },
  {
   "cell_type": "code",
   "execution_count": 13,
   "id": "fd72ca72",
   "metadata": {
    "scrolled": true
   },
   "outputs": [
    {
     "name": "stdout",
     "output_type": "stream",
     "text": [
      "Epoch 1/300\n",
      "625/625 - 4s - loss: 0.0568 - reconstruction_loss: 0.0564 - kl_loss: 3.5191 - 4s/epoch - 7ms/step\n",
      "Epoch 2/300\n",
      "625/625 - 2s - loss: 0.0519 - reconstruction_loss: 0.0516 - kl_loss: 3.4786 - 2s/epoch - 3ms/step\n",
      "Epoch 3/300\n",
      "625/625 - 2s - loss: 0.0515 - reconstruction_loss: 0.0512 - kl_loss: 3.3061 - 2s/epoch - 3ms/step\n",
      "Epoch 4/300\n",
      "625/625 - 2s - loss: 0.0444 - reconstruction_loss: 0.0441 - kl_loss: 3.2139 - 2s/epoch - 3ms/step\n",
      "Epoch 5/300\n",
      "625/625 - 2s - loss: 0.0394 - reconstruction_loss: 0.0391 - kl_loss: 3.2582 - 2s/epoch - 3ms/step\n",
      "Epoch 6/300\n",
      "625/625 - 2s - loss: 0.0389 - reconstruction_loss: 0.0386 - kl_loss: 3.3324 - 2s/epoch - 3ms/step\n",
      "Epoch 7/300\n",
      "625/625 - 2s - loss: 0.0384 - reconstruction_loss: 0.0381 - kl_loss: 3.4430 - 2s/epoch - 3ms/step\n",
      "Epoch 8/300\n",
      "625/625 - 2s - loss: 0.0380 - reconstruction_loss: 0.0377 - kl_loss: 3.5410 - 2s/epoch - 3ms/step\n",
      "Epoch 9/300\n",
      "625/625 - 2s - loss: 0.0377 - reconstruction_loss: 0.0373 - kl_loss: 3.6186 - 2s/epoch - 3ms/step\n",
      "Epoch 10/300\n",
      "625/625 - 2s - loss: 0.0374 - reconstruction_loss: 0.0371 - kl_loss: 3.6780 - 2s/epoch - 3ms/step\n",
      "Epoch 11/300\n",
      "625/625 - 2s - loss: 0.0370 - reconstruction_loss: 0.0366 - kl_loss: 3.7711 - 2s/epoch - 3ms/step\n",
      "Epoch 12/300\n",
      "625/625 - 2s - loss: 0.0367 - reconstruction_loss: 0.0363 - kl_loss: 3.8235 - 2s/epoch - 3ms/step\n",
      "Epoch 13/300\n",
      "625/625 - 2s - loss: 0.0363 - reconstruction_loss: 0.0359 - kl_loss: 3.9322 - 2s/epoch - 3ms/step\n",
      "Epoch 14/300\n",
      "625/625 - 2s - loss: 0.0360 - reconstruction_loss: 0.0356 - kl_loss: 3.9845 - 2s/epoch - 3ms/step\n",
      "Epoch 15/300\n",
      "625/625 - 2s - loss: 0.0355 - reconstruction_loss: 0.0351 - kl_loss: 4.0753 - 2s/epoch - 3ms/step\n",
      "Epoch 16/300\n",
      "625/625 - 2s - loss: 0.0353 - reconstruction_loss: 0.0349 - kl_loss: 4.1862 - 2s/epoch - 3ms/step\n",
      "Epoch 17/300\n",
      "625/625 - 2s - loss: 0.0350 - reconstruction_loss: 0.0346 - kl_loss: 4.2561 - 2s/epoch - 3ms/step\n",
      "Epoch 18/300\n",
      "625/625 - 2s - loss: 0.0346 - reconstruction_loss: 0.0342 - kl_loss: 4.3151 - 2s/epoch - 3ms/step\n",
      "Epoch 19/300\n",
      "625/625 - 2s - loss: 0.0344 - reconstruction_loss: 0.0340 - kl_loss: 4.3868 - 2s/epoch - 3ms/step\n",
      "Epoch 20/300\n",
      "625/625 - 2s - loss: 0.0343 - reconstruction_loss: 0.0339 - kl_loss: 4.4373 - 2s/epoch - 3ms/step\n",
      "Epoch 21/300\n",
      "625/625 - 2s - loss: 0.0341 - reconstruction_loss: 0.0336 - kl_loss: 4.4869 - 2s/epoch - 3ms/step\n",
      "Epoch 22/300\n",
      "625/625 - 2s - loss: 0.0338 - reconstruction_loss: 0.0333 - kl_loss: 4.5347 - 2s/epoch - 3ms/step\n",
      "Epoch 23/300\n",
      "625/625 - 2s - loss: 0.0338 - reconstruction_loss: 0.0333 - kl_loss: 4.5741 - 2s/epoch - 3ms/step\n",
      "Epoch 24/300\n",
      "625/625 - 2s - loss: 0.0335 - reconstruction_loss: 0.0331 - kl_loss: 4.6001 - 2s/epoch - 3ms/step\n",
      "Epoch 25/300\n",
      "625/625 - 2s - loss: 0.0333 - reconstruction_loss: 0.0328 - kl_loss: 4.6522 - 2s/epoch - 3ms/step\n",
      "Epoch 26/300\n",
      "625/625 - 2s - loss: 0.0332 - reconstruction_loss: 0.0328 - kl_loss: 4.6419 - 2s/epoch - 3ms/step\n",
      "Epoch 27/300\n",
      "625/625 - 2s - loss: 0.0330 - reconstruction_loss: 0.0326 - kl_loss: 4.6485 - 2s/epoch - 3ms/step\n",
      "Epoch 28/300\n",
      "625/625 - 2s - loss: 0.0331 - reconstruction_loss: 0.0326 - kl_loss: 4.6844 - 2s/epoch - 3ms/step\n",
      "Epoch 29/300\n",
      "625/625 - 2s - loss: 0.0331 - reconstruction_loss: 0.0326 - kl_loss: 4.7002 - 2s/epoch - 3ms/step\n",
      "Epoch 30/300\n",
      "625/625 - 2s - loss: 0.0326 - reconstruction_loss: 0.0321 - kl_loss: 4.7390 - 2s/epoch - 3ms/step\n",
      "Epoch 31/300\n",
      "625/625 - 2s - loss: 0.0326 - reconstruction_loss: 0.0321 - kl_loss: 4.7752 - 2s/epoch - 3ms/step\n",
      "Epoch 32/300\n",
      "625/625 - 2s - loss: 0.0324 - reconstruction_loss: 0.0319 - kl_loss: 4.8421 - 2s/epoch - 3ms/step\n",
      "Epoch 33/300\n",
      "625/625 - 2s - loss: 0.0322 - reconstruction_loss: 0.0317 - kl_loss: 4.8670 - 2s/epoch - 3ms/step\n",
      "Epoch 34/300\n",
      "625/625 - 2s - loss: 0.0323 - reconstruction_loss: 0.0318 - kl_loss: 4.9055 - 2s/epoch - 3ms/step\n",
      "Epoch 35/300\n",
      "625/625 - 2s - loss: 0.0318 - reconstruction_loss: 0.0313 - kl_loss: 4.9182 - 2s/epoch - 3ms/step\n",
      "Epoch 36/300\n",
      "625/625 - 2s - loss: 0.0324 - reconstruction_loss: 0.0319 - kl_loss: 4.9378 - 2s/epoch - 3ms/step\n",
      "Epoch 37/300\n",
      "625/625 - 2s - loss: 0.0316 - reconstruction_loss: 0.0311 - kl_loss: 4.9491 - 2s/epoch - 3ms/step\n",
      "Epoch 38/300\n",
      "625/625 - 2s - loss: 0.0316 - reconstruction_loss: 0.0311 - kl_loss: 4.9798 - 2s/epoch - 3ms/step\n",
      "Epoch 39/300\n",
      "625/625 - 2s - loss: 0.0316 - reconstruction_loss: 0.0311 - kl_loss: 4.9842 - 2s/epoch - 3ms/step\n",
      "Epoch 40/300\n",
      "625/625 - 2s - loss: 0.0314 - reconstruction_loss: 0.0309 - kl_loss: 5.0165 - 2s/epoch - 3ms/step\n",
      "Epoch 41/300\n",
      "625/625 - 2s - loss: 0.0317 - reconstruction_loss: 0.0312 - kl_loss: 4.9945 - 2s/epoch - 3ms/step\n",
      "Epoch 42/300\n",
      "625/625 - 2s - loss: 0.0313 - reconstruction_loss: 0.0308 - kl_loss: 5.0407 - 2s/epoch - 4ms/step\n",
      "Epoch 43/300\n",
      "625/625 - 2s - loss: 0.0312 - reconstruction_loss: 0.0307 - kl_loss: 4.9956 - 2s/epoch - 3ms/step\n",
      "Epoch 44/300\n",
      "625/625 - 2s - loss: 0.0312 - reconstruction_loss: 0.0307 - kl_loss: 5.0389 - 2s/epoch - 3ms/step\n",
      "Epoch 45/300\n",
      "625/625 - 2s - loss: 0.0316 - reconstruction_loss: 0.0311 - kl_loss: 5.0238 - 2s/epoch - 4ms/step\n",
      "Epoch 46/300\n",
      "625/625 - 2s - loss: 0.0315 - reconstruction_loss: 0.0309 - kl_loss: 5.0398 - 2s/epoch - 3ms/step\n",
      "Epoch 47/300\n",
      "625/625 - 2s - loss: 0.0318 - reconstruction_loss: 0.0313 - kl_loss: 5.0394 - 2s/epoch - 4ms/step\n",
      "Epoch 48/300\n",
      "625/625 - 2s - loss: 0.0313 - reconstruction_loss: 0.0308 - kl_loss: 5.0685 - 2s/epoch - 3ms/step\n",
      "Epoch 49/300\n",
      "625/625 - 2s - loss: 0.0310 - reconstruction_loss: 0.0305 - kl_loss: 5.0647 - 2s/epoch - 3ms/step\n",
      "Epoch 50/300\n",
      "625/625 - 2s - loss: 0.0313 - reconstruction_loss: 0.0308 - kl_loss: 5.0637 - 2s/epoch - 3ms/step\n",
      "Epoch 51/300\n",
      "625/625 - 2s - loss: 0.0312 - reconstruction_loss: 0.0307 - kl_loss: 5.1297 - 2s/epoch - 3ms/step\n",
      "Epoch 52/300\n",
      "625/625 - 2s - loss: 0.0311 - reconstruction_loss: 0.0306 - kl_loss: 5.1780 - 2s/epoch - 4ms/step\n",
      "Epoch 53/300\n",
      "625/625 - 2s - loss: 0.0305 - reconstruction_loss: 0.0300 - kl_loss: 5.1137 - 2s/epoch - 3ms/step\n",
      "Epoch 54/300\n",
      "625/625 - 2s - loss: 0.0309 - reconstruction_loss: 0.0304 - kl_loss: 5.1060 - 2s/epoch - 3ms/step\n",
      "Epoch 55/300\n",
      "625/625 - 2s - loss: 0.0315 - reconstruction_loss: 0.0310 - kl_loss: 5.1157 - 2s/epoch - 3ms/step\n",
      "Epoch 56/300\n",
      "625/625 - 2s - loss: 0.0317 - reconstruction_loss: 0.0312 - kl_loss: 5.0803 - 2s/epoch - 3ms/step\n",
      "Epoch 57/300\n",
      "625/625 - 2s - loss: 0.0317 - reconstruction_loss: 0.0312 - kl_loss: 5.1126 - 2s/epoch - 3ms/step\n",
      "Epoch 58/300\n",
      "625/625 - 2s - loss: 0.0315 - reconstruction_loss: 0.0310 - kl_loss: 5.2320 - 2s/epoch - 3ms/step\n",
      "Epoch 59/300\n",
      "625/625 - 2s - loss: 0.0321 - reconstruction_loss: 0.0316 - kl_loss: 5.2010 - 2s/epoch - 3ms/step\n",
      "Epoch 60/300\n",
      "625/625 - 2s - loss: 0.0317 - reconstruction_loss: 0.0312 - kl_loss: 5.1481 - 2s/epoch - 4ms/step\n",
      "Epoch 61/300\n",
      "625/625 - 2s - loss: 0.0313 - reconstruction_loss: 0.0308 - kl_loss: 5.1999 - 2s/epoch - 3ms/step\n",
      "Epoch 62/300\n",
      "625/625 - 2s - loss: 0.0310 - reconstruction_loss: 0.0305 - kl_loss: 5.0849 - 2s/epoch - 3ms/step\n",
      "Epoch 63/300\n",
      "625/625 - 2s - loss: 0.0307 - reconstruction_loss: 0.0302 - kl_loss: 5.1421 - 2s/epoch - 3ms/step\n",
      "Epoch 64/300\n",
      "625/625 - 2s - loss: 0.0309 - reconstruction_loss: 0.0304 - kl_loss: 5.2249 - 2s/epoch - 3ms/step\n",
      "Epoch 65/300\n",
      "625/625 - 2s - loss: 0.0308 - reconstruction_loss: 0.0303 - kl_loss: 5.2095 - 2s/epoch - 3ms/step\n",
      "Epoch 66/300\n",
      "625/625 - 2s - loss: 0.0304 - reconstruction_loss: 0.0299 - kl_loss: 5.1717 - 2s/epoch - 3ms/step\n",
      "Epoch 67/300\n",
      "625/625 - 2s - loss: 0.0308 - reconstruction_loss: 0.0302 - kl_loss: 5.1366 - 2s/epoch - 3ms/step\n",
      "Epoch 68/300\n",
      "625/625 - 2s - loss: 0.0308 - reconstruction_loss: 0.0303 - kl_loss: 5.1198 - 2s/epoch - 3ms/step\n",
      "Epoch 69/300\n",
      "625/625 - 2s - loss: 0.0307 - reconstruction_loss: 0.0302 - kl_loss: 5.1570 - 2s/epoch - 3ms/step\n",
      "Epoch 70/300\n",
      "625/625 - 2s - loss: 0.0303 - reconstruction_loss: 0.0298 - kl_loss: 5.1120 - 2s/epoch - 3ms/step\n",
      "Epoch 71/300\n",
      "625/625 - 2s - loss: 0.0305 - reconstruction_loss: 0.0300 - kl_loss: 5.1548 - 2s/epoch - 3ms/step\n",
      "Epoch 72/300\n",
      "625/625 - 2s - loss: 0.0301 - reconstruction_loss: 0.0295 - kl_loss: 5.1091 - 2s/epoch - 3ms/step\n",
      "Epoch 73/300\n",
      "625/625 - 2s - loss: 0.0302 - reconstruction_loss: 0.0296 - kl_loss: 5.1627 - 2s/epoch - 3ms/step\n",
      "Epoch 74/300\n",
      "625/625 - 2s - loss: 0.0300 - reconstruction_loss: 0.0294 - kl_loss: 5.1480 - 2s/epoch - 3ms/step\n"
     ]
    },
    {
     "name": "stdout",
     "output_type": "stream",
     "text": [
      "Epoch 75/300\n",
      "625/625 - 2s - loss: 0.0306 - reconstruction_loss: 0.0301 - kl_loss: 5.1053 - 2s/epoch - 3ms/step\n",
      "Epoch 76/300\n",
      "625/625 - 2s - loss: 0.0300 - reconstruction_loss: 0.0295 - kl_loss: 5.1453 - 2s/epoch - 3ms/step\n",
      "Epoch 77/300\n",
      "625/625 - 2s - loss: 0.0304 - reconstruction_loss: 0.0299 - kl_loss: 5.1145 - 2s/epoch - 3ms/step\n",
      "Epoch 78/300\n",
      "625/625 - 2s - loss: 0.0299 - reconstruction_loss: 0.0294 - kl_loss: 5.1405 - 2s/epoch - 3ms/step\n",
      "Epoch 79/300\n",
      "625/625 - 2s - loss: 0.0301 - reconstruction_loss: 0.0296 - kl_loss: 5.1710 - 2s/epoch - 3ms/step\n",
      "Epoch 80/300\n",
      "625/625 - 2s - loss: 0.0297 - reconstruction_loss: 0.0291 - kl_loss: 5.1581 - 2s/epoch - 3ms/step\n",
      "Epoch 81/300\n",
      "625/625 - 2s - loss: 0.0298 - reconstruction_loss: 0.0293 - kl_loss: 5.1655 - 2s/epoch - 3ms/step\n",
      "Epoch 82/300\n",
      "625/625 - 2s - loss: 0.0298 - reconstruction_loss: 0.0293 - kl_loss: 5.1691 - 2s/epoch - 3ms/step\n",
      "Epoch 83/300\n",
      "625/625 - 2s - loss: 0.0299 - reconstruction_loss: 0.0294 - kl_loss: 5.1693 - 2s/epoch - 3ms/step\n",
      "Epoch 84/300\n",
      "625/625 - 4s - loss: 0.0301 - reconstruction_loss: 0.0296 - kl_loss: 5.2228 - 4s/epoch - 6ms/step\n",
      "Epoch 85/300\n",
      "625/625 - 2s - loss: 0.0297 - reconstruction_loss: 0.0292 - kl_loss: 5.1625 - 2s/epoch - 4ms/step\n",
      "Epoch 86/300\n",
      "625/625 - 2s - loss: 0.0297 - reconstruction_loss: 0.0292 - kl_loss: 5.1469 - 2s/epoch - 3ms/step\n",
      "Epoch 87/300\n",
      "625/625 - 2s - loss: 0.0295 - reconstruction_loss: 0.0290 - kl_loss: 5.2023 - 2s/epoch - 3ms/step\n",
      "Epoch 88/300\n",
      "625/625 - 2s - loss: 0.0294 - reconstruction_loss: 0.0289 - kl_loss: 5.1087 - 2s/epoch - 3ms/step\n",
      "Epoch 89/300\n",
      "625/625 - 2s - loss: 0.0297 - reconstruction_loss: 0.0292 - kl_loss: 5.1703 - 2s/epoch - 4ms/step\n",
      "Epoch 90/300\n",
      "625/625 - 2s - loss: 0.0292 - reconstruction_loss: 0.0287 - kl_loss: 5.1400 - 2s/epoch - 4ms/step\n",
      "Epoch 91/300\n",
      "625/625 - 2s - loss: 0.0291 - reconstruction_loss: 0.0286 - kl_loss: 5.1856 - 2s/epoch - 3ms/step\n",
      "Epoch 92/300\n",
      "625/625 - 2s - loss: 0.0297 - reconstruction_loss: 0.0292 - kl_loss: 5.1367 - 2s/epoch - 4ms/step\n",
      "Epoch 93/300\n",
      "625/625 - 2s - loss: 0.0291 - reconstruction_loss: 0.0286 - kl_loss: 5.1788 - 2s/epoch - 4ms/step\n",
      "Epoch 94/300\n",
      "625/625 - 2s - loss: 0.0293 - reconstruction_loss: 0.0287 - kl_loss: 5.1237 - 2s/epoch - 4ms/step\n",
      "Epoch 95/300\n",
      "625/625 - 2s - loss: 0.0290 - reconstruction_loss: 0.0285 - kl_loss: 5.1489 - 2s/epoch - 3ms/step\n",
      "Epoch 96/300\n",
      "625/625 - 2s - loss: 0.0293 - reconstruction_loss: 0.0288 - kl_loss: 5.1212 - 2s/epoch - 3ms/step\n",
      "Epoch 97/300\n",
      "625/625 - 2s - loss: 0.0288 - reconstruction_loss: 0.0283 - kl_loss: 5.1591 - 2s/epoch - 4ms/step\n",
      "Epoch 98/300\n",
      "625/625 - 2s - loss: 0.0294 - reconstruction_loss: 0.0288 - kl_loss: 5.1099 - 2s/epoch - 3ms/step\n",
      "Epoch 99/300\n",
      "625/625 - 2s - loss: 0.0295 - reconstruction_loss: 0.0290 - kl_loss: 5.0863 - 2s/epoch - 3ms/step\n",
      "Epoch 100/300\n",
      "625/625 - 2s - loss: 0.0299 - reconstruction_loss: 0.0294 - kl_loss: 5.0501 - 2s/epoch - 3ms/step\n",
      "Epoch 101/300\n",
      "625/625 - 2s - loss: 0.0304 - reconstruction_loss: 0.0299 - kl_loss: 5.1363 - 2s/epoch - 3ms/step\n",
      "Epoch 102/300\n",
      "625/625 - 2s - loss: 0.0300 - reconstruction_loss: 0.0295 - kl_loss: 5.1089 - 2s/epoch - 3ms/step\n",
      "Epoch 103/300\n",
      "625/625 - 2s - loss: 0.0296 - reconstruction_loss: 0.0291 - kl_loss: 5.0584 - 2s/epoch - 3ms/step\n",
      "Epoch 104/300\n",
      "625/625 - 2s - loss: 0.0291 - reconstruction_loss: 0.0286 - kl_loss: 5.0558 - 2s/epoch - 3ms/step\n",
      "Epoch 105/300\n",
      "625/625 - 2s - loss: 0.0286 - reconstruction_loss: 0.0281 - kl_loss: 5.0659 - 2s/epoch - 3ms/step\n",
      "Epoch 106/300\n",
      "625/625 - 2s - loss: 0.0291 - reconstruction_loss: 0.0286 - kl_loss: 5.0763 - 2s/epoch - 3ms/step\n",
      "Epoch 107/300\n",
      "625/625 - 2s - loss: 0.0291 - reconstruction_loss: 0.0286 - kl_loss: 5.1076 - 2s/epoch - 3ms/step\n",
      "Epoch 108/300\n",
      "625/625 - 2s - loss: 0.0288 - reconstruction_loss: 0.0283 - kl_loss: 5.0889 - 2s/epoch - 3ms/step\n",
      "Epoch 109/300\n",
      "625/625 - 2s - loss: 0.0288 - reconstruction_loss: 0.0283 - kl_loss: 5.1257 - 2s/epoch - 3ms/step\n",
      "Epoch 110/300\n",
      "625/625 - 2s - loss: 0.0301 - reconstruction_loss: 0.0296 - kl_loss: 5.0195 - 2s/epoch - 4ms/step\n",
      "Epoch 111/300\n",
      "625/625 - 2s - loss: 0.0286 - reconstruction_loss: 0.0281 - kl_loss: 5.0729 - 2s/epoch - 4ms/step\n",
      "Epoch 112/300\n",
      "625/625 - 2s - loss: 0.0285 - reconstruction_loss: 0.0280 - kl_loss: 5.1124 - 2s/epoch - 4ms/step\n",
      "Epoch 113/300\n",
      "625/625 - 2s - loss: 0.0298 - reconstruction_loss: 0.0293 - kl_loss: 5.0737 - 2s/epoch - 4ms/step\n",
      "Epoch 114/300\n",
      "625/625 - 2s - loss: 0.0317 - reconstruction_loss: 0.0312 - kl_loss: 5.0347 - 2s/epoch - 3ms/step\n",
      "Epoch 115/300\n",
      "625/625 - 2s - loss: 0.0312 - reconstruction_loss: 0.0307 - kl_loss: 5.0626 - 2s/epoch - 4ms/step\n",
      "Epoch 116/300\n",
      "625/625 - 2s - loss: 0.0304 - reconstruction_loss: 0.0299 - kl_loss: 5.1802 - 2s/epoch - 3ms/step\n",
      "Epoch 117/300\n",
      "625/625 - 2s - loss: 0.0298 - reconstruction_loss: 0.0292 - kl_loss: 5.1876 - 2s/epoch - 3ms/step\n",
      "Epoch 118/300\n",
      "625/625 - 2s - loss: 0.0291 - reconstruction_loss: 0.0286 - kl_loss: 5.1681 - 2s/epoch - 3ms/step\n",
      "Epoch 119/300\n",
      "625/625 - 2s - loss: 0.0294 - reconstruction_loss: 0.0289 - kl_loss: 5.1963 - 2s/epoch - 4ms/step\n",
      "Epoch 120/300\n",
      "625/625 - 2s - loss: 0.0296 - reconstruction_loss: 0.0291 - kl_loss: 5.1938 - 2s/epoch - 4ms/step\n",
      "Epoch 121/300\n",
      "625/625 - 2s - loss: 0.0297 - reconstruction_loss: 0.0292 - kl_loss: 5.1525 - 2s/epoch - 3ms/step\n",
      "Epoch 122/300\n",
      "625/625 - 2s - loss: 0.0287 - reconstruction_loss: 0.0282 - kl_loss: 5.1763 - 2s/epoch - 4ms/step\n",
      "Epoch 123/300\n",
      "625/625 - 2s - loss: 0.0286 - reconstruction_loss: 0.0281 - kl_loss: 5.2450 - 2s/epoch - 3ms/step\n",
      "Epoch 124/300\n",
      "625/625 - 3s - loss: 0.0291 - reconstruction_loss: 0.0286 - kl_loss: 5.1446 - 3s/epoch - 4ms/step\n",
      "Epoch 125/300\n",
      "625/625 - 2s - loss: 0.0291 - reconstruction_loss: 0.0286 - kl_loss: 5.3031 - 2s/epoch - 4ms/step\n",
      "Epoch 126/300\n",
      "625/625 - 3s - loss: 0.0294 - reconstruction_loss: 0.0289 - kl_loss: 5.2792 - 3s/epoch - 4ms/step\n",
      "Epoch 127/300\n",
      "625/625 - 3s - loss: 0.0294 - reconstruction_loss: 0.0288 - kl_loss: 5.2789 - 3s/epoch - 4ms/step\n",
      "Epoch 128/300\n",
      "625/625 - 3s - loss: 0.0292 - reconstruction_loss: 0.0287 - kl_loss: 5.2860 - 3s/epoch - 4ms/step\n",
      "Epoch 129/300\n",
      "625/625 - 2s - loss: 0.0294 - reconstruction_loss: 0.0289 - kl_loss: 5.2365 - 2s/epoch - 3ms/step\n",
      "Epoch 130/300\n",
      "625/625 - 2s - loss: 0.0291 - reconstruction_loss: 0.0286 - kl_loss: 5.2779 - 2s/epoch - 3ms/step\n",
      "Epoch 131/300\n",
      "625/625 - 2s - loss: 0.0290 - reconstruction_loss: 0.0285 - kl_loss: 5.2274 - 2s/epoch - 3ms/step\n",
      "Epoch 132/300\n",
      "625/625 - 2s - loss: 0.0293 - reconstruction_loss: 0.0288 - kl_loss: 5.2576 - 2s/epoch - 3ms/step\n",
      "Epoch 133/300\n",
      "625/625 - 2s - loss: 0.0285 - reconstruction_loss: 0.0280 - kl_loss: 5.2239 - 2s/epoch - 4ms/step\n",
      "Epoch 134/300\n",
      "625/625 - 2s - loss: 0.0280 - reconstruction_loss: 0.0275 - kl_loss: 5.3648 - 2s/epoch - 3ms/step\n",
      "Epoch 135/300\n",
      "625/625 - 2s - loss: 0.0284 - reconstruction_loss: 0.0279 - kl_loss: 5.3029 - 2s/epoch - 3ms/step\n",
      "Epoch 136/300\n",
      "625/625 - 2s - loss: 0.0281 - reconstruction_loss: 0.0275 - kl_loss: 5.3606 - 2s/epoch - 3ms/step\n",
      "Epoch 137/300\n",
      "625/625 - 2s - loss: 0.0285 - reconstruction_loss: 0.0280 - kl_loss: 5.3115 - 2s/epoch - 3ms/step\n",
      "Epoch 138/300\n",
      "625/625 - 2s - loss: 0.0287 - reconstruction_loss: 0.0282 - kl_loss: 5.2912 - 2s/epoch - 3ms/step\n",
      "Epoch 139/300\n",
      "625/625 - 2s - loss: 0.0287 - reconstruction_loss: 0.0282 - kl_loss: 5.3435 - 2s/epoch - 3ms/step\n",
      "Epoch 140/300\n",
      "625/625 - 2s - loss: 0.0287 - reconstruction_loss: 0.0281 - kl_loss: 5.3409 - 2s/epoch - 3ms/step\n",
      "Epoch 141/300\n",
      "625/625 - 2s - loss: 0.0288 - reconstruction_loss: 0.0283 - kl_loss: 5.3462 - 2s/epoch - 3ms/step\n",
      "Epoch 142/300\n",
      "625/625 - 2s - loss: 0.0290 - reconstruction_loss: 0.0285 - kl_loss: 5.2493 - 2s/epoch - 3ms/step\n",
      "Epoch 143/300\n",
      "625/625 - 2s - loss: 0.0286 - reconstruction_loss: 0.0281 - kl_loss: 5.2707 - 2s/epoch - 3ms/step\n",
      "Epoch 144/300\n",
      "625/625 - 2s - loss: 0.0283 - reconstruction_loss: 0.0278 - kl_loss: 5.3360 - 2s/epoch - 3ms/step\n",
      "Epoch 145/300\n",
      "625/625 - 2s - loss: 0.0282 - reconstruction_loss: 0.0277 - kl_loss: 5.3534 - 2s/epoch - 3ms/step\n",
      "Epoch 146/300\n",
      "625/625 - 2s - loss: 0.0282 - reconstruction_loss: 0.0277 - kl_loss: 5.3244 - 2s/epoch - 3ms/step\n",
      "Epoch 147/300\n",
      "625/625 - 2s - loss: 0.0280 - reconstruction_loss: 0.0275 - kl_loss: 5.3812 - 2s/epoch - 3ms/step\n",
      "Epoch 148/300\n",
      "625/625 - 2s - loss: 0.0281 - reconstruction_loss: 0.0276 - kl_loss: 5.4446 - 2s/epoch - 3ms/step\n"
     ]
    },
    {
     "name": "stdout",
     "output_type": "stream",
     "text": [
      "Epoch 149/300\n",
      "625/625 - 2s - loss: 0.0278 - reconstruction_loss: 0.0273 - kl_loss: 5.3357 - 2s/epoch - 3ms/step\n",
      "Epoch 150/300\n",
      "625/625 - 2s - loss: 0.0283 - reconstruction_loss: 0.0278 - kl_loss: 5.3871 - 2s/epoch - 3ms/step\n",
      "Epoch 151/300\n",
      "625/625 - 2s - loss: 0.0282 - reconstruction_loss: 0.0276 - kl_loss: 5.4208 - 2s/epoch - 3ms/step\n",
      "Epoch 152/300\n",
      "625/625 - 2s - loss: 0.0288 - reconstruction_loss: 0.0283 - kl_loss: 5.4699 - 2s/epoch - 3ms/step\n",
      "Epoch 153/300\n",
      "625/625 - 2s - loss: 0.0291 - reconstruction_loss: 0.0285 - kl_loss: 5.4206 - 2s/epoch - 3ms/step\n",
      "Epoch 154/300\n",
      "625/625 - 2s - loss: 0.0295 - reconstruction_loss: 0.0289 - kl_loss: 5.4021 - 2s/epoch - 3ms/step\n",
      "Epoch 155/300\n",
      "625/625 - 2s - loss: 0.0285 - reconstruction_loss: 0.0279 - kl_loss: 5.3771 - 2s/epoch - 3ms/step\n",
      "Epoch 156/300\n",
      "625/625 - 2s - loss: 0.0283 - reconstruction_loss: 0.0278 - kl_loss: 5.3820 - 2s/epoch - 3ms/step\n",
      "Epoch 157/300\n",
      "625/625 - 2s - loss: 0.0289 - reconstruction_loss: 0.0283 - kl_loss: 5.4480 - 2s/epoch - 3ms/step\n",
      "Epoch 158/300\n",
      "625/625 - 2s - loss: 0.0288 - reconstruction_loss: 0.0282 - kl_loss: 5.4025 - 2s/epoch - 3ms/step\n",
      "Epoch 159/300\n",
      "625/625 - 2s - loss: 0.0301 - reconstruction_loss: 0.0295 - kl_loss: 5.3082 - 2s/epoch - 3ms/step\n",
      "Epoch 160/300\n",
      "625/625 - 2s - loss: 0.0290 - reconstruction_loss: 0.0284 - kl_loss: 5.3258 - 2s/epoch - 3ms/step\n",
      "Epoch 161/300\n",
      "625/625 - 2s - loss: 0.0285 - reconstruction_loss: 0.0280 - kl_loss: 5.3627 - 2s/epoch - 3ms/step\n",
      "Epoch 162/300\n",
      "625/625 - 2s - loss: 0.0286 - reconstruction_loss: 0.0280 - kl_loss: 5.4410 - 2s/epoch - 3ms/step\n",
      "Epoch 163/300\n",
      "625/625 - 2s - loss: 0.0289 - reconstruction_loss: 0.0284 - kl_loss: 5.4377 - 2s/epoch - 3ms/step\n",
      "Epoch 164/300\n",
      "625/625 - 2s - loss: 0.0281 - reconstruction_loss: 0.0275 - kl_loss: 5.4375 - 2s/epoch - 3ms/step\n",
      "Epoch 165/300\n",
      "625/625 - 2s - loss: 0.0278 - reconstruction_loss: 0.0273 - kl_loss: 5.3466 - 2s/epoch - 3ms/step\n",
      "Epoch 166/300\n",
      "625/625 - 2s - loss: 0.0280 - reconstruction_loss: 0.0275 - kl_loss: 5.4907 - 2s/epoch - 3ms/step\n",
      "Epoch 167/300\n",
      "625/625 - 2s - loss: 0.0279 - reconstruction_loss: 0.0274 - kl_loss: 5.5270 - 2s/epoch - 3ms/step\n",
      "Epoch 168/300\n",
      "625/625 - 2s - loss: 0.0286 - reconstruction_loss: 0.0281 - kl_loss: 5.4958 - 2s/epoch - 3ms/step\n",
      "Epoch 169/300\n",
      "625/625 - 2s - loss: 0.0294 - reconstruction_loss: 0.0289 - kl_loss: 5.2490 - 2s/epoch - 3ms/step\n",
      "Epoch 170/300\n",
      "625/625 - 2s - loss: 0.0279 - reconstruction_loss: 0.0273 - kl_loss: 5.2837 - 2s/epoch - 3ms/step\n",
      "Epoch 171/300\n",
      "625/625 - 2s - loss: 0.0278 - reconstruction_loss: 0.0273 - kl_loss: 5.3153 - 2s/epoch - 3ms/step\n",
      "Epoch 172/300\n",
      "625/625 - 2s - loss: 0.0285 - reconstruction_loss: 0.0279 - kl_loss: 5.3871 - 2s/epoch - 4ms/step\n",
      "Epoch 173/300\n",
      "625/625 - 2s - loss: 0.0288 - reconstruction_loss: 0.0283 - kl_loss: 5.3378 - 2s/epoch - 4ms/step\n",
      "Epoch 174/300\n",
      "625/625 - 2s - loss: 0.0288 - reconstruction_loss: 0.0282 - kl_loss: 5.2953 - 2s/epoch - 4ms/step\n",
      "Epoch 175/300\n",
      "625/625 - 2s - loss: 0.0285 - reconstruction_loss: 0.0280 - kl_loss: 5.3052 - 2s/epoch - 4ms/step\n",
      "Epoch 176/300\n",
      "625/625 - 2s - loss: 0.0287 - reconstruction_loss: 0.0282 - kl_loss: 5.3488 - 2s/epoch - 3ms/step\n",
      "Epoch 177/300\n",
      "625/625 - 2s - loss: 0.0291 - reconstruction_loss: 0.0286 - kl_loss: 5.4004 - 2s/epoch - 3ms/step\n",
      "Epoch 178/300\n",
      "625/625 - 2s - loss: 0.0288 - reconstruction_loss: 0.0283 - kl_loss: 5.3800 - 2s/epoch - 4ms/step\n",
      "Epoch 179/300\n",
      "625/625 - 2s - loss: 0.0284 - reconstruction_loss: 0.0279 - kl_loss: 5.3963 - 2s/epoch - 4ms/step\n",
      "Epoch 180/300\n",
      "625/625 - 2s - loss: 0.0289 - reconstruction_loss: 0.0284 - kl_loss: 5.2367 - 2s/epoch - 4ms/step\n",
      "Epoch 181/300\n",
      "625/625 - 2s - loss: 0.0280 - reconstruction_loss: 0.0274 - kl_loss: 5.3748 - 2s/epoch - 3ms/step\n",
      "Epoch 182/300\n",
      "625/625 - 2s - loss: 0.0277 - reconstruction_loss: 0.0272 - kl_loss: 5.2445 - 2s/epoch - 4ms/step\n",
      "Epoch 183/300\n",
      "625/625 - 2s - loss: 0.0277 - reconstruction_loss: 0.0271 - kl_loss: 5.3577 - 2s/epoch - 4ms/step\n",
      "Epoch 184/300\n",
      "625/625 - 2s - loss: 0.0278 - reconstruction_loss: 0.0273 - kl_loss: 5.2773 - 2s/epoch - 3ms/step\n",
      "Epoch 185/300\n",
      "625/625 - 2s - loss: 0.0276 - reconstruction_loss: 0.0270 - kl_loss: 5.3250 - 2s/epoch - 4ms/step\n",
      "Epoch 186/300\n",
      "625/625 - 2s - loss: 0.0284 - reconstruction_loss: 0.0279 - kl_loss: 5.2824 - 2s/epoch - 4ms/step\n",
      "Epoch 187/300\n",
      "625/625 - 2s - loss: 0.0286 - reconstruction_loss: 0.0280 - kl_loss: 5.3029 - 2s/epoch - 3ms/step\n",
      "Epoch 188/300\n",
      "625/625 - 2s - loss: 0.0287 - reconstruction_loss: 0.0281 - kl_loss: 5.3631 - 2s/epoch - 3ms/step\n",
      "Epoch 189/300\n",
      "625/625 - 2s - loss: 0.0282 - reconstruction_loss: 0.0277 - kl_loss: 5.3429 - 2s/epoch - 4ms/step\n",
      "Epoch 190/300\n",
      "625/625 - 2s - loss: 0.0275 - reconstruction_loss: 0.0270 - kl_loss: 5.3537 - 2s/epoch - 3ms/step\n",
      "Epoch 191/300\n",
      "625/625 - 2s - loss: 0.0277 - reconstruction_loss: 0.0272 - kl_loss: 5.4250 - 2s/epoch - 3ms/step\n",
      "Epoch 192/300\n",
      "625/625 - 2s - loss: 0.0279 - reconstruction_loss: 0.0273 - kl_loss: 5.3822 - 2s/epoch - 3ms/step\n",
      "Epoch 193/300\n",
      "625/625 - 2s - loss: 0.0281 - reconstruction_loss: 0.0276 - kl_loss: 5.4125 - 2s/epoch - 3ms/step\n",
      "Epoch 194/300\n",
      "625/625 - 2s - loss: 0.0275 - reconstruction_loss: 0.0270 - kl_loss: 5.3285 - 2s/epoch - 4ms/step\n",
      "Epoch 195/300\n",
      "625/625 - 2s - loss: 0.0281 - reconstruction_loss: 0.0276 - kl_loss: 5.3305 - 2s/epoch - 3ms/step\n",
      "Epoch 196/300\n",
      "625/625 - 2s - loss: 0.0288 - reconstruction_loss: 0.0283 - kl_loss: 5.3360 - 2s/epoch - 3ms/step\n",
      "Epoch 197/300\n",
      "625/625 - 2s - loss: 0.0286 - reconstruction_loss: 0.0281 - kl_loss: 5.2756 - 2s/epoch - 4ms/step\n",
      "Epoch 198/300\n",
      "625/625 - 2s - loss: 0.0284 - reconstruction_loss: 0.0279 - kl_loss: 5.2730 - 2s/epoch - 3ms/step\n",
      "Epoch 199/300\n",
      "625/625 - 2s - loss: 0.0282 - reconstruction_loss: 0.0277 - kl_loss: 5.3450 - 2s/epoch - 3ms/step\n",
      "Epoch 200/300\n",
      "625/625 - 2s - loss: 0.0283 - reconstruction_loss: 0.0277 - kl_loss: 5.3102 - 2s/epoch - 3ms/step\n",
      "Epoch 201/300\n",
      "625/625 - 2s - loss: 0.0277 - reconstruction_loss: 0.0272 - kl_loss: 5.3022 - 2s/epoch - 4ms/step\n",
      "Epoch 202/300\n",
      "625/625 - 2s - loss: 0.0282 - reconstruction_loss: 0.0276 - kl_loss: 5.3227 - 2s/epoch - 3ms/step\n",
      "Epoch 203/300\n",
      "625/625 - 2s - loss: 0.0284 - reconstruction_loss: 0.0278 - kl_loss: 5.3486 - 2s/epoch - 3ms/step\n",
      "Epoch 204/300\n",
      "625/625 - 2s - loss: 0.0289 - reconstruction_loss: 0.0284 - kl_loss: 5.3718 - 2s/epoch - 3ms/step\n",
      "Epoch 205/300\n",
      "625/625 - 2s - loss: 0.0292 - reconstruction_loss: 0.0287 - kl_loss: 5.3088 - 2s/epoch - 3ms/step\n",
      "Epoch 206/300\n",
      "625/625 - 2s - loss: 0.0279 - reconstruction_loss: 0.0273 - kl_loss: 5.3263 - 2s/epoch - 3ms/step\n",
      "Epoch 207/300\n",
      "625/625 - 2s - loss: 0.0278 - reconstruction_loss: 0.0272 - kl_loss: 5.3510 - 2s/epoch - 3ms/step\n",
      "Epoch 208/300\n",
      "625/625 - 2s - loss: 0.0279 - reconstruction_loss: 0.0274 - kl_loss: 5.2758 - 2s/epoch - 3ms/step\n",
      "Epoch 209/300\n",
      "625/625 - 2s - loss: 0.0275 - reconstruction_loss: 0.0270 - kl_loss: 5.2739 - 2s/epoch - 3ms/step\n",
      "Epoch 210/300\n",
      "625/625 - 2s - loss: 0.0275 - reconstruction_loss: 0.0269 - kl_loss: 5.3728 - 2s/epoch - 3ms/step\n",
      "Epoch 211/300\n",
      "625/625 - 2s - loss: 0.0277 - reconstruction_loss: 0.0272 - kl_loss: 5.3179 - 2s/epoch - 3ms/step\n",
      "Epoch 212/300\n",
      "625/625 - 2s - loss: 0.0281 - reconstruction_loss: 0.0276 - kl_loss: 5.3059 - 2s/epoch - 3ms/step\n",
      "Epoch 213/300\n",
      "625/625 - 2s - loss: 0.0279 - reconstruction_loss: 0.0273 - kl_loss: 5.3252 - 2s/epoch - 3ms/step\n",
      "Epoch 214/300\n",
      "625/625 - 2s - loss: 0.0280 - reconstruction_loss: 0.0274 - kl_loss: 5.2523 - 2s/epoch - 3ms/step\n",
      "Epoch 215/300\n",
      "625/625 - 2s - loss: 0.0280 - reconstruction_loss: 0.0275 - kl_loss: 5.2064 - 2s/epoch - 3ms/step\n",
      "Epoch 216/300\n",
      "625/625 - 2s - loss: 0.0276 - reconstruction_loss: 0.0271 - kl_loss: 5.2473 - 2s/epoch - 3ms/step\n",
      "Epoch 217/300\n",
      "625/625 - 2s - loss: 0.0277 - reconstruction_loss: 0.0271 - kl_loss: 5.1932 - 2s/epoch - 3ms/step\n",
      "Epoch 218/300\n",
      "625/625 - 2s - loss: 0.0278 - reconstruction_loss: 0.0272 - kl_loss: 5.1701 - 2s/epoch - 3ms/step\n",
      "Epoch 219/300\n",
      "625/625 - 2s - loss: 0.0283 - reconstruction_loss: 0.0278 - kl_loss: 5.2232 - 2s/epoch - 3ms/step\n",
      "Epoch 220/300\n",
      "625/625 - 2s - loss: 0.0277 - reconstruction_loss: 0.0272 - kl_loss: 5.2460 - 2s/epoch - 3ms/step\n",
      "Epoch 221/300\n",
      "625/625 - 2s - loss: 0.0279 - reconstruction_loss: 0.0274 - kl_loss: 5.2412 - 2s/epoch - 3ms/step\n",
      "Epoch 222/300\n",
      "625/625 - 2s - loss: 0.0276 - reconstruction_loss: 0.0271 - kl_loss: 5.2676 - 2s/epoch - 3ms/step\n"
     ]
    },
    {
     "name": "stdout",
     "output_type": "stream",
     "text": [
      "Epoch 223/300\n",
      "625/625 - 2s - loss: 0.0276 - reconstruction_loss: 0.0271 - kl_loss: 5.2219 - 2s/epoch - 3ms/step\n",
      "Epoch 224/300\n",
      "625/625 - 2s - loss: 0.0276 - reconstruction_loss: 0.0270 - kl_loss: 5.2184 - 2s/epoch - 3ms/step\n",
      "Epoch 225/300\n",
      "625/625 - 2s - loss: 0.0273 - reconstruction_loss: 0.0267 - kl_loss: 5.2958 - 2s/epoch - 3ms/step\n",
      "Epoch 226/300\n",
      "625/625 - 2s - loss: 0.0270 - reconstruction_loss: 0.0265 - kl_loss: 5.3876 - 2s/epoch - 4ms/step\n",
      "Epoch 227/300\n",
      "625/625 - 2s - loss: 0.0274 - reconstruction_loss: 0.0268 - kl_loss: 5.3546 - 2s/epoch - 4ms/step\n",
      "Epoch 228/300\n",
      "625/625 - 2s - loss: 0.0272 - reconstruction_loss: 0.0267 - kl_loss: 5.3962 - 2s/epoch - 3ms/step\n",
      "Epoch 229/300\n",
      "625/625 - 2s - loss: 0.0279 - reconstruction_loss: 0.0274 - kl_loss: 5.3573 - 2s/epoch - 4ms/step\n",
      "Epoch 230/300\n",
      "625/625 - 2s - loss: 0.0282 - reconstruction_loss: 0.0276 - kl_loss: 5.3694 - 2s/epoch - 4ms/step\n",
      "Epoch 231/300\n",
      "625/625 - 3s - loss: 0.0276 - reconstruction_loss: 0.0271 - kl_loss: 5.4872 - 3s/epoch - 4ms/step\n",
      "Epoch 232/300\n",
      "625/625 - 2s - loss: 0.0280 - reconstruction_loss: 0.0275 - kl_loss: 5.3981 - 2s/epoch - 4ms/step\n",
      "Epoch 233/300\n",
      "625/625 - 3s - loss: 0.0283 - reconstruction_loss: 0.0278 - kl_loss: 5.4988 - 3s/epoch - 4ms/step\n",
      "Epoch 234/300\n",
      "625/625 - 3s - loss: 0.0276 - reconstruction_loss: 0.0271 - kl_loss: 5.5685 - 3s/epoch - 4ms/step\n",
      "Epoch 235/300\n",
      "625/625 - 2s - loss: 0.0277 - reconstruction_loss: 0.0271 - kl_loss: 5.4873 - 2s/epoch - 4ms/step\n",
      "Epoch 236/300\n",
      "625/625 - 2s - loss: 0.0275 - reconstruction_loss: 0.0269 - kl_loss: 5.2914 - 2s/epoch - 3ms/step\n",
      "Epoch 237/300\n",
      "625/625 - 2s - loss: 0.0272 - reconstruction_loss: 0.0267 - kl_loss: 5.3927 - 2s/epoch - 4ms/step\n",
      "Epoch 238/300\n",
      "625/625 - 2s - loss: 0.0273 - reconstruction_loss: 0.0268 - kl_loss: 5.4859 - 2s/epoch - 4ms/step\n",
      "Epoch 239/300\n",
      "625/625 - 2s - loss: 0.0284 - reconstruction_loss: 0.0278 - kl_loss: 5.5422 - 2s/epoch - 4ms/step\n",
      "Epoch 240/300\n",
      "625/625 - 2s - loss: 0.0282 - reconstruction_loss: 0.0276 - kl_loss: 5.6240 - 2s/epoch - 3ms/step\n",
      "Epoch 241/300\n",
      "625/625 - 2s - loss: 0.0276 - reconstruction_loss: 0.0271 - kl_loss: 5.6302 - 2s/epoch - 3ms/step\n",
      "Epoch 242/300\n",
      "625/625 - 2s - loss: 0.0281 - reconstruction_loss: 0.0275 - kl_loss: 5.4252 - 2s/epoch - 3ms/step\n",
      "Epoch 243/300\n",
      "625/625 - 2s - loss: 0.0277 - reconstruction_loss: 0.0272 - kl_loss: 5.4802 - 2s/epoch - 3ms/step\n",
      "Epoch 244/300\n",
      "625/625 - 2s - loss: 0.0276 - reconstruction_loss: 0.0271 - kl_loss: 5.3491 - 2s/epoch - 3ms/step\n",
      "Epoch 245/300\n",
      "625/625 - 2s - loss: 0.0279 - reconstruction_loss: 0.0274 - kl_loss: 5.2988 - 2s/epoch - 4ms/step\n",
      "Epoch 246/300\n",
      "625/625 - 2s - loss: 0.0284 - reconstruction_loss: 0.0279 - kl_loss: 5.3778 - 2s/epoch - 3ms/step\n",
      "Epoch 247/300\n",
      "625/625 - 2s - loss: 0.0279 - reconstruction_loss: 0.0274 - kl_loss: 5.5623 - 2s/epoch - 3ms/step\n",
      "Epoch 248/300\n",
      "625/625 - 2s - loss: 0.0287 - reconstruction_loss: 0.0281 - kl_loss: 5.4916 - 2s/epoch - 3ms/step\n",
      "Epoch 249/300\n",
      "625/625 - 2s - loss: 0.0291 - reconstruction_loss: 0.0285 - kl_loss: 5.4980 - 2s/epoch - 3ms/step\n",
      "Epoch 250/300\n",
      "625/625 - 2s - loss: 0.0291 - reconstruction_loss: 0.0285 - kl_loss: 5.5199 - 2s/epoch - 3ms/step\n",
      "Epoch 251/300\n",
      "625/625 - 2s - loss: 0.0291 - reconstruction_loss: 0.0285 - kl_loss: 5.5823 - 2s/epoch - 3ms/step\n",
      "Epoch 252/300\n",
      "625/625 - 2s - loss: 0.0294 - reconstruction_loss: 0.0288 - kl_loss: 5.4102 - 2s/epoch - 3ms/step\n",
      "Epoch 253/300\n",
      "625/625 - 2s - loss: 0.0294 - reconstruction_loss: 0.0289 - kl_loss: 5.4041 - 2s/epoch - 3ms/step\n",
      "Epoch 254/300\n",
      "625/625 - 2s - loss: 0.0293 - reconstruction_loss: 0.0288 - kl_loss: 5.3777 - 2s/epoch - 3ms/step\n",
      "Epoch 255/300\n",
      "625/625 - 2s - loss: 0.0289 - reconstruction_loss: 0.0283 - kl_loss: 5.4449 - 2s/epoch - 3ms/step\n",
      "Epoch 256/300\n",
      "625/625 - 2s - loss: 0.0288 - reconstruction_loss: 0.0282 - kl_loss: 5.3848 - 2s/epoch - 3ms/step\n",
      "Epoch 257/300\n",
      "625/625 - 2s - loss: 0.0292 - reconstruction_loss: 0.0287 - kl_loss: 5.4047 - 2s/epoch - 3ms/step\n",
      "Epoch 258/300\n",
      "625/625 - 2s - loss: 0.0289 - reconstruction_loss: 0.0283 - kl_loss: 5.5695 - 2s/epoch - 3ms/step\n",
      "Epoch 259/300\n",
      "625/625 - 2s - loss: 0.0289 - reconstruction_loss: 0.0283 - kl_loss: 5.5671 - 2s/epoch - 3ms/step\n",
      "Epoch 260/300\n",
      "625/625 - 2s - loss: 0.0286 - reconstruction_loss: 0.0280 - kl_loss: 5.4836 - 2s/epoch - 3ms/step\n",
      "Epoch 261/300\n",
      "625/625 - 2s - loss: 0.0280 - reconstruction_loss: 0.0275 - kl_loss: 5.5521 - 2s/epoch - 3ms/step\n",
      "Epoch 262/300\n",
      "625/625 - 2s - loss: 0.0286 - reconstruction_loss: 0.0280 - kl_loss: 5.5221 - 2s/epoch - 3ms/step\n",
      "Epoch 263/300\n",
      "625/625 - 2s - loss: 0.0284 - reconstruction_loss: 0.0279 - kl_loss: 5.3646 - 2s/epoch - 3ms/step\n",
      "Epoch 264/300\n",
      "625/625 - 2s - loss: 0.0287 - reconstruction_loss: 0.0282 - kl_loss: 5.2853 - 2s/epoch - 3ms/step\n",
      "Epoch 265/300\n",
      "625/625 - 2s - loss: 0.0295 - reconstruction_loss: 0.0289 - kl_loss: 5.2702 - 2s/epoch - 3ms/step\n",
      "Epoch 266/300\n",
      "625/625 - 2s - loss: 0.0300 - reconstruction_loss: 0.0294 - kl_loss: 5.2730 - 2s/epoch - 3ms/step\n",
      "Epoch 267/300\n",
      "625/625 - 2s - loss: 0.0283 - reconstruction_loss: 0.0277 - kl_loss: 5.3309 - 2s/epoch - 3ms/step\n",
      "Epoch 268/300\n",
      "625/625 - 2s - loss: 0.0285 - reconstruction_loss: 0.0280 - kl_loss: 5.3521 - 2s/epoch - 3ms/step\n",
      "Epoch 269/300\n",
      "625/625 - 2s - loss: 0.0285 - reconstruction_loss: 0.0279 - kl_loss: 5.4263 - 2s/epoch - 3ms/step\n",
      "Epoch 270/300\n",
      "625/625 - 2s - loss: 0.0289 - reconstruction_loss: 0.0284 - kl_loss: 5.3396 - 2s/epoch - 4ms/step\n",
      "Epoch 271/300\n",
      "625/625 - 2s - loss: 0.0294 - reconstruction_loss: 0.0289 - kl_loss: 5.2126 - 2s/epoch - 3ms/step\n",
      "Epoch 272/300\n",
      "625/625 - 2s - loss: 0.0278 - reconstruction_loss: 0.0273 - kl_loss: 5.3078 - 2s/epoch - 3ms/step\n",
      "Epoch 273/300\n",
      "625/625 - 2s - loss: 0.0275 - reconstruction_loss: 0.0270 - kl_loss: 5.2893 - 2s/epoch - 3ms/step\n",
      "Epoch 274/300\n",
      "625/625 - 2s - loss: 0.0270 - reconstruction_loss: 0.0265 - kl_loss: 5.3398 - 2s/epoch - 3ms/step\n",
      "Epoch 275/300\n",
      "625/625 - 2s - loss: 0.0271 - reconstruction_loss: 0.0266 - kl_loss: 5.3491 - 2s/epoch - 4ms/step\n",
      "Epoch 276/300\n",
      "625/625 - 2s - loss: 0.0278 - reconstruction_loss: 0.0272 - kl_loss: 5.5100 - 2s/epoch - 4ms/step\n",
      "Epoch 277/300\n",
      "625/625 - 3s - loss: 0.0283 - reconstruction_loss: 0.0278 - kl_loss: 5.4009 - 3s/epoch - 4ms/step\n",
      "Epoch 278/300\n",
      "625/625 - 2s - loss: 0.0279 - reconstruction_loss: 0.0273 - kl_loss: 5.5912 - 2s/epoch - 4ms/step\n",
      "Epoch 279/300\n",
      "625/625 - 3s - loss: 0.0274 - reconstruction_loss: 0.0268 - kl_loss: 5.4711 - 3s/epoch - 4ms/step\n",
      "Epoch 280/300\n",
      "625/625 - 2s - loss: 0.0275 - reconstruction_loss: 0.0270 - kl_loss: 5.4237 - 2s/epoch - 4ms/step\n",
      "Epoch 281/300\n",
      "625/625 - 3s - loss: 0.0277 - reconstruction_loss: 0.0271 - kl_loss: 5.5426 - 3s/epoch - 4ms/step\n",
      "Epoch 282/300\n",
      "625/625 - 3s - loss: 0.0281 - reconstruction_loss: 0.0276 - kl_loss: 5.3757 - 3s/epoch - 4ms/step\n",
      "Epoch 283/300\n",
      "625/625 - 2s - loss: 0.0283 - reconstruction_loss: 0.0278 - kl_loss: 5.2339 - 2s/epoch - 3ms/step\n",
      "Epoch 284/300\n",
      "625/625 - 2s - loss: 0.0277 - reconstruction_loss: 0.0272 - kl_loss: 5.2190 - 2s/epoch - 3ms/step\n",
      "Epoch 285/300\n",
      "625/625 - 2s - loss: 0.0274 - reconstruction_loss: 0.0269 - kl_loss: 5.3855 - 2s/epoch - 3ms/step\n",
      "Epoch 286/300\n",
      "625/625 - 2s - loss: 0.0275 - reconstruction_loss: 0.0270 - kl_loss: 5.4463 - 2s/epoch - 3ms/step\n",
      "Epoch 287/300\n",
      "625/625 - 2s - loss: 0.0275 - reconstruction_loss: 0.0269 - kl_loss: 5.6019 - 2s/epoch - 4ms/step\n",
      "Epoch 288/300\n",
      "625/625 - 3s - loss: 0.0272 - reconstruction_loss: 0.0267 - kl_loss: 5.6053 - 3s/epoch - 4ms/step\n",
      "Epoch 289/300\n",
      "625/625 - 2s - loss: 0.0269 - reconstruction_loss: 0.0263 - kl_loss: 5.4239 - 2s/epoch - 4ms/step\n",
      "Epoch 290/300\n",
      "625/625 - 2s - loss: 0.0271 - reconstruction_loss: 0.0266 - kl_loss: 5.4905 - 2s/epoch - 4ms/step\n",
      "Epoch 291/300\n",
      "625/625 - 2s - loss: 0.0272 - reconstruction_loss: 0.0267 - kl_loss: 5.4294 - 2s/epoch - 3ms/step\n",
      "Epoch 292/300\n",
      "625/625 - 2s - loss: 0.0275 - reconstruction_loss: 0.0270 - kl_loss: 5.4033 - 2s/epoch - 4ms/step\n",
      "Epoch 293/300\n",
      "625/625 - 2s - loss: 0.0282 - reconstruction_loss: 0.0276 - kl_loss: 5.4240 - 2s/epoch - 4ms/step\n",
      "Epoch 294/300\n",
      "625/625 - 2s - loss: 0.0282 - reconstruction_loss: 0.0276 - kl_loss: 5.4726 - 2s/epoch - 3ms/step\n",
      "Epoch 295/300\n",
      "625/625 - 2s - loss: 0.0280 - reconstruction_loss: 0.0275 - kl_loss: 5.5118 - 2s/epoch - 4ms/step\n",
      "Epoch 296/300\n",
      "625/625 - 2s - loss: 0.0280 - reconstruction_loss: 0.0275 - kl_loss: 5.5287 - 2s/epoch - 4ms/step\n"
     ]
    },
    {
     "name": "stdout",
     "output_type": "stream",
     "text": [
      "Epoch 297/300\n",
      "625/625 - 2s - loss: 0.0274 - reconstruction_loss: 0.0269 - kl_loss: 5.4607 - 2s/epoch - 3ms/step\n",
      "Epoch 298/300\n",
      "625/625 - 2s - loss: 0.0276 - reconstruction_loss: 0.0270 - kl_loss: 5.5848 - 2s/epoch - 4ms/step\n",
      "Epoch 299/300\n",
      "625/625 - 2s - loss: 0.0276 - reconstruction_loss: 0.0271 - kl_loss: 5.4841 - 2s/epoch - 4ms/step\n",
      "Epoch 300/300\n",
      "625/625 - 2s - loss: 0.0283 - reconstruction_loss: 0.0277 - kl_loss: 5.6037 - 2s/epoch - 3ms/step\n"
     ]
    }
   ],
   "source": [
    "#training\n",
    "reg_lambda=0.0001\n",
    "vae = VAE(encoder, decoder)\n",
    "vae.compile(optimizer=keras.optimizers.Adam())\n",
    "fit=vae.fit(trainset, epochs=300, batch_size=128, verbose=2)"
   ]
  },
  {
   "cell_type": "code",
   "execution_count": 14,
   "id": "41e0a7a8",
   "metadata": {},
   "outputs": [
    {
     "data": {
      "text/plain": [
       "<matplotlib.legend.Legend at 0x16f1611e7c0>"
      ]
     },
     "execution_count": 14,
     "metadata": {},
     "output_type": "execute_result"
    },
    {
     "data": {
      "image/png": "[encoded data removed]",
      "text/plain": [
       "<Figure size 1400x600 with 2 Axes>"
      ]
     },
     "metadata": {},
     "output_type": "display_data"
    }
   ],
   "source": [
    "fig,AX=plt.subplots(1,2,figsize=(14,6.))\n",
    "ax=AX[0]\n",
    "ax.plot(fit.history['loss'],label=\"MSE loss\",c=\"b\")\n",
    "ax.set_xlabel('epoch')\n",
    "ax.set_ylabel(\"MSE loss\")\n",
    "ax.legend()\n",
    "ax=AX[1]\n",
    "ax.plot(fit.history['kl_loss'],label=\"KL loss\",c=\"r\")\n",
    "ax.set_xlabel('epoch')\n",
    "ax.set_ylabel(\"KL loss\")\n",
    "ax.legend()"
   ]
  },
  {
   "cell_type": "markdown",
   "id": "a1e0e846",
   "metadata": {},
   "source": [
    "## Evaluate performance\n",
    "We'll now use the test set to explore the latent space distribution of data and the reconstruction accuracy"
   ]
  },
  {
   "cell_type": "code",
   "execution_count": 15,
   "id": "10df409c",
   "metadata": {},
   "outputs": [
    {
     "name": "stdout",
     "output_type": "stream",
     "text": [
      "625/625 [==============================] - 1s 1ms/step\n"
     ]
    }
   ],
   "source": [
    "encoded_test = np.array(vae.encoder.predict(testset))"
   ]
  },
  {
   "cell_type": "code",
   "execution_count": 16,
   "id": "aae37675",
   "metadata": {},
   "outputs": [
    {
     "name": "stdout",
     "output_type": "stream",
     "text": [
      "(3, 20000, 5)\n"
     ]
    }
   ],
   "source": [
    "print(encoded_test.shape)"
   ]
  },
  {
   "cell_type": "markdown",
   "id": "2fb5ff61",
   "metadata": {},
   "source": [
    "z_mean are the first dimension, z_log_var the second (used in training), we're interested in the third dimension, which are the sampled z"
   ]
  },
  {
   "cell_type": "code",
   "execution_count": 17,
   "id": "8a8e920b",
   "metadata": {},
   "outputs": [
    {
     "name": "stdout",
     "output_type": "stream",
     "text": [
      "(20000, 5)\n"
     ]
    }
   ],
   "source": [
    "dim1 = encoded_test[2,:,:]\n",
    "print(dim1.shape)"
   ]
  },
  {
   "cell_type": "markdown",
   "id": "357c9a7c",
   "metadata": {},
   "source": [
    "Sampling in the latent space is reasonably gaussian as expected"
   ]
  },
  {
   "cell_type": "code",
   "execution_count": 18,
   "id": "6161263d",
   "metadata": {},
   "outputs": [],
   "source": [
    "#df = pd.DataFrame(dim1, columns=[\"x\", \"y\"])\n",
    "#sns.jointplot(x=\"x\", y=\"y\", data=df);"
   ]
  },
  {
   "cell_type": "markdown",
   "id": "5298c76a",
   "metadata": {},
   "source": [
    "We can now use the data to decode"
   ]
  },
  {
   "cell_type": "code",
   "execution_count": 19,
   "id": "40394aeb",
   "metadata": {},
   "outputs": [
    {
     "name": "stdout",
     "output_type": "stream",
     "text": [
      "625/625 [==============================] - 1s 1ms/step\n",
      "(20000, 25, 2)\n"
     ]
    }
   ],
   "source": [
    "decoded_test = np.array(decoder.predict(encoded_test[2,:,:])).reshape(-1,numpart,dim)\n",
    "print(decoded_test.shape)"
   ]
  },
  {
   "cell_type": "markdown",
   "id": "7602682f",
   "metadata": {},
   "source": [
    "#### Check reconstruction"
   ]
  },
  {
   "cell_type": "code",
   "execution_count": 20,
   "id": "43b1aad7",
   "metadata": {},
   "outputs": [
    {
     "data": {
      "text/plain": [
       "array([[0.67650276, 0.13860153],\n",
       "       [0.64028215, 0.13918926],\n",
       "       [0.01230216, 0.15070215],\n",
       "       [0.71175456, 0.14432615],\n",
       "       [0.73065525, 0.14199169],\n",
       "       [0.21327055, 0.13986684],\n",
       "       [0.8234536 , 0.1453484 ],\n",
       "       [0.17561516, 0.1360021 ],\n",
       "       [0.5938773 , 0.13739996],\n",
       "       [0.19842826, 0.14706238],\n",
       "       [0.24771565, 0.15026239],\n",
       "       [0.8112823 , 0.16209495],\n",
       "       [0.64466906, 0.13610151],\n",
       "       [0.60257095, 0.148016  ],\n",
       "       [0.55391395, 0.14653762],\n",
       "       [0.57619166, 0.15297961],\n",
       "       [0.5221346 , 0.14983603],\n",
       "       [0.21217021, 0.15116662],\n",
       "       [0.5766885 , 0.15131709],\n",
       "       [0.4150125 , 0.13766547],\n",
       "       [0.4041223 , 0.14035462],\n",
       "       [0.50023896, 0.1708591 ],\n",
       "       [0.32799476, 0.13955511],\n",
       "       [0.94596803, 0.15731134],\n",
       "       [0.41346216, 0.13653347]], dtype=float32)"
      ]
     },
     "execution_count": 20,
     "metadata": {},
     "output_type": "execute_result"
    }
   ],
   "source": [
    "decoded_test[2]"
   ]
  },
  {
   "cell_type": "code",
   "execution_count": 21,
   "id": "9f83de44",
   "metadata": {},
   "outputs": [
    {
     "name": "stdout",
     "output_type": "stream",
     "text": [
      "[[0.7357396 0.0551421]\n",
      " [0.5976948 0.0157178]\n",
      " [0.0055137 0.2758676]\n",
      " [0.98007   0.2209758]\n",
      " [0.9461167 0.0082251]\n",
      " [0.128084  0.0174725]\n",
      " [0.8863216 0.1144696]\n",
      " [0.0517938 0.1546137]\n",
      " [0.63611   0.1121959]\n",
      " [0.1256817 0.2414754]\n",
      " [0.0260303 0.0547474]\n",
      " [0.77417   0.1767987]\n",
      " [0.2551465 0.0290568]\n",
      " [0.8193441 0.0044778]\n",
      " [0.4192217 0.1262172]\n",
      " [0.4999296 0.0587548]\n",
      " [0.5977047 0.2993228]\n",
      " [0.3657233 0.0310318]\n",
      " [0.5004398 0.1824724]\n",
      " [0.8321848 0.4347155]\n",
      " [0.710374  0.2999053]\n",
      " [0.3081798 0.115296 ]\n",
      " [0.1989948 0.114941 ]\n",
      " [0.9915429 0.1123716]\n",
      " [0.4722454 0.2955366]]\n"
     ]
    }
   ],
   "source": [
    "ts = testset.reshape(-1,numpart,dim)\n",
    "print(ts[2,:,:])"
   ]
  },
  {
   "cell_type": "code",
   "execution_count": 22,
   "id": "9a477297",
   "metadata": {},
   "outputs": [
    {
     "data": {
      "image/png": "[encoded data removed]",
      "text/plain": [
       "<Figure size 600x600 with 1 Axes>"
      ]
     },
     "metadata": {},
     "output_type": "display_data"
    }
   ],
   "source": [
    "if dim == 2:\n",
    "    ind = 1\n",
    "    plt.figure(figsize=(6, 6))\n",
    "    plt.scatter(decoded_test[ind,:,0], decoded_test[ind,:,1], s=50, c=\"b\")\n",
    "    plt.scatter(ts[ind,:,0], ts[ind,:,1], s=10, c=\"y\")\n",
    "    plt.xlim(0, 1)\n",
    "    plt.ylim(0, 1)"
   ]
  },
  {
   "cell_type": "code",
   "execution_count": 23,
   "id": "8dd8e9ef",
   "metadata": {},
   "outputs": [
    {
     "name": "stderr",
     "output_type": "stream",
     "text": [
      "MovieWriter imagemagick unavailable; using Pillow instead.\n"
     ]
    },
    {
     "data": {
      "image/png": "[encoded data removed]",
      "text/plain": [
       "<Figure size 640x480 with 1 Axes>"
      ]
     },
     "metadata": {},
     "output_type": "display_data"
    }
   ],
   "source": [
    "from matplotlib.animation import FuncAnimation\n",
    "\n",
    "# Create the figure and axis objects\n",
    "fig, ax = plt.subplots()\n",
    "\n",
    "nframes = 100\n",
    "\n",
    "# Define the animation function\n",
    "def update(ind):\n",
    "    ax.clear()\n",
    "    plt.scatter(decoded_test[ind,:,0], decoded_test[ind,:,1], s=50, c=\"b\")\n",
    "    plt.scatter(ts[ind,:,0], ts[ind,:,1], s=10, c=\"y\")\n",
    "    ax.set_title(f\"Scatter plot ({ind}/{nframes})\")\n",
    "    ax.set_xlim(0,1)\n",
    "    ax.set_ylim(0,1)\n",
    "\n",
    "# Create the animation\n",
    "animation = FuncAnimation(fig, update, frames=nframes, interval=200)\n",
    "\n",
    "# Save the animation as a GIF\n",
    "animation.save(\"prediction.gif\", writer=\"imagemagick\")\n"
   ]
  },
  {
   "cell_type": "code",
   "execution_count": 24,
   "id": "1f31d6bf",
   "metadata": {},
   "outputs": [],
   "source": [
    "if dim ==3:\n",
    "    fig = plt.figure(figsize=(15, 15))\n",
    "    ax = fig.add_subplot(projection='3d')\n",
    "    ax.scatter(decoded_test[1,:,0], decoded_test[1,:,1],decoded_test[1,:,2], s=30, c=\"b\", depthshade=True)\n",
    "    ax.scatter(ts[1,:,0], ts[1,:,1],ts[1,:,2], s=30, c=\"y\", depthshade=True)\n",
    "    ax.view_init(45,45)"
   ]
  },
  {
   "cell_type": "code",
   "execution_count": 25,
   "id": "04275f90",
   "metadata": {},
   "outputs": [
    {
     "name": "stdout",
     "output_type": "stream",
     "text": [
      "3125/3125 [==============================] - 5s 2ms/step\n",
      "0.44579112077406297 0.28399901593194976 0.7297901367060127\n"
     ]
    },
    {
     "data": {
      "image/png": "[encoded data removed]",
      "text/plain": [
       "<Figure size 800x500 with 2 Axes>"
      ]
     },
     "metadata": {},
     "output_type": "display_data"
    }
   ],
   "source": [
    "from scipy import linalg as la\n",
    "\n",
    "labels = [1]*len(data)\n",
    "def label_vis(vae, data, labels):\n",
    "    \n",
    "    #prediction\n",
    "    z_mean, _, _ = vae.encoder.predict(data)\n",
    "    \n",
    "    #PCA on z_mean\n",
    "    A = pd.DataFrame(z_mean)\n",
    "    l, V = la.eig(np.cov(A.T))\n",
    "    lr = np.copy(l.real)\n",
    "    n1 = np.argmax(l)\n",
    "    l[n1] = 0\n",
    "    n2 = np.argmax(l)\n",
    "    print(lr[n1]/sum(lr), lr[n2]/sum(lr), (lr[n1]+lr[n2])/sum(lr) )\n",
    "\n",
    "    #plot\n",
    "    plt.figure(figsize=(8, 5))\n",
    "    plt.scatter(z_mean[:, n1], z_mean[:, n2], c=labels)\n",
    "    plt.colorbar()\n",
    "    plt.xlabel(\"z[0]\")\n",
    "    plt.ylabel(\"z[1]\")\n",
    "    plt.show()\n",
    "\n",
    "label_vis(vae, vcs, labels)"
   ]
  },
  {
   "cell_type": "code",
   "execution_count": null,
   "id": "2bbb0932",
   "metadata": {},
   "outputs": [],
   "source": []
  }
 ],
 "metadata": {
  "kernelspec": {
   "display_name": "Python 3 (ipykernel)",
   "language": "python",
   "name": "python3"
  },
  "language_info": {
   "codemirror_mode": {
    "name": "ipython",
    "version": 3
   },
   "file_extension": ".py",
   "mimetype": "text/x-python",
   "name": "python",
   "nbconvert_exporter": "python",
   "pygments_lexer": "ipython3",
   "version": "3.8.3"
  }
 },
 "nbformat": 4,
 "nbformat_minor": 5
}
