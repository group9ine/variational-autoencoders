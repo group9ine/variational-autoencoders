{
 "cells": [
  {
   "cell_type": "markdown",
   "id": "cb34c7a8",
   "metadata": {},
   "source": [
    "# SBANN\n",
    "## ~~Standard boring ass neural network~~\n",
    "## Size and Batch Adaptable Neural Network"
   ]
  },
  {
   "cell_type": "markdown",
   "id": "2121bf15",
   "metadata": {},
   "source": [
    "Import necessary packages"
   ]
  },
  {
   "cell_type": "code",
   "execution_count": 1,
   "id": "79f7cdff",
   "metadata": {},
   "outputs": [],
   "source": [
    "import numpy as np\n",
    "import tensorflow as tf\n",
    "from tensorflow import keras\n",
    "from tensorflow.keras import layers\n",
    "import matplotlib.pyplot as plt\n",
    "import pandas as pd\n",
    "import seaborn as sns"
   ]
  },
  {
   "cell_type": "markdown",
   "id": "d142e12f",
   "metadata": {},
   "source": [
    "### Data"
   ]
  },
  {
   "cell_type": "markdown",
   "id": "728ed42a",
   "metadata": {},
   "source": [
    "Define core features of the dataset"
   ]
  },
  {
   "cell_type": "code",
   "execution_count": 2,
   "id": "04bdb140",
   "metadata": {},
   "outputs": [],
   "source": [
    "dim = 2\n",
    "numpart = 24\n",
    "latent_dim = 100"
   ]
  },
  {
   "cell_type": "markdown",
   "id": "a4ec27dc",
   "metadata": {},
   "source": [
    "Import and reshape data"
   ]
  },
  {
   "cell_type": "code",
   "execution_count": 3,
   "id": "f20664e3",
   "metadata": {},
   "outputs": [],
   "source": [
    "fname=\"mc-sampling/good-runs/nonpolimero_x.txt\"\n",
    "with open(fname) as f:\n",
    "    data = [\n",
    "        [float(i.strip()) for i in s.split(\" \") if i != \"\"]\n",
    "        for s in f.read().split(\"\\n\")\n",
    "        if s != \"\"]"
   ]
  },
  {
   "cell_type": "code",
   "execution_count": 4,
   "id": "3be071e6",
   "metadata": {},
   "outputs": [
    {
     "name": "stdout",
     "output_type": "stream",
     "text": [
      "[0.434266, 5.15381, 3.0801, 2.485895, 7.595433, 2.530519, 5.536051, 6.890176, 6.794987, 5.597419, 3.654383, 3.309541, 1.611617, 0.149436, 5.163913, 4.719471, 0.874511, 7.721607, 5.560267, 0.349174, 3.644267, 1.596404, 6.395426, 4.590671, 1.056682, 6.700136, 6.339667, 3.218312, 4.992017, 3.45622, 2.586908, 1.270555, 7.758214, 4.767549, 1.329824, 1.4559, 2.368081, 7.578163, 6.697496, 6.866885, 4.003242, 4.295706, 7.787586, 6.300647, 2.383461, 6.276167, 4.604075, 2.506748]\n"
     ]
    }
   ],
   "source": [
    "print(data[1])"
   ]
  },
  {
   "cell_type": "code",
   "execution_count": 5,
   "id": "d468582e",
   "metadata": {},
   "outputs": [
    {
     "name": "stdout",
     "output_type": "stream",
     "text": [
      "(10000, 24, 2) [[0.434266 5.15381 ]\n",
      " [3.0801   2.485895]\n",
      " [7.595433 2.530519]\n",
      " [5.536051 6.890176]\n",
      " [6.794987 5.597419]\n",
      " [3.654383 3.309541]\n",
      " [1.611617 0.149436]\n",
      " [5.163913 4.719471]\n",
      " [0.874511 7.721607]\n",
      " [5.560267 0.349174]\n",
      " [3.644267 1.596404]\n",
      " [6.395426 4.590671]\n",
      " [1.056682 6.700136]\n",
      " [6.339667 3.218312]\n",
      " [4.992017 3.45622 ]\n",
      " [2.586908 1.270555]\n",
      " [7.758214 4.767549]\n",
      " [1.329824 1.4559  ]\n",
      " [2.368081 7.578163]\n",
      " [6.697496 6.866885]\n",
      " [4.003242 4.295706]\n",
      " [7.787586 6.300647]\n",
      " [2.383461 6.276167]\n",
      " [4.604075 2.506748]]\n"
     ]
    }
   ],
   "source": [
    "vcs = np.array(data).reshape((-1,numpart,dim))\n",
    "#vcs = np.array(data)\n",
    "print(vcs.shape,vcs[1])"
   ]
  },
  {
   "cell_type": "markdown",
   "id": "5346d99e",
   "metadata": {},
   "source": [
    "## Sorting data\n"
   ]
  },
  {
   "cell_type": "code",
   "execution_count": 6,
   "id": "fe63eb1d",
   "metadata": {},
   "outputs": [],
   "source": [
    "sortmode = 0"
   ]
  },
  {
   "cell_type": "markdown",
   "id": "bbde238e",
   "metadata": {},
   "source": [
    "### Option 1 - x sorted cartesian coords"
   ]
  },
  {
   "cell_type": "code",
   "execution_count": 7,
   "id": "8215d868",
   "metadata": {},
   "outputs": [],
   "source": [
    "if sortmode == 1 :\n",
    "    idx = np.lexsort((vcs[:,:,1], vcs[:,:,0]))\n",
    "    \n",
    "    # Use the indices to sort each step while maintaining the rows intact\n",
    "    sorted_vcs = np.empty_like(vcs)\n",
    "    for i in range(len(vcs)):\n",
    "        sorted_vcs[i] = vcs[i][idx[i]]\n",
    "            \n",
    "    print(sorted_vcs.shape,\"\\n\",sorted_vcs[1])"
   ]
  },
  {
   "cell_type": "markdown",
   "id": "0fcca6b4",
   "metadata": {},
   "source": [
    "### Option 2 - distance from center sorted cartesian coords"
   ]
  },
  {
   "cell_type": "code",
   "execution_count": 8,
   "id": "7a6b04a0",
   "metadata": {},
   "outputs": [],
   "source": [
    "if sortmode == 2 :\n",
    "    def sort_by_distance_from_center(points):\n",
    "        #center = np.mean(points, axis=0)\n",
    "        distances = np.linalg.norm(points, axis=1)\n",
    "        sorted_indices = np.argsort(distances)\n",
    "        sorted_points = points[sorted_indices]\n",
    "        return sorted_points\n",
    "\n",
    "    for i in range (len(vcs)):\n",
    "        vcs[i,:,:] = sort_by_distance_from_center(vcs[i,:,:])\n",
    "    print(vcs.shape, vcs[1])"
   ]
  },
  {
   "cell_type": "markdown",
   "id": "db9b5536",
   "metadata": {},
   "source": [
    "### Option 3 - Monke sorting"
   ]
  },
  {
   "cell_type": "code",
   "execution_count": 9,
   "id": "3121e339",
   "metadata": {},
   "outputs": [],
   "source": [
    "if sortmode == 3 :\n",
    "    def convert_to_spherical_coordinates(cartesian_coords):\n",
    "        x, y, z = cartesian_coords[:, 0], cartesian_coords[:, 1], cartesian_coords[:, 2]\n",
    "    \n",
    "        r = np.sqrt(x**2 + y**2 + z**2)\n",
    "        theta = np.arccos(z / r)\n",
    "        phi = np.arctan2(y, x)\n",
    "    \n",
    "        spherical_coords = np.column_stack((r, theta, phi))\n",
    "        return spherical_coords\n",
    "\n",
    "    for i in range(len(vcs)):\n",
    "        vcs[i,:,:] = convert_to_spherical_coordinates(vcs[i,:,:])"
   ]
  },
  {
   "cell_type": "markdown",
   "id": "c160f951",
   "metadata": {},
   "source": [
    "### Reshape and train/test split"
   ]
  },
  {
   "cell_type": "code",
   "execution_count": 10,
   "id": "1e912918",
   "metadata": {},
   "outputs": [
    {
     "name": "stdout",
     "output_type": "stream",
     "text": [
      "(10000, 48) \n",
      " [0.434266 5.15381  3.0801   2.485895 7.595433 2.530519 5.536051 6.890176\n",
      " 6.794987 5.597419 3.654383 3.309541 1.611617 0.149436 5.163913 4.719471\n",
      " 0.874511 7.721607 5.560267 0.349174 3.644267 1.596404 6.395426 4.590671\n",
      " 1.056682 6.700136 6.339667 3.218312 4.992017 3.45622  2.586908 1.270555\n",
      " 7.758214 4.767549 1.329824 1.4559   2.368081 7.578163 6.697496 6.866885\n",
      " 4.003242 4.295706 7.787586 6.300647 2.383461 6.276167 4.604075 2.506748]\n"
     ]
    }
   ],
   "source": [
    "vcs = vcs.reshape((-1,numpart*dim))\n",
    "print(vcs.shape,\"\\n\",vcs[1])"
   ]
  },
  {
   "cell_type": "markdown",
   "id": "dc556d3b",
   "metadata": {},
   "source": [
    "Split in training and test set"
   ]
  },
  {
   "cell_type": "code",
   "execution_count": 11,
   "id": "7e97d525",
   "metadata": {},
   "outputs": [
    {
     "name": "stdout",
     "output_type": "stream",
     "text": [
      "(8000, 48)\n",
      "(2000, 48)\n"
     ]
    }
   ],
   "source": [
    "train_perc=0.8\n",
    "trainset = vcs[:int(train_perc*len(data))]\n",
    "print(trainset.shape)\n",
    "testset = vcs[int(train_perc*len(data)):]\n",
    "print(testset.shape)"
   ]
  },
  {
   "cell_type": "markdown",
   "id": "5a611a5b",
   "metadata": {},
   "source": [
    "### Sampling class"
   ]
  },
  {
   "cell_type": "code",
   "execution_count": 12,
   "id": "1f699c38",
   "metadata": {},
   "outputs": [],
   "source": [
    "class Sampling(layers.Layer):\n",
    "    \"\"\"Uses (z_mean, z_log_var) to sample z, the vector encoding a digit.\"\"\"\n",
    "\n",
    "    def call(self, inputs):\n",
    "        z_mean, z_log_var = inputs\n",
    "        batch = tf.shape(z_mean)[0]\n",
    "        dim = tf.shape(z_mean)[1]\n",
    "        epsilon = tf.keras.backend.random_normal(shape=(batch, dim))\n",
    "        return z_mean + tf.exp(0.5 * z_log_var) * epsilon"
   ]
  },
  {
   "cell_type": "markdown",
   "id": "0e55e13e",
   "metadata": {},
   "source": [
    "### Encoder"
   ]
  },
  {
   "cell_type": "code",
   "execution_count": 13,
   "id": "67faee0e",
   "metadata": {
    "scrolled": false
   },
   "outputs": [
    {
     "name": "stdout",
     "output_type": "stream",
     "text": [
      "Model: \"encoder\"\n",
      "__________________________________________________________________________________________________\n",
      " Layer (type)                   Output Shape         Param #     Connected to                     \n",
      "==================================================================================================\n",
      " input_1 (InputLayer)           [(None, 48)]         0           []                               \n",
      "                                                                                                  \n",
      " dense (Dense)                  (None, 1920)         94080       ['input_1[0][0]']                \n",
      "                                                                                                  \n",
      " dense_1 (Dense)                (None, 1440)         2766240     ['dense[0][0]']                  \n",
      "                                                                                                  \n",
      " dense_2 (Dense)                (None, 960)          1383360     ['dense_1[0][0]']                \n",
      "                                                                                                  \n",
      " dense_3 (Dense)                (None, 480)          461280      ['dense_2[0][0]']                \n",
      "                                                                                                  \n",
      " z_mean (Dense)                 (None, 100)          48100       ['dense_3[0][0]']                \n",
      "                                                                                                  \n",
      " z_log_var (Dense)              (None, 100)          48100       ['dense_3[0][0]']                \n",
      "                                                                                                  \n",
      " sampling (Sampling)            (None, 100)          0           ['z_mean[0][0]',                 \n",
      "                                                                  'z_log_var[0][0]']              \n",
      "                                                                                                  \n",
      "==================================================================================================\n",
      "Total params: 4,801,160\n",
      "Trainable params: 4,801,160\n",
      "Non-trainable params: 0\n",
      "__________________________________________________________________________________________________\n"
     ]
    }
   ],
   "source": [
    "input_shape = (numpart*dim)\n",
    "inputs = layers.Input(shape=input_shape)\n",
    "x = layers.Dense(int(numpart*dim*40), activation='relu')(inputs)\n",
    "x = layers.Dense(int(numpart*dim*30), activation='relu')(x)\n",
    "x = layers.Dense(int(numpart*dim*20), activation='relu')(x)\n",
    "x = layers.Dense(int(numpart*dim*10), activation='relu')(x)\n",
    "z_mean = layers.Dense(latent_dim, name='z_mean')(x)\n",
    "z_log_var = layers.Dense(latent_dim, name='z_log_var')(x)\n",
    "z = Sampling()([z_mean, z_log_var])\n",
    "encoder = keras.Model(inputs, [z_mean, z_log_var, z], name=\"encoder\")\n",
    "encoder.summary()"
   ]
  },
  {
   "cell_type": "markdown",
   "id": "fcc3e390",
   "metadata": {},
   "source": [
    "### Decoder"
   ]
  },
  {
   "cell_type": "code",
   "execution_count": 14,
   "id": "c0907c43",
   "metadata": {},
   "outputs": [
    {
     "name": "stdout",
     "output_type": "stream",
     "text": [
      "Model: \"decoder\"\n",
      "_________________________________________________________________\n",
      " Layer (type)                Output Shape              Param #   \n",
      "=================================================================\n",
      " input_2 (InputLayer)        [(None, 100)]             0         \n",
      "                                                                 \n",
      " dense_4 (Dense)             (None, 480)               48480     \n",
      "                                                                 \n",
      " dense_5 (Dense)             (None, 960)               461760    \n",
      "                                                                 \n",
      " dense_6 (Dense)             (None, 1440)              1383840   \n",
      "                                                                 \n",
      " dense_7 (Dense)             (None, 1920)              2766720   \n",
      "                                                                 \n",
      " dense_8 (Dense)             (None, 48)                92208     \n",
      "                                                                 \n",
      "=================================================================\n",
      "Total params: 4,753,008\n",
      "Trainable params: 4,753,008\n",
      "Non-trainable params: 0\n",
      "_________________________________________________________________\n"
     ]
    }
   ],
   "source": [
    "latent_inputs = keras.Input(shape=(latent_dim,))\n",
    "x = layers.Dense(int(numpart*dim*10), activation=\"relu\")(latent_inputs)\n",
    "x = layers.Dense(int(numpart*dim*20), activation=\"relu\")(x)\n",
    "x = layers.Dense(int(numpart*dim*30), activation=\"relu\")(x)\n",
    "x = layers.Dense(int(numpart*dim*40), activation=\"relu\")(x)\n",
    "decoder_outputs = layers.Dense(numpart*dim)(x)\n",
    "decoder = keras.Model(latent_inputs, decoder_outputs, name=\"decoder\")\n",
    "decoder.summary()"
   ]
  },
  {
   "cell_type": "markdown",
   "id": "8a3299e2",
   "metadata": {},
   "source": [
    "### VAE Class"
   ]
  },
  {
   "cell_type": "code",
   "execution_count": 15,
   "id": "5816189c",
   "metadata": {},
   "outputs": [],
   "source": [
    "class VAE(keras.Model):\n",
    "    def __init__(self, encoder, decoder, **kwargs):\n",
    "        super().__init__(**kwargs)\n",
    "        self.encoder = encoder\n",
    "        self.decoder = decoder\n",
    "        self.total_loss_tracker = keras.metrics.Mean(name=\"total_loss\")\n",
    "        self.reconstruction_loss_tracker = keras.metrics.Mean(\n",
    "            name=\"reconstruction_loss\"\n",
    "        )\n",
    "        self.kl_loss_tracker = keras.metrics.Mean(name=\"kl_loss\")\n",
    "\n",
    "    @property\n",
    "    def metrics(self):\n",
    "        return [\n",
    "            self.total_loss_tracker,\n",
    "            self.reconstruction_loss_tracker,\n",
    "            self.kl_loss_tracker,\n",
    "        ]\n",
    "\n",
    "    def train_step(self, data):\n",
    "        with tf.GradientTape() as tape:\n",
    "            z_mean, z_log_var, z = self.encoder(data)\n",
    "            reconstruction = self.decoder(z)\n",
    "            reconstruction_loss = tf.reduce_mean(\n",
    "                keras.losses.mean_squared_error(data, reconstruction)\n",
    "            )\n",
    "            kl_loss = -0.5 * (\n",
    "                1 + z_log_var - tf.square(z_mean) - tf.exp(z_log_var)\n",
    "            )\n",
    "            kl_loss = tf.reduce_mean(kl_loss)\n",
    "            total_loss = reconstruction_loss + reg_lambda * kl_loss\n",
    "        grads = tape.gradient(total_loss, self.trainable_weights)\n",
    "        self.optimizer.apply_gradients(zip(grads, self.trainable_weights))\n",
    "        self.total_loss_tracker.update_state(total_loss)\n",
    "        self.reconstruction_loss_tracker.update_state(reconstruction_loss)\n",
    "        self.kl_loss_tracker.update_state(kl_loss)\n",
    "        return {\n",
    "            \"loss\": self.total_loss_tracker.result(),\n",
    "            \"reconstruction_loss\": self.reconstruction_loss_tracker.result(),\n",
    "            \"kl_loss\": self.kl_loss_tracker.result(),\n",
    "        }"
   ]
  },
  {
   "cell_type": "markdown",
   "id": "77af32ab",
   "metadata": {},
   "source": [
    "### Train VAE"
   ]
  },
  {
   "cell_type": "code",
   "execution_count": 18,
   "id": "1f85776b",
   "metadata": {},
   "outputs": [
    {
     "name": "stdout",
     "output_type": "stream",
     "text": [
      "Epoch 1/20\n",
      "63/63 - 13s - loss: 3.7251 - reconstruction_loss: 3.7030 - kl_loss: 2.2034 - 13s/epoch - 203ms/step\n",
      "Epoch 2/20\n",
      "63/63 - 10s - loss: 3.2296 - reconstruction_loss: 3.2025 - kl_loss: 2.7086 - 10s/epoch - 151ms/step\n",
      "Epoch 3/20\n",
      "63/63 - 9s - loss: 3.1198 - reconstruction_loss: 3.0936 - kl_loss: 2.6206 - 9s/epoch - 146ms/step\n",
      "Epoch 4/20\n",
      "63/63 - 9s - loss: 3.0382 - reconstruction_loss: 3.0118 - kl_loss: 2.6403 - 9s/epoch - 144ms/step\n",
      "Epoch 5/20\n",
      "63/63 - 9s - loss: 2.9437 - reconstruction_loss: 2.9172 - kl_loss: 2.6527 - 9s/epoch - 148ms/step\n",
      "Epoch 6/20\n",
      "63/63 - 9s - loss: 2.8912 - reconstruction_loss: 2.8650 - kl_loss: 2.6224 - 9s/epoch - 143ms/step\n",
      "Epoch 7/20\n",
      "63/63 - 9s - loss: 2.8512 - reconstruction_loss: 2.8245 - kl_loss: 2.6654 - 9s/epoch - 146ms/step\n",
      "Epoch 8/20\n",
      "63/63 - 9s - loss: 2.8046 - reconstruction_loss: 2.7777 - kl_loss: 2.6814 - 9s/epoch - 143ms/step\n",
      "Epoch 9/20\n",
      "63/63 - 9s - loss: 2.7185 - reconstruction_loss: 2.6913 - kl_loss: 2.7268 - 9s/epoch - 144ms/step\n",
      "Epoch 10/20\n",
      "63/63 - 9s - loss: 2.6433 - reconstruction_loss: 2.6155 - kl_loss: 2.7813 - 9s/epoch - 146ms/step\n",
      "Epoch 11/20\n",
      "63/63 - 9s - loss: 2.5828 - reconstruction_loss: 2.5551 - kl_loss: 2.7684 - 9s/epoch - 143ms/step\n",
      "Epoch 12/20\n",
      "63/63 - 9s - loss: 2.5062 - reconstruction_loss: 2.4784 - kl_loss: 2.7846 - 9s/epoch - 147ms/step\n",
      "Epoch 13/20\n",
      "63/63 - 9s - loss: 2.4464 - reconstruction_loss: 2.4180 - kl_loss: 2.8325 - 9s/epoch - 141ms/step\n",
      "Epoch 14/20\n",
      "63/63 - 9s - loss: 2.3218 - reconstruction_loss: 2.2932 - kl_loss: 2.8599 - 9s/epoch - 145ms/step\n",
      "Epoch 15/20\n",
      "63/63 - 9s - loss: 2.2487 - reconstruction_loss: 2.2197 - kl_loss: 2.9089 - 9s/epoch - 143ms/step\n",
      "Epoch 16/20\n",
      "63/63 - 9s - loss: 2.2166 - reconstruction_loss: 2.1874 - kl_loss: 2.9225 - 9s/epoch - 144ms/step\n",
      "Epoch 17/20\n",
      "63/63 - 9s - loss: 2.1223 - reconstruction_loss: 2.0927 - kl_loss: 2.9633 - 9s/epoch - 145ms/step\n",
      "Epoch 18/20\n",
      "63/63 - 9s - loss: 2.0491 - reconstruction_loss: 2.0191 - kl_loss: 2.9974 - 9s/epoch - 142ms/step\n",
      "Epoch 19/20\n",
      "63/63 - 9s - loss: 1.9753 - reconstruction_loss: 1.9450 - kl_loss: 3.0272 - 9s/epoch - 147ms/step\n",
      "Epoch 20/20\n",
      "63/63 - 9s - loss: 1.8777 - reconstruction_loss: 1.8470 - kl_loss: 3.0675 - 9s/epoch - 142ms/step\n"
     ]
    }
   ],
   "source": [
    "reg_lambda=0.01\n",
    "vae = VAE(encoder, decoder)\n",
    "vae.compile(optimizer=keras.optimizers.Adam(learning_rate=0.001)) #lower learning rate\n",
    "fit=vae.fit(trainset, epochs=20, batch_size=128, verbose=2)"
   ]
  },
  {
   "cell_type": "code",
   "execution_count": 19,
   "id": "4fa509d5",
   "metadata": {},
   "outputs": [
    {
     "data": {
      "text/plain": [
       "<matplotlib.legend.Legend at 0x1a300430a30>"
      ]
     },
     "execution_count": 19,
     "metadata": {},
     "output_type": "execute_result"
    },
    {
     "data": {
      "image/png": "[encoded data removed]",
      "text/plain": [
       "<Figure size 1400x600 with 2 Axes>"
      ]
     },
     "metadata": {},
     "output_type": "display_data"
    }
   ],
   "source": [
    "plt.rcParams['font.size'] = 12\n",
    "fig,AX=plt.subplots(1,2,figsize=(14,6.))\n",
    "ax=AX[0]\n",
    "ax.plot(fit.history['loss'],label=\"MSE loss\",c=\"b\")\n",
    "ax.set_xlabel('epoch')\n",
    "ax.set_ylabel(\"MSE loss\")\n",
    "ax.legend()\n",
    "ax=AX[1]\n",
    "ax.plot(fit.history['kl_loss'],label=\"KL loss\",c=\"r\")\n",
    "ax.set_xlabel('epoch')\n",
    "ax.set_ylabel(\"KL loss\")\n",
    "ax.legend()"
   ]
  },
  {
   "cell_type": "markdown",
   "id": "a1e0e846",
   "metadata": {},
   "source": [
    "## Evaluate performance\n",
    "We'll now use the test set to explore the latent space distribution of data and the reconstruction accuracy"
   ]
  },
  {
   "cell_type": "code",
   "execution_count": 20,
   "id": "10df409c",
   "metadata": {},
   "outputs": [
    {
     "name": "stdout",
     "output_type": "stream",
     "text": [
      "63/63 [==============================] - 1s 12ms/step\n"
     ]
    }
   ],
   "source": [
    "encoded_test = np.array(vae.encoder.predict(testset))"
   ]
  },
  {
   "cell_type": "code",
   "execution_count": 21,
   "id": "aae37675",
   "metadata": {},
   "outputs": [
    {
     "name": "stdout",
     "output_type": "stream",
     "text": [
      "(3, 2000, 100)\n"
     ]
    }
   ],
   "source": [
    "print(encoded_test.shape)"
   ]
  },
  {
   "cell_type": "markdown",
   "id": "2fb5ff61",
   "metadata": {},
   "source": [
    "z_mean are the first dimension, z_log_var the second (used in training), we're interested in the third dimension, which are the sampled z"
   ]
  },
  {
   "cell_type": "code",
   "execution_count": 22,
   "id": "8a8e920b",
   "metadata": {},
   "outputs": [
    {
     "name": "stdout",
     "output_type": "stream",
     "text": [
      "(2000, 100)\n"
     ]
    }
   ],
   "source": [
    "dim1 = encoded_test[2,:,:]\n",
    "print(dim1.shape)"
   ]
  },
  {
   "cell_type": "markdown",
   "id": "357c9a7c",
   "metadata": {},
   "source": [
    "Sampling in the latent space is reasonably gaussian as expected"
   ]
  },
  {
   "cell_type": "code",
   "execution_count": 23,
   "id": "6161263d",
   "metadata": {},
   "outputs": [],
   "source": [
    "#df = pd.DataFrame(dim1, columns=[\"x\", \"y\"])\n",
    "#sns.jointplot(x=\"x\", y=\"y\", data=df);"
   ]
  },
  {
   "cell_type": "markdown",
   "id": "5298c76a",
   "metadata": {},
   "source": [
    "We can now use the data to decode"
   ]
  },
  {
   "cell_type": "code",
   "execution_count": 24,
   "id": "40394aeb",
   "metadata": {},
   "outputs": [
    {
     "name": "stdout",
     "output_type": "stream",
     "text": [
      "63/63 [==============================] - 1s 13ms/step\n",
      "(2000, 24, 2)\n"
     ]
    }
   ],
   "source": [
    "decoded_test = np.array(decoder.predict(encoded_test[2,:,:])).reshape(-1,numpart,dim)\n",
    "print(decoded_test.shape)"
   ]
  },
  {
   "cell_type": "markdown",
   "id": "7602682f",
   "metadata": {},
   "source": [
    "#### Check reconstruction"
   ]
  },
  {
   "cell_type": "code",
   "execution_count": 25,
   "id": "43b1aad7",
   "metadata": {},
   "outputs": [
    {
     "data": {
      "text/plain": [
       "array([[ 5.3847823 ,  5.235876  ],\n",
       "       [ 1.5816098 ,  5.6036205 ],\n",
       "       [ 3.1625583 ,  3.748538  ],\n",
       "       [ 1.4994336 ,  6.7948546 ],\n",
       "       [ 2.5353084 ,  3.5843382 ],\n",
       "       [ 1.8846098 ,  4.041558  ],\n",
       "       [ 4.8446574 ,  5.6583457 ],\n",
       "       [ 1.5877304 ,  5.5931478 ],\n",
       "       [ 4.173245  ,  4.3869085 ],\n",
       "       [ 3.4825718 ,  3.644374  ],\n",
       "       [ 1.6977283 ,  2.3272357 ],\n",
       "       [ 3.7559948 ,  1.3335408 ],\n",
       "       [ 4.3826976 ,  5.1494493 ],\n",
       "       [ 5.32195   ,  6.946175  ],\n",
       "       [ 3.797332  ,  6.130505  ],\n",
       "       [ 2.978876  ,  7.4384084 ],\n",
       "       [ 2.5846512 ,  4.2153244 ],\n",
       "       [ 8.855645  ,  2.9227204 ],\n",
       "       [ 3.203985  ,  4.3113246 ],\n",
       "       [ 1.3958317 ,  2.7841806 ],\n",
       "       [ 6.0934296 ,  3.3929408 ],\n",
       "       [ 7.005344  ,  3.302608  ],\n",
       "       [ 6.361611  ,  1.570658  ],\n",
       "       [ 2.289038  , -0.09432283]], dtype=float32)"
      ]
     },
     "execution_count": 25,
     "metadata": {},
     "output_type": "execute_result"
    }
   ],
   "source": [
    "decoded_test[1]"
   ]
  },
  {
   "cell_type": "code",
   "execution_count": 26,
   "id": "9f83de44",
   "metadata": {},
   "outputs": [
    {
     "name": "stdout",
     "output_type": "stream",
     "text": [
      "[[4.932994 4.616597]\n",
      " [1.254589 7.873571]\n",
      " [4.823582 3.500449]\n",
      " [2.248335 4.285523]\n",
      " [0.822091 5.822735]\n",
      " [3.311856 2.977378]\n",
      " [3.009099 7.627949]\n",
      " [0.021698 7.291235]\n",
      " [3.701576 5.497831]\n",
      " [1.006858 4.678355]\n",
      " [1.099941 3.476478]\n",
      " [3.139094 1.419121]\n",
      " [2.869416 6.237726]\n",
      " [5.884103 5.215584]\n",
      " [4.739867 5.760788]\n",
      " [1.959901 5.614711]\n",
      " [3.851805 4.160261]\n",
      " [7.3156   2.58269 ]\n",
      " [1.896512 6.751844]\n",
      " [0.417868 1.859533]\n",
      " [5.909309 3.674668]\n",
      " [7.528054 1.420197]\n",
      " [6.535361 1.764241]\n",
      " [3.918503 0.022449]]\n"
     ]
    }
   ],
   "source": [
    "ts = testset.reshape(-1,numpart,dim)\n",
    "print(ts[1,:,:])"
   ]
  },
  {
   "cell_type": "code",
   "execution_count": 27,
   "id": "24d92d02",
   "metadata": {},
   "outputs": [
    {
     "data": {
      "image/png": "[encoded data removed]",
      "text/plain": [
       "<Figure size 600x600 with 1 Axes>"
      ]
     },
     "metadata": {},
     "output_type": "display_data"
    }
   ],
   "source": [
    "if dim == 2:\n",
    "    plt.figure(figsize=(6, 6))\n",
    "    plt.scatter(decoded_test[1,:,0], decoded_test[1,:,1], s=30, c=\"b\")\n",
    "    plt.scatter(ts[1,:,0], ts[1,:,1], s=30, c=\"y\")"
   ]
  },
  {
   "cell_type": "code",
   "execution_count": 28,
   "id": "1f31d6bf",
   "metadata": {},
   "outputs": [],
   "source": [
    "if dim ==3:\n",
    "    fig = plt.figure(figsize=(15, 15))\n",
    "    ax = fig.add_subplot(projection='3d')\n",
    "    ax.scatter(decoded_test[1,:,0], decoded_test[1,:,1],decoded_test[1,:,2], s=30, c=\"b\", depthshade=True)\n",
    "    ax.scatter(ts[1,:,0], ts[1,:,1],ts[1,:,2], s=30, c=\"y\", depthshade=True)\n",
    "    ax.view_init(45,45)"
   ]
  },
  {
   "cell_type": "code",
   "execution_count": null,
   "id": "d950f2b4",
   "metadata": {},
   "outputs": [],
   "source": []
  }
 ],
 "metadata": {
  "kernelspec": {
   "display_name": "Python 3 (ipykernel)",
   "language": "python",
   "name": "python3"
  },
  "language_info": {
   "codemirror_mode": {
    "name": "ipython",
    "version": 3
   },
   "file_extension": ".py",
   "mimetype": "text/x-python",
   "name": "python",
   "nbconvert_exporter": "python",
   "pygments_lexer": "ipython3",
   "version": "3.8.3"
  }
 },
 "nbformat": 4,
 "nbformat_minor": 5
}
