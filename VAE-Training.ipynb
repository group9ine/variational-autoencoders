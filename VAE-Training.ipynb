{
 "cells": [
  {
   "cell_type": "markdown",
   "id": "d43ebd54",
   "metadata": {},
   "source": [
    "### NOTEBOOK 1\n",
    "# Variational Auto Encoder\n",
    "### Warning:\n",
    "The model used in the actual analysis has the same architecture as the one shown here but has been trained on more epochs and with more data using Google-Colab\n",
    "\n",
    "Import necessary packages"
   ]
  },
  {
   "cell_type": "code",
   "execution_count": 7,
   "id": "796df58e",
   "metadata": {},
   "outputs": [
    {
     "name": "stderr",
     "output_type": "stream",
     "text": [
      "2023-06-08 16:49:13.541156: I tensorflow/core/platform/cpu_feature_guard.cc:193] This TensorFlow binary is optimized with oneAPI Deep Neural Network Library (oneDNN) to use the following CPU instructions in performance-critical operations:  SSE4.1 SSE4.2\n",
      "To enable them in other operations, rebuild TensorFlow with the appropriate compiler flags.\n"
     ]
    }
   ],
   "source": [
    "from glob import glob\n",
    "import numpy as np\n",
    "import numpy.random as npr\n",
    "import sklearn\n",
    "from sklearn.decomposition import PCA\n",
    "from scipy.spatial.distance import pdist, squareform\n",
    "import tensorflow as tf\n",
    "from tensorflow import keras\n",
    "from tensorflow.keras import layers\n",
    "import matplotlib.pyplot as plt\n",
    "import pandas as pd\n",
    "import seaborn as sns\n",
    "from scipy import linalg as la\n",
    "from keras import regularizers\n",
    "from keras import backend as K\n",
    "from keras.layers import (\n",
    "    Conv2D,\n",
    "    Conv2DTranspose,\n",
    "    Input,\n",
    "    Flatten,\n",
    "    Dense,\n",
    "    Lambda,\n",
    "    Reshape,\n",
    ")\n"
   ]
  },
  {
   "cell_type": "markdown",
   "id": "d7531068",
   "metadata": {},
   "source": [
    "Define core features of the dataset"
   ]
  },
  {
   "cell_type": "code",
   "execution_count": 8,
   "id": "a6daef7a",
   "metadata": {},
   "outputs": [],
   "source": [
    "dim = 2\n",
    "numpart = 30\n",
    "latent_dim = 40\n",
    "box_size = 10"
   ]
  },
  {
   "cell_type": "markdown",
   "id": "183a64fe",
   "metadata": {},
   "source": [
    "Import the training data and add gamma labels"
   ]
  },
  {
   "cell_type": "code",
   "execution_count": 12,
   "id": "6b0fc363",
   "metadata": {},
   "outputs": [],
   "source": [
    "dump_dir = \"./mc-sampling/good-runs/\"\n",
    "# read all position files in chosen directory\n",
    "files = glob(dump_dir + \"gamma*_10000_*_x.txt\")\n",
    "# sort files by gamma value\n",
    "files = np.array(files)[np.argsort([f.split(\"_\")[1] for f in files])]\n",
    "gamma = np.sort([f.split(\"_\")[1] for f in files]).astype(float)\n",
    "\n",
    "num_gammas = files.size\n",
    "arrays = [np.loadtxt(f) for f in files]\n",
    "\n",
    "# combine data + reshape, and assign labels to different datasets\n",
    "data = np.vstack(arrays)\n",
    "vcs = data.reshape((-1, numpart, dim)) / (box_size * np.sqrt(dim))\n",
    "labels = np.hstack([[i] * len(a) for i, a in enumerate(arrays)])"
   ]
  },
  {
   "cell_type": "markdown",
   "id": "054fed97",
   "metadata": {},
   "source": [
    "### Manipulate data\n",
    "Sort points by distance from origin"
   ]
  },
  {
   "cell_type": "code",
   "execution_count": 13,
   "id": "5fec5d0e",
   "metadata": {},
   "outputs": [],
   "source": [
    "sort_idx = np.argsort(vcs[:, :, 0] ** 2 + vcs[:, :, 1] ** 2)\n",
    "sorted_vcs = np.array(\n",
    "    [sample[sort_idx[i]] for i, sample in enumerate(vcs)]\n",
    ")"
   ]
  },
  {
   "cell_type": "markdown",
   "id": "4df40a8b",
   "metadata": {},
   "source": [
    "Compute distance matrix for each configuration"
   ]
  },
  {
   "cell_type": "code",
   "execution_count": 14,
   "id": "481747c4",
   "metadata": {},
   "outputs": [],
   "source": [
    "dm = np.array([squareform(pdist(sample)) for sample in sorted_vcs])"
   ]
  },
  {
   "cell_type": "markdown",
   "id": "57c380d6",
   "metadata": {},
   "source": [
    "Split in training and test set"
   ]
  },
  {
   "cell_type": "code",
   "execution_count": 15,
   "id": "4a171d60",
   "metadata": {},
   "outputs": [
    {
     "name": "stdout",
     "output_type": "stream",
     "text": [
      "Samples in training set:  32000\n",
      "Samples in test set:  8000\n"
     ]
    }
   ],
   "source": [
    "train_perc = 0.8\n",
    "\n",
    "m = sorted_vcs.shape[0]  # total number of samples\n",
    "m_training = int(m * train_perc)  # samples in the training set\n",
    "m_test = m - m_training  # samples in the test set\n",
    "\n",
    "while True:\n",
    "    permutation = np.random.permutation(m)\n",
    "\n",
    "    sorted_vcs = sorted_vcs[permutation]\n",
    "    labels = labels[permutation]\n",
    "    dm = dm[permutation]\n",
    "\n",
    "    trainset_conf = sorted_vcs[:m_training]\n",
    "    testset_conf = sorted_vcs[m_training:]\n",
    "\n",
    "    trainset_mat = dm[:m_training]\n",
    "    testset_mat = dm[m_training:]\n",
    "\n",
    "    counts = [\n",
    "        np.count_nonzero(labels[:m_training] == i)\n",
    "        for i in range(num_gammas)\n",
    "    ]\n",
    "\n",
    "    # if each label is represented by at least half of\n",
    "    # training set size / number of files\n",
    "    # we're good and we can stop permutating\n",
    "    if all(c > int(m_training / (2 * num_gammas)) for c in counts):\n",
    "        break\n",
    "\n",
    "print(\"Samples in training set: \", trainset_conf.shape[0])\n",
    "print(\"Samples in test set: \", testset_conf.shape[0])"
   ]
  },
  {
   "cell_type": "markdown",
   "id": "601574bb",
   "metadata": {},
   "source": [
    "## Variational Auto Encoder\n",
    "### Sampling Class"
   ]
  },
  {
   "cell_type": "code",
   "execution_count": 2,
   "id": "452f6391",
   "metadata": {},
   "outputs": [
    {
     "ename": "NameError",
     "evalue": "name 'layers' is not defined",
     "output_type": "error",
     "traceback": [
      "\u001b[0;31m---------------------------------------------------------------------------\u001b[0m",
      "\u001b[0;31mNameError\u001b[0m                                 Traceback (most recent call last)",
      "Cell \u001b[0;32mIn[2], line 1\u001b[0m\n\u001b[0;32m----> 1\u001b[0m \u001b[38;5;28;01mclass\u001b[39;00m \u001b[38;5;21;01mSampling\u001b[39;00m(\u001b[43mlayers\u001b[49m\u001b[38;5;241m.\u001b[39mLayer):\n\u001b[1;32m      3\u001b[0m     \u001b[38;5;28;01mdef\u001b[39;00m \u001b[38;5;21mcall\u001b[39m(\u001b[38;5;28mself\u001b[39m, inputs):\n\u001b[1;32m      4\u001b[0m         z_mean, z_log_var \u001b[38;5;241m=\u001b[39m inputs\n",
      "\u001b[0;31mNameError\u001b[0m: name 'layers' is not defined"
     ]
    }
   ],
   "source": [
    "class Sampling(layers.Layer):\n",
    "\n",
    "    def call(self, inputs):\n",
    "        z_mean, z_log_var = inputs\n",
    "        batch = tf.shape(z_mean)[0]\n",
    "        dim = tf.shape(z_mean)[1]\n",
    "        epsilon = tf.keras.backend.random_normal(shape=(batch, dim))\n",
    "        return z_mean + tf.exp(0.5 * z_log_var) * epsilon"
   ]
  },
  {
   "cell_type": "markdown",
   "id": "7e7e811c",
   "metadata": {},
   "source": [
    "### Encoder"
   ]
  },
  {
   "cell_type": "code",
   "execution_count": 3,
   "id": "9b85d09d",
   "metadata": {},
   "outputs": [
    {
     "ename": "NameError",
     "evalue": "name 'keras' is not defined",
     "output_type": "error",
     "traceback": [
      "\u001b[0;31m---------------------------------------------------------------------------\u001b[0m",
      "\u001b[0;31mNameError\u001b[0m                                 Traceback (most recent call last)",
      "Cell \u001b[0;32mIn[3], line 1\u001b[0m\n\u001b[0;32m----> 1\u001b[0m encoder_inputs \u001b[38;5;241m=\u001b[39m \u001b[43mkeras\u001b[49m\u001b[38;5;241m.\u001b[39mInput(shape\u001b[38;5;241m=\u001b[39m(numpart, numpart, \u001b[38;5;241m1\u001b[39m))\n\u001b[1;32m      2\u001b[0m x \u001b[38;5;241m=\u001b[39m Conv2D(\u001b[38;5;241m60\u001b[39m, \u001b[38;5;241m3\u001b[39m, padding\u001b[38;5;241m=\u001b[39m\u001b[38;5;124m\"\u001b[39m\u001b[38;5;124msame\u001b[39m\u001b[38;5;124m\"\u001b[39m, activation\u001b[38;5;241m=\u001b[39m\u001b[38;5;124m\"\u001b[39m\u001b[38;5;124mrelu\u001b[39m\u001b[38;5;124m\"\u001b[39m)(encoder_inputs)\n\u001b[1;32m      3\u001b[0m x \u001b[38;5;241m=\u001b[39m Conv2D(\u001b[38;5;241m50\u001b[39m, \u001b[38;5;241m3\u001b[39m, padding\u001b[38;5;241m=\u001b[39m\u001b[38;5;124m\"\u001b[39m\u001b[38;5;124msame\u001b[39m\u001b[38;5;124m\"\u001b[39m, activation\u001b[38;5;241m=\u001b[39m\u001b[38;5;124m\"\u001b[39m\u001b[38;5;124mrelu\u001b[39m\u001b[38;5;124m\"\u001b[39m)(x)\n",
      "\u001b[0;31mNameError\u001b[0m: name 'keras' is not defined"
     ]
    }
   ],
   "source": [
    "encoder_inputs = keras.Input(shape=(numpart, numpart, 1))\n",
    "x = Conv2D(60, 3, padding=\"same\", activation=\"relu\")(encoder_inputs)\n",
    "x = Conv2D(50, 3, padding=\"same\", activation=\"relu\")(x)\n",
    "conv_shape = K.int_shape(x)  # Shape of conv to be provided to decoder\n",
    "x = Flatten()(x)\n",
    "\n",
    "z_mean = layers.Dense(latent_dim, name=\"z_mean\")(x)\n",
    "z_log_var = layers.Dense(latent_dim, name=\"z_log_var\")(x)\n",
    "z = Sampling()([z_mean, z_log_var])\n",
    "encoder = keras.Model(\n",
    "    encoder_inputs, [z_mean, z_log_var, z], name=\"encoder\"\n",
    ")\n",
    "encoder.summary()"
   ]
  },
  {
   "cell_type": "markdown",
   "id": "6832c817",
   "metadata": {},
   "source": [
    "### Decoder"
   ]
  },
  {
   "cell_type": "code",
   "execution_count": null,
   "id": "dd9f8398",
   "metadata": {},
   "outputs": [],
   "source": [
    "decoder_input = Input(shape=(latent_dim,), name=\"decoder_input\")\n",
    "x = Dense(\n",
    "    conv_shape[1] * conv_shape[2] * conv_shape[3], activation=\"relu\"\n",
    ")(decoder_input)\n",
    "x = Reshape((conv_shape[1], conv_shape[2], conv_shape[3]))(x)\n",
    "x = Conv2DTranspose(50, 3, padding=\"same\", activation=\"relu\")(x)\n",
    "x = Conv2DTranspose(60, 3, padding=\"same\", activation=\"relu\")(x)\n",
    "decoder_outputs = Conv2DTranspose(\n",
    "    1, 3, padding=\"same\", activation=\"sigmoid\", name=\"decoder_output\"\n",
    ")(x)\n",
    "\n",
    "decoder = keras.Model(decoder_input, decoder_outputs, name=\"decoder\")\n",
    "decoder.summary()\n"
   ]
  },
  {
   "cell_type": "markdown",
   "id": "b1cb5b45",
   "metadata": {},
   "source": [
    "### VAE Class"
   ]
  },
  {
   "cell_type": "code",
   "execution_count": null,
   "id": "31e9783c",
   "metadata": {},
   "outputs": [],
   "source": [
    "reg_lambda = 0.00035\n",
    "\n",
    "\n",
    "class VAE(keras.Model):\n",
    "    def __init__(self, encoder, decoder, **kwargs):\n",
    "        super().__init__(**kwargs)\n",
    "        self.encoder = encoder\n",
    "        self.decoder = decoder\n",
    "        self.total_loss_tracker = keras.metrics.Mean(name=\"total_loss\")\n",
    "        self.reconstruction_loss_tracker = keras.metrics.Mean(\n",
    "            name=\"reconstruction_loss\"\n",
    "        )\n",
    "        self.kl_loss_tracker = keras.metrics.Mean(name=\"kl_loss\")\n",
    "\n",
    "    @property\n",
    "    def metrics(self):\n",
    "        return [\n",
    "            self.total_loss_tracker,\n",
    "            self.reconstruction_loss_tracker,\n",
    "            self.kl_loss_tracker,\n",
    "        ]\n",
    "\n",
    "    def train_step(self, data):\n",
    "        with tf.GradientTape() as tape:\n",
    "            z_mean, z_log_var, z = self.encoder(data)\n",
    "            reconstruction = self.decoder(z)\n",
    "            # Extract dimensions excluding the first 'None' dimension\n",
    "            size = reconstruction.shape[1:]\n",
    "            # noise = np.random.normal(0, 0.1, size=size)\n",
    "            # reconstruction = reconstruction + noise\n",
    "\n",
    "            # Reshape data to match decoder output shape\n",
    "            data = tf.expand_dims(data, axis=-1)\n",
    "\n",
    "            reconstruction_loss = tf.reduce_mean(\n",
    "                keras.losses.mean_squared_error(data, reconstruction)\n",
    "            )\n",
    "            kl_loss = -0.5 * (\n",
    "                1 + z_log_var - tf.square(z_mean) - tf.exp(z_log_var)\n",
    "            )\n",
    "            kl_loss = tf.reduce_mean(kl_loss)\n",
    "            total_loss = reconstruction_loss + reg_lambda * kl_loss\n",
    "        grads = tape.gradient(total_loss, self.trainable_weights)\n",
    "        self.optimizer.apply_gradients(zip(grads, self.trainable_weights))\n",
    "        self.total_loss_tracker.update_state(total_loss)\n",
    "        self.reconstruction_loss_tracker.update_state(reconstruction_loss)\n",
    "        self.kl_loss_tracker.update_state(kl_loss)\n",
    "        return {\n",
    "            \"loss\": self.total_loss_tracker.result(),\n",
    "            \"reconstruction_loss\": self.reconstruction_loss_tracker.result(),\n",
    "            \"kl_loss\": self.kl_loss_tracker.result(),\n",
    "        }\n"
   ]
  },
  {
   "cell_type": "markdown",
   "id": "58e0a332",
   "metadata": {},
   "source": [
    "### Train VAE"
   ]
  },
  {
   "cell_type": "code",
   "execution_count": null,
   "id": "99b076e7",
   "metadata": {},
   "outputs": [],
   "source": [
    "vae = VAE(encoder, decoder)\n",
    "vae.compile(optimizer=keras.optimizers.Adam(learning_rate=0.001))  # lower learning rate\n",
    "fit = vae.fit(trainset_mat, epochs=10, batch_size=128, verbose=2)"
   ]
  },
  {
   "cell_type": "code",
   "execution_count": 4,
   "id": "855069df",
   "metadata": {},
   "outputs": [
    {
     "ename": "NameError",
     "evalue": "name 'plt' is not defined",
     "output_type": "error",
     "traceback": [
      "\u001b[0;31m---------------------------------------------------------------------------\u001b[0m",
      "\u001b[0;31mNameError\u001b[0m                                 Traceback (most recent call last)",
      "Cell \u001b[0;32mIn[4], line 1\u001b[0m\n\u001b[0;32m----> 1\u001b[0m \u001b[43mplt\u001b[49m\u001b[38;5;241m.\u001b[39mrcParams[\u001b[38;5;124m\"\u001b[39m\u001b[38;5;124mfont.size\u001b[39m\u001b[38;5;124m\"\u001b[39m] \u001b[38;5;241m=\u001b[39m \u001b[38;5;241m12\u001b[39m\n\u001b[1;32m      2\u001b[0m fig, AX \u001b[38;5;241m=\u001b[39m plt\u001b[38;5;241m.\u001b[39msubplots(\u001b[38;5;241m1\u001b[39m, \u001b[38;5;241m2\u001b[39m, figsize\u001b[38;5;241m=\u001b[39m(\u001b[38;5;241m14\u001b[39m, \u001b[38;5;241m6.0\u001b[39m))\n\u001b[1;32m      3\u001b[0m ax \u001b[38;5;241m=\u001b[39m AX[\u001b[38;5;241m0\u001b[39m]\n",
      "\u001b[0;31mNameError\u001b[0m: name 'plt' is not defined"
     ]
    }
   ],
   "source": [
    "plt.rcParams[\"font.size\"] = 12\n",
    "fig, AX = plt.subplots(1, 2, figsize=(14, 6.0))\n",
    "ax = AX[0]\n",
    "ax.plot(fit.history[\"loss\"], label=\"MSE loss\", c=\"#78226B\")\n",
    "ax.set_xlabel(\"Epoch\")\n",
    "ax.set_ylabel(\"MSE loss\")\n",
    "ax.legend()\n",
    "ax = AX[1]\n",
    "ax.plot(fit.history[\"kl_loss\"], label=\"KL loss\", c=\"#FDD50B\")\n",
    "ax.set_xlabel(\"Epoch\")\n",
    "ax.set_ylabel(\"KL loss\")\n",
    "ax.legend()"
   ]
  },
  {
   "cell_type": "markdown",
   "id": "c23a10b8",
   "metadata": {},
   "source": [
    "### Save model for future use"
   ]
  },
  {
   "cell_type": "code",
   "execution_count": 6,
   "id": "a3b1154f",
   "metadata": {},
   "outputs": [
    {
     "data": {
      "text/plain": [
       "'tf.keras.models.save_model(vae.encoder, \"saved_model/encoder\")\\ntf.keras.models.save_model(vae.decoder, \"saved_model/decoder\")'"
      ]
     },
     "execution_count": 6,
     "metadata": {},
     "output_type": "execute_result"
    }
   ],
   "source": [
    "'''tf.keras.models.save_model(vae.encoder, \"saved_model/encoder\")\n",
    "tf.keras.models.save_model(vae.decoder, \"saved_model/decoder\")'''"
   ]
  },
  {
   "cell_type": "markdown",
   "id": "11eda390",
   "metadata": {},
   "source": [
    "## Test Results"
   ]
  },
  {
   "cell_type": "code",
   "execution_count": null,
   "id": "5a63bf3e",
   "metadata": {},
   "outputs": [],
   "source": []
  },
  {
   "cell_type": "markdown",
   "id": "277b0532",
   "metadata": {},
   "source": [
    "### Encoding and latent dimension\n",
    "Encode the test set"
   ]
  },
  {
   "cell_type": "code",
   "execution_count": null,
   "id": "971337bc",
   "metadata": {},
   "outputs": [],
   "source": [
    "encoded_test = np.array(vae.encoder.predict(testset_mat))\n",
    "\n",
    "print(encoded_test.shape)"
   ]
  },
  {
   "cell_type": "markdown",
   "id": "8dcd4005",
   "metadata": {},
   "source": [
    "Check clustering in latent space"
   ]
  },
  {
   "cell_type": "code",
   "execution_count": null,
   "id": "3c3c9e52",
   "metadata": {},
   "outputs": [],
   "source": [
    "def label_vis(vae, data, labels):\n",
    "    # prediction\n",
    "    z_mean, _, _ = vae.encoder.predict(data)\n",
    "\n",
    "    pca = PCA(n_components=2)\n",
    "    transformed_data = pca.fit_transform(z_mean)\n",
    "    variance_ratio = pca.explained_variance_ratio_\n",
    "    print(variance_ratio)\n",
    "\n",
    "    # plot\n",
    "    plt.figure(figsize=(5, 5))\n",
    "    plt.scatter(transformed_data[:, 0], transformed_data[:, 1], c=labels)\n",
    "    plt.colorbar()\n",
    "    plt.xlabel(\"z[0]\")\n",
    "    plt.ylabel(\"z[1]\")\n",
    "    plt.show()"
   ]
  },
  {
   "cell_type": "code",
   "execution_count": null,
   "id": "d5c948a6",
   "metadata": {},
   "outputs": [],
   "source": [
    "label_vis(vae, dm, labels)"
   ]
  },
  {
   "cell_type": "markdown",
   "id": "f38ab541",
   "metadata": {},
   "source": [
    "### Decoding\n",
    "Decode test set and compare to the original"
   ]
  },
  {
   "cell_type": "code",
   "execution_count": null,
   "id": "0896fadf",
   "metadata": {},
   "outputs": [],
   "source": [
    "decoded_test = np.array(decoder.predict(encoded_test[2, :, :])).reshape(-1, numpart, numpart)\n",
    "\n",
    "print(decoded_test.shape)"
   ]
  },
  {
   "cell_type": "code",
   "execution_count": null,
   "id": "5c291c92",
   "metadata": {},
   "outputs": [],
   "source": [
    "ind = 42\n",
    "df = pd.DataFrame(testset_mat[ind])\n",
    "df2 = pd.DataFrame(decoded_test[ind])\n",
    "df3 = pd.DataFrame(abs(testset_mat[ind] - decoded_test[ind]))\n",
    "\n",
    "fig, axs = plt.subplots(1, 3, figsize=(15, 5))\n",
    "\n",
    "sns.heatmap(pd.DataFrame(df), ax=axs[0])\n",
    "axs[0].set_title('Original Data')\n",
    "\n",
    "sns.heatmap(pd.DataFrame(df2), ax=axs[1])\n",
    "axs[1].set_title('Reconstructed Data')\n",
    "\n",
    "sns.heatmap(pd.DataFrame(df3), ax=axs[2])\n",
    "axs[2].set_title('Difference')\n",
    "\n",
    "# Adjust the spacing between subplots\n",
    "plt.tight_layout()\n",
    "\n",
    "# Display the plot\n",
    "plt.show()\n",
    "\n",
    "print(indm)"
   ]
  },
  {
   "cell_type": "markdown",
   "id": "941500a8",
   "metadata": {},
   "source": [
    "## Reconstruct Coordinates\n",
    "Extract points from distance matrix"
   ]
  },
  {
   "cell_type": "code",
   "execution_count": 16,
   "id": "8758f616",
   "metadata": {},
   "outputs": [],
   "source": [
    "def gram_to_coordinates(distance_matrix):\n",
    "    # Get the number of points\n",
    "    n = distance_matrix.shape[0]\n",
    "\n",
    "    # Compute the Gram matrix\n",
    "    gram_matrix = -0.5 * (distance_matrix**2)\n",
    "\n",
    "    # Center the Gram matrix\n",
    "    gram_matrix_centered = (\n",
    "        gram_matrix\n",
    "        - np.mean(gram_matrix, axis=0)\n",
    "        - np.mean(gram_matrix, axis=1)[:, np.newaxis]\n",
    "        + np.mean(gram_matrix)\n",
    "    )\n",
    "\n",
    "    # Perform eigendecomposition of the centered Gram matrix\n",
    "    eigenvalues, eigenvectors = np.linalg.eigh(gram_matrix_centered)\n",
    "\n",
    "    # Sort eigenvalues and eigenvectors in descending order\n",
    "    indices = np.argsort(eigenvalues)[::-1]\n",
    "    eigenvalues = eigenvalues[indices]\n",
    "    eigenvectors = eigenvectors[:, indices]\n",
    "\n",
    "    # Extract the positive square root of eigenvalues\n",
    "    sqrt_eigenvalues = np.sqrt(np.maximum(eigenvalues, 0))\n",
    "\n",
    "    # Compute the coordinates of the points in 2D space\n",
    "    coordinates = eigenvectors[:, :2] * sqrt_eigenvalues[:2]\n",
    "\n",
    "    return coordinates"
   ]
  },
  {
   "cell_type": "markdown",
   "id": "fe33dd11",
   "metadata": {},
   "source": [
    "Example with one configuration of the original data"
   ]
  },
  {
   "cell_type": "code",
   "execution_count": 22,
   "id": "33b9c6ee",
   "metadata": {},
   "outputs": [
    {
     "data": {
      "text/plain": [
       "<matplotlib.collections.PathCollection at 0x7f88e9a27940>"
      ]
     },
     "execution_count": 22,
     "metadata": {},
     "output_type": "execute_result"
    },
    {
     "data": {
      "image/png": "[encoded data removed]",
      "text/plain": [
       "<Figure size 500x500 with 1 Axes>"
      ]
     },
     "metadata": {},
     "output_type": "display_data"
    }
   ],
   "source": [
    "coordinates = gram_to_coordinates(testset_mat[1])\n",
    "\n",
    "ind = 1\n",
    "fig = plt.figure(figsize=(5, 5))\n",
    "ax = fig.add_subplot()\n",
    "l = np.sqrt(2)\n",
    "ax.scatter(\n",
    "    coordinates[:, 0] * l,\n",
    "    coordinates[:, 1] * l,\n",
    "    s=30,\n",
    "    c=\"#e63946\",\n",
    ")\n",
    "ax.scatter(\n",
    "    testset_conf[ind, :, 0] * l,\n",
    "    testset_conf[ind, :, 1] * l,\n",
    "    s=30,\n",
    "    c=\"#023e8a\",\n",
    ")"
   ]
  },
  {
   "cell_type": "markdown",
   "id": "91c3fab2",
   "metadata": {},
   "source": [
    "Shift and rotate to match original data as good as possible"
   ]
  },
  {
   "cell_type": "code",
   "execution_count": 24,
   "id": "ca1e17f8",
   "metadata": {},
   "outputs": [],
   "source": [
    "def align_points(points1, points2):\n",
    "    # Center the points by subtracting their means\n",
    "    centered_points1 = points1 - np.mean(points1, axis=0)\n",
    "    centered_points2 = points2 - np.mean(points2, axis=0)\n",
    "\n",
    "    # Compute the covariance matrix\n",
    "    covariance_matrix = centered_points2.T @ centered_points1\n",
    "\n",
    "    # Perform singular value decomposition (SVD)\n",
    "    U, _, Vt = np.linalg.svd(covariance_matrix)\n",
    "\n",
    "    # Calculate the optimal rotation matrix\n",
    "    rotation_matrix = Vt.T @ U.T\n",
    "\n",
    "    # Calculate the optimal translation vector\n",
    "    translation_vector = np.mean(points2, axis=0) - np.mean(\n",
    "        points1 @ rotation_matrix, axis=0\n",
    "    )\n",
    "\n",
    "    # Transform points1 using the estimated rotation and translation\n",
    "    transformed_points = points1 @ rotation_matrix + translation_vector\n",
    "\n",
    "    return transformed_points"
   ]
  },
  {
   "cell_type": "markdown",
   "id": "8cd15d30",
   "metadata": {},
   "source": [
    "Example with previous configuration"
   ]
  },
  {
   "cell_type": "code",
   "execution_count": 29,
   "id": "cb10e281",
   "metadata": {},
   "outputs": [
    {
     "data": {
      "text/plain": [
       "<matplotlib.collections.PathCollection at 0x7f88cefcd6f0>"
      ]
     },
     "execution_count": 29,
     "metadata": {},
     "output_type": "execute_result"
    },
    {
     "data": {
      "image/png": "[encoded data removed]",
      "text/plain": [
       "<Figure size 500x500 with 1 Axes>"
      ]
     },
     "metadata": {},
     "output_type": "display_data"
    }
   ],
   "source": [
    "coordinates = align_points(coordinates, testset_conf[1])\n",
    "ind = 1\n",
    "fig = plt.figure(figsize=(5, 5))\n",
    "ax = fig.add_subplot()\n",
    "l = np.sqrt(2)\n",
    "ax.scatter(\n",
    "    coordinates[:, 0] * l,\n",
    "    coordinates[:, 1] * l,\n",
    "    s=30,\n",
    "    c=\"#e63946\",\n",
    ")\n",
    "ax.scatter(\n",
    "    testset_conf[ind, :, 0] * l,\n",
    "    testset_conf[ind, :, 1] * l,\n",
    "    s=10,\n",
    "    c=\"#023e8a\",\n",
    ")"
   ]
  },
  {
   "cell_type": "markdown",
   "id": "f03d2f64",
   "metadata": {},
   "source": [
    "As we can see points are perfectly aligned\n",
    "\n",
    "Apply to whole dataset and plot example"
   ]
  },
  {
   "cell_type": "code",
   "execution_count": 28,
   "id": "a96d952c",
   "metadata": {},
   "outputs": [
    {
     "ename": "NameError",
     "evalue": "name 'decoded_test' is not defined",
     "output_type": "error",
     "traceback": [
      "\u001b[0;31m---------------------------------------------------------------------------\u001b[0m",
      "\u001b[0;31mNameError\u001b[0m                                 Traceback (most recent call last)",
      "Cell \u001b[0;32mIn[28], line 7\u001b[0m\n\u001b[1;32m      3\u001b[0m rec_test_dec \u001b[38;5;241m=\u001b[39m np\u001b[38;5;241m.\u001b[39mzeros((testset_conf\u001b[38;5;241m.\u001b[39mshape))\n\u001b[1;32m      5\u001b[0m \u001b[38;5;28;01mfor\u001b[39;00m i \u001b[38;5;129;01min\u001b[39;00m \u001b[38;5;28mrange\u001b[39m(\u001b[38;5;241m0\u001b[39m, \u001b[38;5;28mlen\u001b[39m(rec_test_dec)):\n\u001b[1;32m      6\u001b[0m     rec_test_dec[i] \u001b[38;5;241m=\u001b[39m align_points(\n\u001b[0;32m----> 7\u001b[0m         gram_to_coordinates(\u001b[43mdecoded_test\u001b[49m[i]), testset_conf[i]\n\u001b[1;32m      8\u001b[0m     )\n\u001b[1;32m     10\u001b[0m ind \u001b[38;5;241m=\u001b[39m \u001b[38;5;241m70\u001b[39m\n\u001b[1;32m     11\u001b[0m fig \u001b[38;5;241m=\u001b[39m plt\u001b[38;5;241m.\u001b[39mfigure(figsize\u001b[38;5;241m=\u001b[39m(\u001b[38;5;241m5\u001b[39m, \u001b[38;5;241m5\u001b[39m))\n",
      "\u001b[0;31mNameError\u001b[0m: name 'decoded_test' is not defined"
     ]
    }
   ],
   "source": [
    "dm = np.array([squareform(pdist(sample)) for sample in sorted_vcs])\n",
    "\n",
    "rec_test_dec = np.zeros((testset_conf.shape))\n",
    "\n",
    "for i in range(0, len(rec_test_dec)):\n",
    "    rec_test_dec[i] = align_points(\n",
    "        gram_to_coordinates(decoded_test[i]), testset_conf[i]\n",
    "    )\n",
    "    \n",
    "ind = 70\n",
    "fig = plt.figure(figsize=(5, 5))\n",
    "ax = fig.add_subplot()\n",
    "l = np.sqrt(2)\n",
    "ax.scatter(\n",
    "    rec_test_dec[ind, :, 0] * l,\n",
    "    rec_test_dec[ind, :, 1] * l,\n",
    "    s=30,\n",
    "    c=\"#e63946\",\n",
    ")\n",
    "ax.scatter(\n",
    "    testset_conf[ind, :, 0] * l,\n",
    "    testset_conf[ind, :, 1] * l,\n",
    "    s=30,\n",
    "    c=\"#023e8a\",\n",
    ")\n"
   ]
  },
  {
   "cell_type": "code",
   "execution_count": 36,
   "id": "95e5301f",
   "metadata": {},
   "outputs": [],
   "source": [
    "def find_best_params(points):\n",
    "    centered_points = points - np.mean(points, axis=0)\n",
    "    \n",
    "    def sign(x):\n",
    "        if x>0:\n",
    "            return 1\n",
    "        if x<0:\n",
    "            return -1\n",
    "        return 0\n",
    "    # order by distance form the center\n",
    "    centered_points = np.array(sorted(centered_points, key=lambda x: x[0]**2 + x[1]**2, reverse=True))\n",
    "    # take 3 furthest\n",
    "    selected_points = [centered_points[i] for i in range(3)]\n",
    "    \n",
    "    # going in decreasing distance order, check if each successive point is\n",
    "    ##  within the poligon with the currently selected point as vertices\n",
    "    for p in centered_points[3:]:\n",
    "        # to find if it's within the polygon, check the halfplane given by the two closest\n",
    "        p1,p2 = [pi+p for pi in sorted(selected_points-p, key=lambda x: x[0]**2 + x[1]**2)[:2]]\n",
    "        norm = np.array([p1[1]-p2[1], p2[0]-p1[0]])\n",
    "        centr = (p1+p2)/2\n",
    "        \n",
    "        p3 = None\n",
    "        for i in range(len(selected_points)):\n",
    "            if not ((selected_points[i][0] == p1[0] and selected_points[i][1] == p1[1]) or (selected_points[i][0] == p2[0] and selected_points[i][1] == p2[1])):\n",
    "                p3=selected_points[i]\n",
    "                break\n",
    "        \n",
    "        #print(p, p1, p2, sign(np.dot(p-centr,norm)), sign(np.dot(-centr, norm)))\n",
    "        if not (sign(np.dot(p-centr,norm)) == sign(np.dot(p3-centr, norm)) or sign(np.dot(p-centr, norm)) == 0):\n",
    "            # if not in poligon, select the point\n",
    "            selected_points.append(p)\n",
    "            \n",
    "    # find the polygon segment that is closer to the center\n",
    "    selected_points = sorted(selected_points, key=lambda x: np.arctan2(x[1], x[0]))\n",
    "    dists = [0 for i in range(len(selected_points))]\n",
    "    for i in range(len(selected_points)):\n",
    "        p1 = selected_points[i]\n",
    "        p2 = selected_points[i-1]\n",
    "        \n",
    "        norm = np.array([p1[1]-p2[1], p2[0]-p1[0]])\n",
    "        #print((norm[0]**2+norm[1]**2)**0.5, p1, p2, selected_points)\n",
    "        norm /= (norm[0]**2+norm[1]**2)**0.5\n",
    "        centr = (p1+p2)/2\n",
    "        dists[i] = np.dot(-centr, norm)\n",
    "    \n",
    "    c_ind = dists.index(min(dists)) # index of closest segment\n",
    "    \n",
    "    # turn points so that segment faces down\n",
    "    p1 = selected_points[c_ind]\n",
    "    p2 = selected_points[c_ind-1]\n",
    "    norm = np.array([p1[1]-p2[1], p2[0]-p1[0]])\n",
    "    #print(p1, p2)\n",
    "    \n",
    "    theta = np.pi- np.arctan2(norm[1], norm[0])\n",
    "    rot_mat = np.array([[np.cos(theta), np.sin(theta)],[-np.sin(theta), np.cos(theta)]])\n",
    "    \n",
    "    centered_points = centered_points@rot_mat\n",
    "    selected_points = np.array(selected_points)@rot_mat\n",
    "    # shift in place\n",
    "    selected_points -= centered_points.min(axis=0)\n",
    "    centered_points -= centered_points.min(axis=0)\n",
    "    return centered_points"
   ]
  },
  {
   "cell_type": "code",
   "execution_count": 38,
   "id": "c321cdd9",
   "metadata": {},
   "outputs": [],
   "source": [
    "rotating_stuff = np.zeros((testset_conf.shape))\n",
    "\n",
    "for i in range(0,len(rotating_stuff)):\n",
    "    rotating_stuff[i] = find_best_params(gram_to_coordinates(testset_mat[i]))"
   ]
  },
  {
   "cell_type": "code",
   "execution_count": 39,
   "id": "c5622a4f",
   "metadata": {},
   "outputs": [
    {
     "data": {
      "text/plain": [
       "<matplotlib.collections.PathCollection at 0x7f88d9393d60>"
      ]
     },
     "execution_count": 39,
     "metadata": {},
     "output_type": "execute_result"
    },
    {
     "data": {
      "image/png": "[encoded data removed]",
      "text/plain": [
       "<Figure size 500x500 with 1 Axes>"
      ]
     },
     "metadata": {},
     "output_type": "display_data"
    }
   ],
   "source": [
    "ind = 2\n",
    "fig = plt.figure(figsize=(5, 5))\n",
    "ax = fig.add_subplot()\n",
    "l = np.sqrt(2)\n",
    "ax.scatter(\n",
    "    rotating_stuff[ind, :, 0] * l,\n",
    "    rotating_stuff[ind, :, 1] * l,\n",
    "    s=30,\n",
    "    c=\"#e63946\",\n",
    ")\n",
    "ax.scatter(\n",
    "    testset_conf[ind, :, 0] * l,\n",
    "    testset_conf[ind, :, 1] * l,\n",
    "    s=30,\n",
    "    c=\"#023e8a\",\n",
    ")\n",
    "ax.scatter(testset_conf[ind, :, 0].mean(), testset_conf[ind, :, 1].mean(), s=30, c=\"green\")\n",
    "ax.scatter(rotating_stuff[ind, :, 0].mean(), rotating_stuff[ind, :, 1].mean(), s=30, c=\"violet\")"
   ]
  }
 ],
 "metadata": {
  "kernelspec": {
   "display_name": "Python 3 (ipykernel)",
   "language": "python",
   "name": "python3"
  },
  "language_info": {
   "codemirror_mode": {
    "name": "ipython",
    "version": 3
   },
   "file_extension": ".py",
   "mimetype": "text/x-python",
   "name": "python",
   "nbconvert_exporter": "python",
   "pygments_lexer": "ipython3",
   "version": "3.10.9"
  }
 },
 "nbformat": 4,
 "nbformat_minor": 5
}
