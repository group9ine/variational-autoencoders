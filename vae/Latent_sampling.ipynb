{
 "cells": [
  {
   "cell_type": "code",
   "execution_count": 1,
   "id": "baaef895",
   "metadata": {},
   "outputs": [
    {
     "name": "stderr",
     "output_type": "stream",
     "text": [
      "2023-06-09 12:04:09.728654: I tensorflow/core/platform/cpu_feature_guard.cc:193] This TensorFlow binary is optimized with oneAPI Deep Neural Network Library (oneDNN) to use the following CPU instructions in performance-critical operations:  AVX2 FMA\n",
      "To enable them in other operations, rebuild TensorFlow with the appropriate compiler flags.\n",
      "2023-06-09 12:04:10.543901: W tensorflow/compiler/xla/stream_executor/platform/default/dso_loader.cc:64] Could not load dynamic library 'libnvinfer.so.7'; dlerror: libnvinfer.so.7: cannot open shared object file: No such file or directory\n",
      "2023-06-09 12:04:10.543989: W tensorflow/compiler/xla/stream_executor/platform/default/dso_loader.cc:64] Could not load dynamic library 'libnvinfer_plugin.so.7'; dlerror: libnvinfer_plugin.so.7: cannot open shared object file: No such file or directory\n",
      "2023-06-09 12:04:10.543997: W tensorflow/compiler/tf2tensorrt/utils/py_utils.cc:38] TF-TRT Warning: Cannot dlopen some TensorRT libraries. If you would like to use Nvidia GPU with TensorRT, please make sure the missing libraries mentioned above are installed properly.\n"
     ]
    }
   ],
   "source": [
    "from glob import glob\n",
    "import numpy as np\n",
    "import numpy.random as npr\n",
    "import sklearn\n",
    "from sklearn.decomposition import PCA\n",
    "from scipy.spatial.distance import pdist, squareform\n",
    "import tensorflow as tf\n",
    "from tensorflow import keras\n",
    "from tensorflow.keras import layers\n",
    "import matplotlib.pyplot as plt\n",
    "import pandas as pd\n",
    "import seaborn as sns\n",
    "from scipy import linalg as la\n",
    "from keras import regularizers\n",
    "from keras import backend as K\n",
    "from keras.layers import (\n",
    "    Conv2D,\n",
    "    Conv2DTranspose,\n",
    "    Input,\n",
    "    Flatten,\n",
    "    Dense,\n",
    "    Lambda,\n",
    "    Reshape,\n",
    ")\n"
   ]
  },
  {
   "cell_type": "code",
   "execution_count": 2,
   "id": "9e7d466b",
   "metadata": {},
   "outputs": [],
   "source": [
    "npr.seed(28980)\n",
    "\n",
    "dim = 2\n",
    "numpart = 30\n",
    "latent_dim = 40\n",
    "box_size = 10\n"
   ]
  },
  {
   "cell_type": "code",
   "execution_count": 3,
   "id": "0df018d4",
   "metadata": {},
   "outputs": [],
   "source": [
    "reg_lambda = 0.00035\n",
    "\n",
    "class VAE(keras.Model):\n",
    "    def __init__(self, encoder, decoder, **kwargs):\n",
    "        super().__init__(**kwargs)\n",
    "        self.encoder = encoder\n",
    "        self.decoder = decoder\n",
    "        self.total_loss_tracker = keras.metrics.Mean(name=\"total_loss\")\n",
    "        self.reconstruction_loss_tracker = keras.metrics.Mean(\n",
    "            name=\"reconstruction_loss\"\n",
    "        )\n",
    "        self.kl_loss_tracker = keras.metrics.Mean(name=\"kl_loss\")\n",
    "\n",
    "    @property\n",
    "    def metrics(self):\n",
    "        return [\n",
    "            self.total_loss_tracker,\n",
    "            self.reconstruction_loss_tracker,\n",
    "            self.kl_loss_tracker,\n",
    "        ]\n",
    "\n",
    "    def train_step(self, data):\n",
    "        with tf.GradientTape() as tape:\n",
    "            z_mean, z_log_var, z = self.encoder(data)\n",
    "            reconstruction = self.decoder(z)\n",
    "            # Extract dimensions excluding the first 'None' dimension\n",
    "            size = reconstruction.shape[1:]\n",
    "\n",
    "            # Reshape data to match decoder output shape\n",
    "            data = tf.expand_dims(data, axis=-1)\n",
    "\n",
    "            reconstruction_loss = tf.reduce_mean(\n",
    "                keras.losses.mean_squared_error(data, reconstruction)\n",
    "            )\n",
    "            kl_loss = -0.5 * (\n",
    "                1 + z_log_var - tf.square(z_mean) - tf.exp(z_log_var)\n",
    "            )\n",
    "            kl_loss = tf.reduce_mean(kl_loss)\n",
    "            total_loss = reconstruction_loss + reg_lambda * kl_loss\n",
    "        grads = tape.gradient(total_loss, self.trainable_weights)\n",
    "        self.optimizer.apply_gradients(zip(grads, self.trainable_weights))\n",
    "        self.total_loss_tracker.update_state(total_loss)\n",
    "        self.reconstruction_loss_tracker.update_state(reconstruction_loss)\n",
    "        self.kl_loss_tracker.update_state(kl_loss)\n",
    "        return {\n",
    "            \"loss\": self.total_loss_tracker.result(),\n",
    "            \"reconstruction_loss\": self.reconstruction_loss_tracker.result(),\n",
    "            \"kl_loss\": self.kl_loss_tracker.result(),\n",
    "        }"
   ]
  },
  {
   "cell_type": "code",
   "execution_count": 4,
   "id": "90497dce",
   "metadata": {},
   "outputs": [
    {
     "name": "stderr",
     "output_type": "stream",
     "text": [
      "2023-06-09 12:04:12.544887: E tensorflow/compiler/xla/stream_executor/cuda/cuda_driver.cc:267] failed call to cuInit: CUDA_ERROR_NO_DEVICE: no CUDA-capable device is detected\n",
      "2023-06-09 12:04:12.544911: I tensorflow/compiler/xla/stream_executor/cuda/cuda_diagnostics.cc:156] kernel driver does not appear to be running on this host (davide-PC): /proc/driver/nvidia/version does not exist\n",
      "2023-06-09 12:04:12.545755: I tensorflow/core/platform/cpu_feature_guard.cc:193] This TensorFlow binary is optimized with oneAPI Deep Neural Network Library (oneDNN) to use the following CPU instructions in performance-critical operations:  AVX2 FMA\n",
      "To enable them in other operations, rebuild TensorFlow with the appropriate compiler flags.\n"
     ]
    },
    {
     "name": "stdout",
     "output_type": "stream",
     "text": [
      "WARNING:tensorflow:No training configuration found in save file, so the model was *not* compiled. Compile it manually.\n",
      "WARNING:tensorflow:No training configuration found in save file, so the model was *not* compiled. Compile it manually.\n"
     ]
    }
   ],
   "source": [
    "encoder = keras.models.load_model(\"./saved_models/encoder\")\n",
    "decoder = keras.models.load_model(\"./saved_models/decoder\")\n",
    "\n",
    "vae = VAE(encoder, decoder)"
   ]
  },
  {
   "cell_type": "code",
   "execution_count": 5,
   "id": "1d80611e",
   "metadata": {},
   "outputs": [],
   "source": [
    "def gram_to_coordinates(distance_matrix):\n",
    "    # Get the number of points\n",
    "    n = distance_matrix.shape[0]\n",
    "\n",
    "    # Compute the Gram matrix\n",
    "    gram_matrix = -0.5 * (distance_matrix**2)\n",
    "\n",
    "    # Center the Gram matrix\n",
    "    gram_matrix_centered = (\n",
    "        gram_matrix\n",
    "        - np.mean(gram_matrix, axis=0)\n",
    "        - np.mean(gram_matrix, axis=1)[:, np.newaxis]\n",
    "        + np.mean(gram_matrix)\n",
    "    )\n",
    "\n",
    "    # Perform eigendecomposition of the centered Gram matrix\n",
    "    eigenvalues, eigenvectors = np.linalg.eigh(gram_matrix_centered)\n",
    "\n",
    "    # Sort eigenvalues and eigenvectors in descending order\n",
    "    indices = np.argsort(eigenvalues)[::-1]\n",
    "    eigenvalues = eigenvalues[indices]\n",
    "    eigenvectors = eigenvectors[:, indices]\n",
    "\n",
    "    # Extract the positive square root of eigenvalues\n",
    "    sqrt_eigenvalues = np.sqrt(np.maximum(eigenvalues, 0))\n",
    "\n",
    "    # Compute the coordinates of the points in 2D space\n",
    "    coordinates = eigenvectors[:, :2] * sqrt_eigenvalues[:2]\n",
    "\n",
    "    return coordinates\n"
   ]
  },
  {
   "cell_type": "code",
   "execution_count": 6,
   "id": "18120b4a",
   "metadata": {},
   "outputs": [],
   "source": [
    "def find_best_params(points):\n",
    "    init_trans = np.mean(points, axis=0)\n",
    "    centered_points = points - init_trans\n",
    "\n",
    "    def sign(x):\n",
    "        if x > 0:\n",
    "            return 1\n",
    "        if x < 0:\n",
    "            return -1\n",
    "        return 0\n",
    "\n",
    "    # order by distance form the center\n",
    "    centered_points = np.array(\n",
    "        sorted(\n",
    "            centered_points,\n",
    "            key=lambda x: x[0] ** 2 + x[1] ** 2,\n",
    "            reverse=True,\n",
    "        )\n",
    "    )\n",
    "    # take 3 furthest\n",
    "    selected_points = [centered_points[i] for i in range(3)]\n",
    "\n",
    "    selected_points = sorted(\n",
    "        selected_points, key=lambda x: np.arctan2(x[1], x[0])\n",
    "    )\n",
    "\n",
    "    # going in decreasing distance order, check if each successive point is\n",
    "    ##  within the poligon with the currently selected point as vertices\n",
    "    for p in centered_points[3:]:\n",
    "        inside = True\n",
    "        for j in range(len(selected_points)):\n",
    "            p1 = selected_points[j]\n",
    "            p2 = selected_points[j - 1]\n",
    "\n",
    "            norm = np.array([p1[1] - p2[1], p2[0] - p1[0]])\n",
    "            centr = (p1 + p2) / 2\n",
    "\n",
    "            if sign(np.dot(p - centr, norm)) > 0:\n",
    "                inside = False\n",
    "                break\n",
    "\n",
    "        if not inside:\n",
    "            # if not in poligon, select the point\n",
    "            selected_points.append(p)\n",
    "            selected_points = sorted(\n",
    "                selected_points, key=lambda x: np.arctan2(x[1], x[0])\n",
    "            )\n",
    "    \n",
    "    while True:\n",
    "        for i in range(len(selected_points)):\n",
    "            p3=selected_points[i]\n",
    "            p2=selected_points[i-1]\n",
    "            p1=selected_points[i-2]\n",
    "            \n",
    "            norm = np.array([p1[1] - p3[1], p3[0] - p1[0]])\n",
    "            centr = (p1 + p3) / 2\n",
    "            if sign(np.dot(p2 - centr, norm)) > 0:\n",
    "                break\n",
    "        else:\n",
    "            break\n",
    "        del selected_points[i-1]\n",
    "    \n",
    "    # find the polygon segment that is closer to the center\n",
    "    # selected_points = sorted(selected_points, key=lambda x: np.arctan2(x[1], x[0]))\n",
    "    dists = [0 for i in range(len(selected_points))]\n",
    "    for i in range(len(selected_points)):\n",
    "        p1 = selected_points[i]\n",
    "        p2 = selected_points[i - 1]\n",
    "\n",
    "        norm = np.array([p1[1] - p2[1], p2[0] - p1[0]])\n",
    "        # print((norm[0]**2+norm[1]**2)**0.5, p1, p2, selected_points)\n",
    "        norm /= (norm[0] ** 2 + norm[1] ** 2) ** 0.5\n",
    "        centr = (p1 + p2) / 2\n",
    "        dists[i] = np.abs(np.dot(centr, norm))\n",
    "\n",
    "    c_ind = dists.index(min(dists))  # index of closest segment\n",
    "\n",
    "    # turn points so that segment faces down\n",
    "    p1 = selected_points[c_ind]\n",
    "    p2 = selected_points[c_ind - 1]\n",
    "    norm = np.array([p1[1] - p2[1], p2[0] - p1[0]])\n",
    "\n",
    "    ##plt.scatter([i[0] for i in centered_points],[i[1] for i in centered_points], c=\"blue\")\n",
    "    ##plt.scatter([i[0] for i in selected_points],[i[1] for i in selected_points], c=\"#00ff00\", s=10)\n",
    "\n",
    "    theta = np.pi * 3 / 2 - np.arctan2(norm[1], norm[0])\n",
    "    rot_mat = np.array(\n",
    "        [[np.cos(theta), np.sin(theta)], [-np.sin(theta), np.cos(theta)]]\n",
    "    )\n",
    "\n",
    "    centered_points = centered_points @ rot_mat\n",
    "    selected_points = np.array(selected_points) @ rot_mat\n",
    "    # shift in place\n",
    "    selected_points -= centered_points.min(axis=0)\n",
    "    centered_points -= centered_points.min(axis=0)\n",
    "    return centered_points, selected_points\n",
    "\n"
   ]
  },
  {
   "cell_type": "code",
   "execution_count": 7,
   "id": "e1481418",
   "metadata": {},
   "outputs": [],
   "source": [
    "def display_matrix(mat, ax=None):\n",
    "    if ax is None:\n",
    "        fig, ax = plt.subplots(figsize=(5,5))\n",
    "    \n",
    "    df = pd.DataFrame(mat)\n",
    "    sns.heatmap(df, ax=ax)"
   ]
  },
  {
   "cell_type": "code",
   "execution_count": 24,
   "id": "a28ba36d",
   "metadata": {},
   "outputs": [
    {
     "name": "stdout",
     "output_type": "stream",
     "text": [
      "1/1 [==============================] - 0s 50ms/step\n"
     ]
    }
   ],
   "source": [
    "if False:\n",
    "    rdata = np.random.random((20,latent_dim))*2-1\n",
    "    rdata = np.where(rdata>0, rdata+4, rdata-4)\n",
    "else:\n",
    "    rdata = np.random.normal(0,3, size=(20,latent_dim))\n",
    "\n",
    "decoded_test = np.array(decoder.predict(rdata)).reshape(\n",
    "    -1, numpart, numpart\n",
    ")"
   ]
  },
  {
   "cell_type": "code",
   "execution_count": 25,
   "id": "89d4fabe",
   "metadata": {},
   "outputs": [],
   "source": [
    "coords=[gram_to_coordinates(d) for d in decoded_test]"
   ]
  },
  {
   "cell_type": "code",
   "execution_count": 26,
   "id": "a6f169d0",
   "metadata": {},
   "outputs": [],
   "source": [
    "new = [find_best_params(i) for i in coords]\n",
    "\n",
    "points = np.array([i[0] for i in new])\n",
    "selections = [np.array(i[1]) for i in new]"
   ]
  },
  {
   "cell_type": "code",
   "execution_count": 31,
   "id": "5775927a",
   "metadata": {},
   "outputs": [
    {
     "data": {
      "image/png": "[encoded data removed]",
      "text/plain": [
       "<Figure size 792x360 with 3 Axes>"
      ]
     },
     "metadata": {
      "needs_background": "light"
     },
     "output_type": "display_data"
    }
   ],
   "source": [
    "ind = 3\n",
    "fig,ax = plt.subplots(ncols=2,figsize=(11, 5))\n",
    "\n",
    "l = np.sqrt(2)\n",
    "\n",
    "ax[0].scatter(\n",
    "    points[ind, :, 0] * l,\n",
    "    points[ind, :, 1] * l,\n",
    "    s=30,\n",
    "    c=\"#023e8a\",\n",
    ")\n",
    "ax[0].scatter(\n",
    "    selections[ind][:, 0] * l,\n",
    "    selections[ind][:, 1] * l,\n",
    "    s=5,\n",
    "    marker=\".\",\n",
    "    c=\"#00ff00\",\n",
    ")\n",
    "ax[0].set_ylim(-0.05,1.05)\n",
    "ax[0].set_xlim(-0.05,1.05)\n",
    "display_matrix(decoded_test[ind], ax[1])\n",
    "fig.tight_layout()\n",
    "plt.show()\n"
   ]
  }
 ],
 "metadata": {
  "kernelspec": {
   "display_name": "Python 3 (ipykernel)",
   "language": "python",
   "name": "python3"
  },
  "language_info": {
   "codemirror_mode": {
    "name": "ipython",
    "version": 3
   },
   "file_extension": ".py",
   "mimetype": "text/x-python",
   "name": "python",
   "nbconvert_exporter": "python",
   "pygments_lexer": "ipython3",
   "version": "3.10.6"
  }
 },
 "nbformat": 4,
 "nbformat_minor": 5
}
