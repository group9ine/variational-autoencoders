{
 "cells": [
  {
   "cell_type": "code",
   "execution_count": 1,
   "id": "486cee18",
   "metadata": {},
   "outputs": [
    {
     "name": "stderr",
     "output_type": "stream",
     "text": [
      "2023-05-12 13:26:53.507246: I tensorflow/core/platform/cpu_feature_guard.cc:193] This TensorFlow binary is optimized with oneAPI Deep Neural Network Library (oneDNN) to use the following CPU instructions in performance-critical operations:  AVX2 FMA\n",
      "To enable them in other operations, rebuild TensorFlow with the appropriate compiler flags.\n",
      "2023-05-12 13:26:56.489144: W tensorflow/compiler/xla/stream_executor/platform/default/dso_loader.cc:64] Could not load dynamic library 'libnvinfer.so.7'; dlerror: libnvinfer.so.7: cannot open shared object file: No such file or directory\n",
      "2023-05-12 13:26:56.489363: W tensorflow/compiler/xla/stream_executor/platform/default/dso_loader.cc:64] Could not load dynamic library 'libnvinfer_plugin.so.7'; dlerror: libnvinfer_plugin.so.7: cannot open shared object file: No such file or directory\n",
      "2023-05-12 13:26:56.489390: W tensorflow/compiler/tf2tensorrt/utils/py_utils.cc:38] TF-TRT Warning: Cannot dlopen some TensorRT libraries. If you would like to use Nvidia GPU with TensorRT, please make sure the missing libraries mentioned above are installed properly.\n",
      "2023-05-12 13:26:59.892340: E tensorflow/compiler/xla/stream_executor/cuda/cuda_driver.cc:267] failed call to cuInit: CUDA_ERROR_NO_DEVICE: no CUDA-capable device is detected\n",
      "2023-05-12 13:26:59.892430: I tensorflow/compiler/xla/stream_executor/cuda/cuda_diagnostics.cc:156] kernel driver does not appear to be running on this host (davide-PC): /proc/driver/nvidia/version does not exist\n",
      "2023-05-12 13:26:59.893257: I tensorflow/core/platform/cpu_feature_guard.cc:193] This TensorFlow binary is optimized with oneAPI Deep Neural Network Library (oneDNN) to use the following CPU instructions in performance-critical operations:  AVX2 FMA\n",
      "To enable them in other operations, rebuild TensorFlow with the appropriate compiler flags.\n"
     ]
    }
   ],
   "source": [
    "from math import ceil\n",
    "from spatial_scan import scan\n",
    "from vae import VAE, encoder, decoder, tf, keras\n",
    "\n",
    "batch_len = 1000\n",
    "    \n",
    "with open(\"../test_30_1_0.3_100000_0.1_x.txt\") as f:\n",
    "    data = [[float(i.strip()) for i in s.split(\" \") if i!=\"\"] for s in f.read().split(\"\\n\") if s!=\"\"]\n",
    "    xyz=[[[data[h][i+3*j]for i in range(3)]for j in range(len(data[h])//3)]for h in range(len(data))]\n",
    "    del data\n",
    "\n",
    "# print(len(data), [len(data[i]) for i in range(len(data))])\n",
    "model_checkpoint_callback = tf.keras.callbacks.ModelCheckpoint(\"./checkpoints\", save_best_only=True)\n",
    "    \n",
    "if False:#len(argv)>2 and argv[2]==\"--resume\":\n",
    "    vae=keras.models.load_model(\"./model_info/\")\n",
    "else:\n",
    "    vae = VAE(encoder, decoder)\n",
    "vae.compile(optimizer=keras.optimizers.Adam())"
   ]
  },
  {
   "cell_type": "code",
   "execution_count": null,
   "id": "815f3c40",
   "metadata": {},
   "outputs": [
    {
     "name": "stdout",
     "output_type": "stream",
     "text": [
      "Epoch 1/30\n",
      " 266/1000 [======>.......................] - ETA: 2:08 - loss: 4.6877e-04 - reconstruction_loss: 4.6876e-04 - kl_loss: 0.0119"
     ]
    }
   ],
   "source": [
    "for i in range(ceil(len(xyz)/batch_len)):\n",
    "    bdata = [] # will hold bucketed data version\n",
    "    for j in range(batch_len*i, batch_len*(i+1)):\n",
    "        if j>len(xyz):\n",
    "            break\n",
    "        #print(xyz[j])\n",
    "        bdata.append([scan(xyz[j],4,4,4)])\n",
    "    dataset = tf.data.Dataset.from_tensor_slices((bdata,))\n",
    "    vae.fit(dataset, epochs=30, batch_size=128, callbacks=[model_checkpoint_callback])\n",
    "\n",
    "vae.load_weights(\"./checkpoints\")\n",
    "vae.save(\"./model_info/\")\n",
    "    "
   ]
  }
 ],
 "metadata": {
  "kernelspec": {
   "display_name": "Python 3 (ipykernel)",
   "language": "python",
   "name": "python3"
  },
  "language_info": {
   "codemirror_mode": {
    "name": "ipython",
    "version": 3
   },
   "file_extension": ".py",
   "mimetype": "text/x-python",
   "name": "python",
   "nbconvert_exporter": "python",
   "pygments_lexer": "ipython3",
   "version": "3.10.6"
  }
 },
 "nbformat": 4,
 "nbformat_minor": 5
}
