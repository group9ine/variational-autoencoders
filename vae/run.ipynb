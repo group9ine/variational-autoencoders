{
 "cells": [
  {
   "cell_type": "code",
   "execution_count": 1,
   "id": "486cee18",
   "metadata": {},
   "outputs": [
    {
     "name": "stderr",
     "output_type": "stream",
     "text": [
      "2023-05-16 15:07:19.180752: I tensorflow/core/platform/cpu_feature_guard.cc:193] This TensorFlow binary is optimized with oneAPI Deep Neural Network Library (oneDNN) to use the following CPU instructions in performance-critical operations:  AVX2 FMA\n",
      "To enable them in other operations, rebuild TensorFlow with the appropriate compiler flags.\n",
      "2023-05-16 15:07:19.959559: W tensorflow/compiler/xla/stream_executor/platform/default/dso_loader.cc:64] Could not load dynamic library 'libnvinfer.so.7'; dlerror: libnvinfer.so.7: cannot open shared object file: No such file or directory\n",
      "2023-05-16 15:07:19.959638: W tensorflow/compiler/xla/stream_executor/platform/default/dso_loader.cc:64] Could not load dynamic library 'libnvinfer_plugin.so.7'; dlerror: libnvinfer_plugin.so.7: cannot open shared object file: No such file or directory\n",
      "2023-05-16 15:07:19.959646: W tensorflow/compiler/tf2tensorrt/utils/py_utils.cc:38] TF-TRT Warning: Cannot dlopen some TensorRT libraries. If you would like to use Nvidia GPU with TensorRT, please make sure the missing libraries mentioned above are installed properly.\n",
      "2023-05-16 15:07:21.522168: E tensorflow/compiler/xla/stream_executor/cuda/cuda_driver.cc:267] failed call to cuInit: CUDA_ERROR_NO_DEVICE: no CUDA-capable device is detected\n",
      "2023-05-16 15:07:21.522211: I tensorflow/compiler/xla/stream_executor/cuda/cuda_diagnostics.cc:156] kernel driver does not appear to be running on this host (davide-PC): /proc/driver/nvidia/version does not exist\n",
      "2023-05-16 15:07:21.522860: I tensorflow/core/platform/cpu_feature_guard.cc:193] This TensorFlow binary is optimized with oneAPI Deep Neural Network Library (oneDNN) to use the following CPU instructions in performance-critical operations:  AVX2 FMA\n",
      "To enable them in other operations, rebuild TensorFlow with the appropriate compiler flags.\n"
     ]
    }
   ],
   "source": [
    "from math import ceil\n",
    "from spatial_scan import scan\n",
    "from vae import VAE, encoder, decoder, tf, keras,l\n",
    "\n",
    "batch_len = 1000\n",
    "lmax=0.1\n",
    "\n",
    "with open(\"../mc-sampling/good-runs/test_30_5_0.05_0.3_0.1_10000_1000_1000_x.txt\") as f:\n",
    "    data = [[float(i.strip()) for i in s.split(\" \") if i!=\"\"] for s in f.read().split(\"\\n\") if s!=\"\"]\n",
    "    xyz=[[[data[h][i+3*j]for i in range(3)]for j in range(len(data[h])//3)]for h in range(len(data))]\n",
    "    del data\n",
    "\n",
    "# print(len(data), [len(data[i]) for i in range(len(data))])\n",
    "model_checkpoint_callback = keras.callbacks.ModelCheckpoint(\"./checkpoints/\", save_best_only=True)\n",
    "\n",
    "def change_l(e,log):\n",
    "    global l, lmax\n",
    "    print(l)\n",
    "    l=(1-1/(1+e))*lmax\n",
    "\n",
    "regularization_callback = keras.callbacks.LambdaCallback(on_epoch_end=change_l)\n",
    "    \n",
    "if False:#len(argv)>2 and argv[2]==\"--resume\":\n",
    "    vae=keras.models.load_model(\"./model_info/\")\n",
    "else:\n",
    "    vae = VAE(encoder, decoder)\n",
    "vae.compile(optimizer=keras.optimizers.Adam())"
   ]
  },
  {
   "cell_type": "code",
   "execution_count": 2,
   "id": "e3bed5ac",
   "metadata": {},
   "outputs": [
    {
     "name": "stderr",
     "output_type": "stream",
     "text": [
      "2023-05-16 15:07:23.329067: W tensorflow/tsl/framework/cpu_allocator_impl.cc:82] Allocation of 1000000000 exceeds 10% of free system memory.\n",
      "2023-05-16 15:07:39.752733: W tensorflow/tsl/framework/cpu_allocator_impl.cc:82] Allocation of 1000000000 exceeds 10% of free system memory.\n"
     ]
    },
    {
     "name": "stdout",
     "output_type": "stream",
     "text": [
      "Epoch 1/10\n",
      "1000/1000 [==============================] - ETA: 0s - loss: 2.4068e-04 - reconstruction_loss: 2.4011e-04 - kl_loss: 7.3738e-04WARNING:tensorflow:Can save best model only with val_loss available, skipping.\n",
      "0\n",
      "1000/1000 [==============================] - 124s 121ms/step - loss: 2.4068e-04 - reconstruction_loss: 2.4011e-04 - kl_loss: 7.3738e-04\n",
      "Epoch 2/10\n",
      "1000/1000 [==============================] - ETA: 0s - loss: 2.4000e-04 - reconstruction_loss: 2.4000e-04 - kl_loss: 5.2650e-04WARNING:tensorflow:Can save best model only with val_loss available, skipping.\n",
      "0.0\n",
      "1000/1000 [==============================] - 122s 122ms/step - loss: 2.4000e-04 - reconstruction_loss: 2.4000e-04 - kl_loss: 5.2650e-04\n",
      "Epoch 3/10\n",
      "1000/1000 [==============================] - ETA: 0s - loss: 2.4000e-04 - reconstruction_loss: 2.4000e-04 - kl_loss: 4.8064e-04WARNING:tensorflow:Can save best model only with val_loss available, skipping.\n",
      "0.05\n",
      "1000/1000 [==============================] - 123s 123ms/step - loss: 2.4000e-04 - reconstruction_loss: 2.4000e-04 - kl_loss: 4.8064e-04\n",
      "Epoch 4/10\n",
      "1000/1000 [==============================] - ETA: 0s - loss: 2.4000e-04 - reconstruction_loss: 2.4000e-04 - kl_loss: 4.5603e-04WARNING:tensorflow:Can save best model only with val_loss available, skipping.\n",
      "0.06666666666666668\n",
      "1000/1000 [==============================] - 122s 122ms/step - loss: 2.4000e-04 - reconstruction_loss: 2.4000e-04 - kl_loss: 4.5603e-04\n",
      "Epoch 5/10\n",
      "1000/1000 [==============================] - ETA: 0s - loss: 2.4000e-04 - reconstruction_loss: 2.4000e-04 - kl_loss: 4.5201e-04WARNING:tensorflow:Can save best model only with val_loss available, skipping.\n",
      "0.07500000000000001\n",
      "1000/1000 [==============================] - 123s 123ms/step - loss: 2.4000e-04 - reconstruction_loss: 2.4000e-04 - kl_loss: 4.5201e-04\n",
      "Epoch 6/10\n",
      "1000/1000 [==============================] - ETA: 0s - loss: 2.4000e-04 - reconstruction_loss: 2.4000e-04 - kl_loss: 4.4773e-04WARNING:tensorflow:Can save best model only with val_loss available, skipping.\n",
      "0.08000000000000002\n",
      "1000/1000 [==============================] - 122s 122ms/step - loss: 2.4000e-04 - reconstruction_loss: 2.4000e-04 - kl_loss: 4.4773e-04\n",
      "Epoch 7/10\n",
      "1000/1000 [==============================] - ETA: 0s - loss: 2.4000e-04 - reconstruction_loss: 2.4000e-04 - kl_loss: 4.4528e-04WARNING:tensorflow:Can save best model only with val_loss available, skipping.\n",
      "0.08333333333333334\n",
      "1000/1000 [==============================] - 123s 123ms/step - loss: 2.4000e-04 - reconstruction_loss: 2.4000e-04 - kl_loss: 4.4528e-04\n",
      "Epoch 8/10\n",
      "1000/1000 [==============================] - ETA: 0s - loss: 2.4000e-04 - reconstruction_loss: 2.4000e-04 - kl_loss: 4.4296e-04WARNING:tensorflow:Can save best model only with val_loss available, skipping.\n",
      "0.08571428571428573\n",
      "1000/1000 [==============================] - 124s 124ms/step - loss: 2.4000e-04 - reconstruction_loss: 2.4000e-04 - kl_loss: 4.4296e-04\n",
      "Epoch 9/10\n",
      "1000/1000 [==============================] - ETA: 0s - loss: 2.4000e-04 - reconstruction_loss: 2.4000e-04 - kl_loss: 4.1058e-04WARNING:tensorflow:Can save best model only with val_loss available, skipping.\n",
      "0.08750000000000001\n",
      "1000/1000 [==============================] - 124s 124ms/step - loss: 2.4000e-04 - reconstruction_loss: 2.4000e-04 - kl_loss: 4.1058e-04\n",
      "Epoch 10/10\n",
      "1000/1000 [==============================] - ETA: 0s - loss: 2.4000e-04 - reconstruction_loss: 2.4000e-04 - kl_loss: 3.8738e-04WARNING:tensorflow:Can save best model only with val_loss available, skipping.\n",
      "0.08888888888888889\n",
      "1000/1000 [==============================] - 135s 135ms/step - loss: 2.4000e-04 - reconstruction_loss: 2.4000e-04 - kl_loss: 3.8738e-04\n"
     ]
    }
   ],
   "source": [
    "for i in range(1):#(ceil(len(xyz)/batch_len)):\n",
    "    bdata = [] # will hold bucketed data version\n",
    "    for j in range(batch_len*i, batch_len*(i+1)):\n",
    "        if j>len(xyz):\n",
    "            break\n",
    "        #print(xyz[j])\n",
    "        bdata.append([scan(xyz[j],5,5,5)])\n",
    "    dataset = tf.data.Dataset.from_tensor_slices((bdata,))\n",
    "    vae.fit(dataset, epochs=10, batch_size=128, callbacks=[model_checkpoint_callback, regularization_callback])"
   ]
  },
  {
   "cell_type": "code",
   "execution_count": 3,
   "id": "815f3c40",
   "metadata": {
    "scrolled": true
   },
   "outputs": [
    {
     "name": "stdout",
     "output_type": "stream",
     "text": [
      "Unable to load weights saved in HDF5 format into a subclassed Model which has not created its variables yet. Call the Model first, then load the weights.\n",
      "WARNING:tensorflow:Compiled the loaded model, but the compiled metrics have yet to be built. `model.compile_metrics` will be empty until you train or evaluate the model.\n"
     ]
    },
    {
     "name": "stderr",
     "output_type": "stream",
     "text": [
      "2023-05-16 15:28:22.652576: W tensorflow/core/util/tensor_slice_reader.cc:96] Could not open ./checkpoints/: FAILED_PRECONDITION: checkpoints; Is a directory: perhaps your file is in a different file format and you need to use a different restore operator?\n",
      "WARNING:absl:Found untraced functions such as _jit_compiled_convolution_op, _jit_compiled_convolution_op, _jit_compiled_convolution_op while saving (showing 3 of 3). These functions will not be directly callable after loading.\n"
     ]
    },
    {
     "name": "stdout",
     "output_type": "stream",
     "text": [
      "INFO:tensorflow:Assets written to: ./model-info/enc/assets\n"
     ]
    },
    {
     "name": "stderr",
     "output_type": "stream",
     "text": [
      "INFO:tensorflow:Assets written to: ./model-info/enc/assets\n"
     ]
    },
    {
     "name": "stdout",
     "output_type": "stream",
     "text": [
      "WARNING:tensorflow:Compiled the loaded model, but the compiled metrics have yet to be built. `model.compile_metrics` will be empty until you train or evaluate the model.\n"
     ]
    },
    {
     "name": "stderr",
     "output_type": "stream",
     "text": [
      "WARNING:tensorflow:Compiled the loaded model, but the compiled metrics have yet to be built. `model.compile_metrics` will be empty until you train or evaluate the model.\n",
      "WARNING:absl:Found untraced functions such as _jit_compiled_convolution_op, _jit_compiled_convolution_op, _jit_compiled_convolution_op, _jit_compiled_convolution_op while saving (showing 4 of 4). These functions will not be directly callable after loading.\n"
     ]
    },
    {
     "name": "stdout",
     "output_type": "stream",
     "text": [
      "INFO:tensorflow:Assets written to: ./model-info/dec/assets\n"
     ]
    },
    {
     "name": "stderr",
     "output_type": "stream",
     "text": [
      "INFO:tensorflow:Assets written to: ./model-info/dec/assets\n"
     ]
    }
   ],
   "source": [
    "try:\n",
    "    vae.load_weights(\"./checkpoints/\")\n",
    "except Exception as e:\n",
    "    print(e)\n",
    "finally:\n",
    "    keras.models.save_model(vae.encoder, \"./model-info/enc/\")\n",
    "    keras.models.save_model(vae.decoder, \"./model-info/dec/\")\n",
    "    "
   ]
  },
  {
   "cell_type": "code",
   "execution_count": 6,
   "id": "4115bbdd",
   "metadata": {},
   "outputs": [
    {
     "data": {
      "text/plain": [
       "{'loss': [0.00024011434288695455,\n",
       "  0.00023999942641239613,\n",
       "  0.00023999888799153268,\n",
       "  0.00023999888799153268,\n",
       "  0.000239998844335787,\n",
       "  0.000239998844335787,\n",
       "  0.00023999882978387177,\n",
       "  0.00023999882978387177,\n",
       "  0.00023999887343961746,\n",
       "  0.00023999882978387177],\n",
       " 'reconstruction_loss': [0.00024011434288695455,\n",
       "  0.00023999942641239613,\n",
       "  0.00023999888799153268,\n",
       "  0.00023999888799153268,\n",
       "  0.000239998844335787,\n",
       "  0.000239998844335787,\n",
       "  0.00023999882978387177,\n",
       "  0.00023999882978387177,\n",
       "  0.00023999887343961746,\n",
       "  0.00023999882978387177],\n",
       " 'kl_loss': [0.0007373806438408792,\n",
       "  0.0005265012732706964,\n",
       "  0.0004806423094123602,\n",
       "  0.00045603036414831877,\n",
       "  0.000452005973784253,\n",
       "  0.00044772520777769387,\n",
       "  0.0004452751891221851,\n",
       "  0.00044296434498392045,\n",
       "  0.0004105816478841007,\n",
       "  0.00038737882277928293]}"
      ]
     },
     "execution_count": 6,
     "metadata": {},
     "output_type": "execute_result"
    }
   ],
   "source": [
    "vae.history.history"
   ]
  },
  {
   "cell_type": "code",
   "execution_count": 9,
   "id": "28103aa0",
   "metadata": {},
   "outputs": [
    {
     "data": {
      "text/plain": [
       "[<matplotlib.lines.Line2D at 0x7f5207d3de40>]"
      ]
     },
     "execution_count": 9,
     "metadata": {},
     "output_type": "execute_result"
    },
    {
     "data": {
      "image/png": "[encoded data removed]",
      "text/plain": [
       "<Figure size 432x288 with 3 Axes>"
      ]
     },
     "metadata": {
      "needs_background": "light"
     },
     "output_type": "display_data"
    }
   ],
   "source": [
    "import matplotlib.pyplot as plt\n",
    "fig, ax = plt.subplots(ncols=3)\n",
    "ax[0].plot(vae.history.history[\"loss\"])\n",
    "ax[1].plot(vae.history.history[\"reconstruction_loss\"])\n",
    "ax[2].plot(vae.history.history[\"kl_loss\"])"
   ]
  },
  {
   "cell_type": "code",
   "execution_count": 10,
   "id": "130db5d9",
   "metadata": {},
   "outputs": [
    {
     "name": "stderr",
     "output_type": "stream",
     "text": [
      "2023-05-16 15:41:45.423447: W tensorflow/tsl/framework/cpu_allocator_impl.cc:82] Allocation of 1000000000 exceeds 10% of free system memory.\n",
      "2023-05-16 15:41:55.696091: W tensorflow/tsl/framework/cpu_allocator_impl.cc:82] Allocation of 1000000000 exceeds 10% of free system memory.\n"
     ]
    },
    {
     "name": "stdout",
     "output_type": "stream",
     "text": [
      "1000/1000 [==============================] - 17s 16ms/step\n"
     ]
    }
   ],
   "source": [
    "test_set=[]\n",
    "for j in range(batch_len, batch_len*2):\n",
    "    if j>len(xyz):\n",
    "        break\n",
    "    test_set.append([scan(xyz[j],5,5,5)])\n",
    "\n",
    "dataset = tf.data.Dataset.from_tensor_slices((bdata,))\n",
    "\n",
    "pred = vae.encoder.predict(dataset)"
   ]
  },
  {
   "cell_type": "code",
   "execution_count": 16,
   "id": "bbe27bf0",
   "metadata": {},
   "outputs": [
    {
     "data": {
      "text/plain": [
       "<matplotlib.collections.PathCollection at 0x7f5207ce52d0>"
      ]
     },
     "execution_count": 16,
     "metadata": {},
     "output_type": "execute_result"
    },
    {
     "data": {
      "image/png": "[encoded data removed]",
      "text/plain": [
       "<Figure size 432x288 with 1 Axes>"
      ]
     },
     "metadata": {
      "needs_background": "light"
     },
     "output_type": "display_data"
    }
   ],
   "source": [
    "plt.scatter([p[0] for p in pred[2]], [p[1] for p in pred[2]])"
   ]
  }
 ],
 "metadata": {
  "kernelspec": {
   "display_name": "Python 3 (ipykernel)",
   "language": "python",
   "name": "python3"
  },
  "language_info": {
   "codemirror_mode": {
    "name": "ipython",
    "version": 3
   },
   "file_extension": ".py",
   "mimetype": "text/x-python",
   "name": "python",
   "nbconvert_exporter": "python",
   "pygments_lexer": "ipython3",
   "version": "3.10.6"
  }
 },
 "nbformat": 4,
 "nbformat_minor": 5
}
