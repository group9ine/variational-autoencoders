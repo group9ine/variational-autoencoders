{
 "cells": [
  {
   "cell_type": "markdown",
   "id": "cb34c7a8",
   "metadata": {},
   "source": [
    "# SBANN\n",
    "## Standard boring ass neural network"
   ]
  },
  {
   "cell_type": "markdown",
   "id": "2121bf15",
   "metadata": {},
   "source": [
    "Import necessary packages"
   ]
  },
  {
   "cell_type": "code",
   "execution_count": 1,
   "id": "79f7cdff",
   "metadata": {},
   "outputs": [
    {
     "name": "stderr",
     "output_type": "stream",
     "text": [
      "2023-05-11 11:04:23.873414: I tensorflow/core/platform/cpu_feature_guard.cc:193] This TensorFlow binary is optimized with oneAPI Deep Neural Network Library (oneDNN) to use the following CPU instructions in performance-critical operations:  SSE4.1 SSE4.2\n",
      "To enable them in other operations, rebuild TensorFlow with the appropriate compiler flags.\n"
     ]
    }
   ],
   "source": [
    "import numpy as np\n",
    "import tensorflow as tf\n",
    "from tensorflow import keras\n",
    "from tensorflow.keras import layers"
   ]
  },
  {
   "cell_type": "markdown",
   "id": "d142e12f",
   "metadata": {},
   "source": [
    "### Data"
   ]
  },
  {
   "cell_type": "markdown",
   "id": "728ed42a",
   "metadata": {},
   "source": [
    "Define core features of the dataset"
   ]
  },
  {
   "cell_type": "code",
   "execution_count": 19,
   "id": "04bdb140",
   "metadata": {},
   "outputs": [],
   "source": [
    "dim = 3\n",
    "numpart = 30\n",
    "latent_dim = 4"
   ]
  },
  {
   "cell_type": "markdown",
   "id": "a4ec27dc",
   "metadata": {},
   "source": [
    "Import and reshape data"
   ]
  },
  {
   "cell_type": "code",
   "execution_count": 2,
   "id": "f20664e3",
   "metadata": {},
   "outputs": [],
   "source": [
    "fname=\"/Users/lorenzobarbiero/Downloads/test_30_5_0.1_0.3_100000_0.08_x.txt\"\n",
    "with open(fname) as f:\n",
    "    data = [\n",
    "        [float(i.strip()) for i in s.split(\" \") if i != \"\"]\n",
    "        for s in f.read().split(\"\\n\")\n",
    "        if s != \"\"]"
   ]
  },
  {
   "cell_type": "code",
   "execution_count": 3,
   "id": "3be071e6",
   "metadata": {},
   "outputs": [
    {
     "name": "stdout",
     "output_type": "stream",
     "text": [
      "[2.463258, 3.476661, 0.895062, 2.826777, 1.318252, 0.580524, 3.907947, 3.56574, 0.736961, 2.618962, 2.522231, 2.524339, 1.076911, 0.545973, 2.038803, 4.332246, 3.943481, 2.134315, 1.78288, 4.109908, 4.346558, 1.512695, 2.515875, 3.685902, 2.443689, 1.608195, 4.234131, 2.369365, 0.482387, 4.264563, 0.060537, 2.18895, 4.37735, 3.75555, 0.352204, 3.381785, 1.83043, 2.947288, 4.922763, 3.012182, 4.209706, 0.292631, 1.006227, 1.628173, 4.330286, 2.071739, 3.347057, 2.429691, 2.564176, 1.569708, 2.911609, 1.734956, 1.916557, 1.803327, 0.595494, 3.611851, 1.320901, 1.732421, 4.257394, 0.572481, 1.624797, 1.648793, 0.526701, 0.778746, 2.243945, 1.063158, 4.196413, 0.670515, 0.562519, 1.520246, -0.065401, 1.31771, 3.552185, 1.616999, 2.326026, 0.677477, 2.07685, 2.766973, 2.195747, 0.609719, 0.259181, 0.559955, 1.700786, 1.536886, 3.848572, 1.513618, 3.545498, 2.927643, 4.323117, 2.396616]\n"
     ]
    }
   ],
   "source": [
    "print(data[1])"
   ]
  },
  {
   "cell_type": "code",
   "execution_count": 20,
   "id": "d468582e",
   "metadata": {},
   "outputs": [
    {
     "name": "stdout",
     "output_type": "stream",
     "text": [
      "(100000, 30, 3)\n"
     ]
    }
   ],
   "source": [
    "vcs = np.array(data).reshape((-1,numpart,dim))\n",
    "print(vcs.shape)"
   ]
  },
  {
   "cell_type": "markdown",
   "id": "5346d99e",
   "metadata": {},
   "source": [
    "Sort points"
   ]
  },
  {
   "cell_type": "code",
   "execution_count": 5,
   "id": "7a6b04a0",
   "metadata": {},
   "outputs": [
    {
     "name": "stdout",
     "output_type": "stream",
     "text": [
      "(100000, 30, 3) \n",
      " [[ 0.060537  2.18895   4.37735 ]\n",
      " [ 0.559955  1.700786  1.536886]\n",
      " [ 0.595494  3.611851  1.320901]\n",
      " [ 0.677477  2.07685   2.766973]\n",
      " [ 0.778746  2.243945  1.063158]\n",
      " [ 1.006227  1.628173  4.330286]\n",
      " [ 1.076911  0.545973  2.038803]\n",
      " [ 1.512695  2.515875  3.685902]\n",
      " [ 1.520246 -0.065401  1.31771 ]\n",
      " [ 1.624797  1.648793  0.526701]\n",
      " [ 1.732421  4.257394  0.572481]\n",
      " [ 1.734956  1.916557  1.803327]\n",
      " [ 1.78288   4.109908  4.346558]\n",
      " [ 1.83043   2.947288  4.922763]\n",
      " [ 2.071739  3.347057  2.429691]\n",
      " [ 2.195747  0.609719  0.259181]\n",
      " [ 2.369365  0.482387  4.264563]\n",
      " [ 2.443689  1.608195  4.234131]\n",
      " [ 2.463258  3.476661  0.895062]\n",
      " [ 2.564176  1.569708  2.911609]\n",
      " [ 2.618962  2.522231  2.524339]\n",
      " [ 2.826777  1.318252  0.580524]\n",
      " [ 2.927643  4.323117  2.396616]\n",
      " [ 3.012182  4.209706  0.292631]\n",
      " [ 3.552185  1.616999  2.326026]\n",
      " [ 3.75555   0.352204  3.381785]\n",
      " [ 3.848572  1.513618  3.545498]\n",
      " [ 3.907947  3.56574   0.736961]\n",
      " [ 4.196413  0.670515  0.562519]\n",
      " [ 4.332246  3.943481  2.134315]]\n"
     ]
    }
   ],
   "source": [
    "idx = np.lexsort((vcs[:,:,1], vcs[:,:,0]))\n",
    "\n",
    "# Use the indices to sort each step while maintaining the rows intact\n",
    "sorted_vcs = np.empty_like(vcs)\n",
    "for i in range(len(vcs)):\n",
    "    sorted_vcs[i] = vcs[i][idx[i]]\n",
    "    \n",
    "print(sorted_vcs.shape,\"\\n\",sorted_vcs[1])"
   ]
  },
  {
   "cell_type": "code",
   "execution_count": 21,
   "id": "1e912918",
   "metadata": {},
   "outputs": [
    {
     "name": "stdout",
     "output_type": "stream",
     "text": [
      "(100000, 90) \n",
      " [ 0.060537  2.18895   4.37735   0.559955  1.700786  1.536886  0.595494\n",
      "  3.611851  1.320901  0.677477  2.07685   2.766973  0.778746  2.243945\n",
      "  1.063158  1.006227  1.628173  4.330286  1.076911  0.545973  2.038803\n",
      "  1.512695  2.515875  3.685902  1.520246 -0.065401  1.31771   1.624797\n",
      "  1.648793  0.526701  1.732421  4.257394  0.572481  1.734956  1.916557\n",
      "  1.803327  1.78288   4.109908  4.346558  1.83043   2.947288  4.922763\n",
      "  2.071739  3.347057  2.429691  2.195747  0.609719  0.259181  2.369365\n",
      "  0.482387  4.264563  2.443689  1.608195  4.234131  2.463258  3.476661\n",
      "  0.895062  2.564176  1.569708  2.911609  2.618962  2.522231  2.524339\n",
      "  2.826777  1.318252  0.580524  2.927643  4.323117  2.396616  3.012182\n",
      "  4.209706  0.292631  3.552185  1.616999  2.326026  3.75555   0.352204\n",
      "  3.381785  3.848572  1.513618  3.545498  3.907947  3.56574   0.736961\n",
      "  4.196413  0.670515  0.562519  4.332246  3.943481  2.134315]\n"
     ]
    }
   ],
   "source": [
    "sorted_vcs = sorted_vcs.reshape((-1,90))\n",
    "print(sorted_vcs.shape,\"\\n\",sorted_vcs[1])"
   ]
  },
  {
   "cell_type": "markdown",
   "id": "dc556d3b",
   "metadata": {},
   "source": [
    "Split in training and test set"
   ]
  },
  {
   "cell_type": "code",
   "execution_count": 7,
   "id": "7e97d525",
   "metadata": {},
   "outputs": [
    {
     "name": "stdout",
     "output_type": "stream",
     "text": [
      "(80000, 90)\n"
     ]
    }
   ],
   "source": [
    "train_perc=0.8\n",
    "trainset = sorted_vcs[:int(train_perc*len(data))]\n",
    "print(trainset.shape)\n",
    "testset = sorted_vcs[int(train_perc*len(data)):]"
   ]
  },
  {
   "cell_type": "markdown",
   "id": "5a611a5b",
   "metadata": {},
   "source": [
    "### Sampling class"
   ]
  },
  {
   "cell_type": "code",
   "execution_count": 8,
   "id": "1f699c38",
   "metadata": {},
   "outputs": [],
   "source": [
    "class Sampling(layers.Layer):\n",
    "    \"\"\"Uses (z_mean, z_log_var) to sample z, the vector encoding a digit.\"\"\"\n",
    "\n",
    "    def call(self, inputs):\n",
    "        z_mean, z_log_var = inputs\n",
    "        batch = tf.shape(z_mean)[0]\n",
    "        dim = tf.shape(z_mean)[1]\n",
    "        epsilon = tf.keras.backend.random_normal(shape=(batch, dim))\n",
    "        return z_mean + tf.exp(0.5 * z_log_var) * epsilon"
   ]
  },
  {
   "cell_type": "markdown",
   "id": "0e55e13e",
   "metadata": {},
   "source": [
    "### Encoder"
   ]
  },
  {
   "cell_type": "code",
   "execution_count": 16,
   "id": "67faee0e",
   "metadata": {},
   "outputs": [
    {
     "name": "stdout",
     "output_type": "stream",
     "text": [
      "Model: \"encoder\"\n",
      "__________________________________________________________________________________________________\n",
      " Layer (type)                   Output Shape         Param #     Connected to                     \n",
      "==================================================================================================\n",
      " input_6 (InputLayer)           [(None, 90)]         0           []                               \n",
      "                                                                                                  \n",
      " dense_17 (Dense)               (None, 60)           5460        ['input_6[0][0]']                \n",
      "                                                                                                  \n",
      " dense_18 (Dense)               (None, 30)           1830        ['dense_17[0][0]']               \n",
      "                                                                                                  \n",
      " dense_19 (Dense)               (None, 15)           465         ['dense_18[0][0]']               \n",
      "                                                                                                  \n",
      " z_mean (Dense)                 (None, 4)            64          ['dense_19[0][0]']               \n",
      "                                                                                                  \n",
      " z_log_var (Dense)              (None, 4)            64          ['dense_19[0][0]']               \n",
      "                                                                                                  \n",
      " sampling_2 (Sampling)          (None, 4)            0           ['z_mean[0][0]',                 \n",
      "                                                                  'z_log_var[0][0]']              \n",
      "                                                                                                  \n",
      "==================================================================================================\n",
      "Total params: 7,883\n",
      "Trainable params: 7,883\n",
      "Non-trainable params: 0\n",
      "__________________________________________________________________________________________________\n"
     ]
    }
   ],
   "source": [
    "input_shape = (numpart*dim)\n",
    "inputs = layers.Input(shape=input_shape)\n",
    "x = layers.Dens(int(numpart*dim*2/3), activation='relu')(inputs)\n",
    "x = layers.Dense(int(numpart*dim*1/2), activation='relu')(x)\n",
    "x = layers.Dense(int(numpart*dim*1/4), activation='relu')(x)\n",
    "z_mean = layers.Dense(latent_dim, name='z_mean')(x)\n",
    "z_log_var = layers.Dense(latent_dim, name='z_log_var')(x)\n",
    "z = Sampling()([z_mean, z_log_var])\n",
    "encoder = keras.Model(inputs, [z_mean, z_log_var, z], name=\"encoder\")\n",
    "encoder.summary()"
   ]
  },
  {
   "cell_type": "markdown",
   "id": "fcc3e390",
   "metadata": {},
   "source": [
    "### Decoder"
   ]
  },
  {
   "cell_type": "code",
   "execution_count": 13,
   "id": "c0907c43",
   "metadata": {},
   "outputs": [
    {
     "name": "stdout",
     "output_type": "stream",
     "text": [
      "Model: \"decoder\"\n",
      "_________________________________________________________________\n",
      " Layer (type)                Output Shape              Param #   \n",
      "=================================================================\n",
      " input_5 (InputLayer)        [(None, 4)]               0         \n",
      "                                                                 \n",
      " dense_13 (Dense)            (None, 15)                75        \n",
      "                                                                 \n",
      " dense_14 (Dense)            (None, 30)                480       \n",
      "                                                                 \n",
      " dense_15 (Dense)            (None, 60)                1860      \n",
      "                                                                 \n",
      " dense_16 (Dense)            (None, 90)                5490      \n",
      "                                                                 \n",
      "=================================================================\n",
      "Total params: 7,905\n",
      "Trainable params: 7,905\n",
      "Non-trainable params: 0\n",
      "_________________________________________________________________\n"
     ]
    }
   ],
   "source": [
    "latent_inputs = keras.Input(shape=(latent_dim,))\n",
    "x = layers.Dense(int(numpart*dim*1/4)m, activation=\"relu\")(latent_inputs)\n",
    "x = layers.Dense(int(numpart*dim*1/2), activation=\"relu\")(x)\n",
    "x = layers.Dense(int(numpart*dim*2/3), activation=\"relu\")(x)\n",
    "decoder_outputs = layers.Dense(numpart*dim, activation=\"relu\")(x)\n",
    "decoder = keras.Model(latent_inputs, decoder_outputs, name=\"decoder\")\n",
    "decoder.summary()"
   ]
  },
  {
   "cell_type": "markdown",
   "id": "8a3299e2",
   "metadata": {},
   "source": [
    "### VAE Class"
   ]
  },
  {
   "cell_type": "code",
   "execution_count": 14,
   "id": "5816189c",
   "metadata": {},
   "outputs": [],
   "source": [
    "class VAE(keras.Model):\n",
    "    def __init__(self, encoder, decoder, **kwargs):\n",
    "        super().__init__(**kwargs)\n",
    "        self.encoder = encoder\n",
    "        self.decoder = decoder\n",
    "        self.total_loss_tracker = keras.metrics.Mean(name=\"total_loss\")\n",
    "        self.reconstruction_loss_tracker = keras.metrics.Mean(\n",
    "            name=\"reconstruction_loss\"\n",
    "        )\n",
    "        self.kl_loss_tracker = keras.metrics.Mean(name=\"kl_loss\")\n",
    "\n",
    "    @property\n",
    "    def metrics(self):\n",
    "        return [\n",
    "            self.total_loss_tracker,\n",
    "            self.reconstruction_loss_tracker,\n",
    "            self.kl_loss_tracker,\n",
    "        ]\n",
    "\n",
    "    def train_step(self, data):\n",
    "        with tf.GradientTape() as tape:\n",
    "            z_mean, z_log_var, z = self.encoder(data)\n",
    "            reconstruction = self.decoder(z)\n",
    "            reconstruction_loss = tf.reduce_mean(\n",
    "                keras.losses.mean_squared_error(data, reconstruction)\n",
    "            )\n",
    "            kl_loss = -0.5 * (\n",
    "                1 + z_log_var - tf.square(z_mean) - tf.exp(z_log_var)\n",
    "            )\n",
    "            kl_loss = tf.reduce_mean(kl_loss)\n",
    "            total_loss = reconstruction_loss + reg_lambda * kl_loss\n",
    "        grads = tape.gradient(total_loss, self.trainable_weights)\n",
    "        self.optimizer.apply_gradients(zip(grads, self.trainable_weights))\n",
    "        self.total_loss_tracker.update_state(total_loss)\n",
    "        self.reconstruction_loss_tracker.update_state(reconstruction_loss)\n",
    "        self.kl_loss_tracker.update_state(kl_loss)\n",
    "        return {\n",
    "            \"loss\": self.total_loss_tracker.result(),\n",
    "            \"reconstruction_loss\": self.reconstruction_loss_tracker.result(),\n",
    "            \"kl_loss\": self.kl_loss_tracker.result(),\n",
    "        }"
   ]
  },
  {
   "cell_type": "markdown",
   "id": "77af32ab",
   "metadata": {},
   "source": [
    "### Train VAE"
   ]
  },
  {
   "cell_type": "code",
   "execution_count": 15,
   "id": "1f85776b",
   "metadata": {},
   "outputs": [
    {
     "name": "stdout",
     "output_type": "stream",
     "text": [
      "Epoch 1/100\n",
      "625/625 - 1s - loss: 0.9483 - reconstruction_loss: 0.9483 - kl_loss: 22.0119 - 1s/epoch - 2ms/step\n",
      "Epoch 2/100\n",
      "625/625 - 1s - loss: 0.7894 - reconstruction_loss: 0.7894 - kl_loss: 36.1663 - 734ms/epoch - 1ms/step\n",
      "Epoch 3/100\n",
      "625/625 - 1s - loss: 0.7695 - reconstruction_loss: 0.7695 - kl_loss: 42.5368 - 731ms/epoch - 1ms/step\n",
      "Epoch 4/100\n",
      "625/625 - 1s - loss: 0.7623 - reconstruction_loss: 0.7623 - kl_loss: 44.1089 - 737ms/epoch - 1ms/step\n",
      "Epoch 5/100\n",
      "625/625 - 1s - loss: 0.7238 - reconstruction_loss: 0.7238 - kl_loss: 43.8560 - 734ms/epoch - 1ms/step\n",
      "Epoch 6/100\n",
      "625/625 - 1s - loss: 0.7028 - reconstruction_loss: 0.7028 - kl_loss: 42.9579 - 726ms/epoch - 1ms/step\n",
      "Epoch 7/100\n",
      "625/625 - 1s - loss: 0.6610 - reconstruction_loss: 0.6610 - kl_loss: 42.8889 - 729ms/epoch - 1ms/step\n",
      "Epoch 8/100\n",
      "625/625 - 1s - loss: 0.6563 - reconstruction_loss: 0.6563 - kl_loss: 43.2545 - 736ms/epoch - 1ms/step\n",
      "Epoch 9/100\n",
      "625/625 - 1s - loss: 0.6193 - reconstruction_loss: 0.6193 - kl_loss: 42.7185 - 731ms/epoch - 1ms/step\n",
      "Epoch 10/100\n",
      "625/625 - 1s - loss: 0.5658 - reconstruction_loss: 0.5658 - kl_loss: 42.1069 - 727ms/epoch - 1ms/step\n",
      "Epoch 11/100\n",
      "625/625 - 1s - loss: 0.5623 - reconstruction_loss: 0.5623 - kl_loss: 42.5947 - 727ms/epoch - 1ms/step\n",
      "Epoch 12/100\n",
      "625/625 - 1s - loss: 0.5595 - reconstruction_loss: 0.5595 - kl_loss: 43.6370 - 726ms/epoch - 1ms/step\n",
      "Epoch 13/100\n",
      "625/625 - 1s - loss: 0.5573 - reconstruction_loss: 0.5573 - kl_loss: 44.8008 - 730ms/epoch - 1ms/step\n",
      "Epoch 14/100\n",
      "625/625 - 1s - loss: 0.5316 - reconstruction_loss: 0.5316 - kl_loss: 45.5524 - 724ms/epoch - 1ms/step\n",
      "Epoch 15/100\n",
      "625/625 - 1s - loss: 0.4689 - reconstruction_loss: 0.4689 - kl_loss: 45.7547 - 736ms/epoch - 1ms/step\n",
      "Epoch 16/100\n",
      "625/625 - 1s - loss: 0.4412 - reconstruction_loss: 0.4412 - kl_loss: 46.4445 - 740ms/epoch - 1ms/step\n",
      "Epoch 17/100\n",
      "625/625 - 1s - loss: 0.4395 - reconstruction_loss: 0.4395 - kl_loss: 46.9685 - 719ms/epoch - 1ms/step\n",
      "Epoch 18/100\n",
      "625/625 - 1s - loss: 0.4381 - reconstruction_loss: 0.4381 - kl_loss: 47.6654 - 719ms/epoch - 1ms/step\n",
      "Epoch 19/100\n",
      "625/625 - 1s - loss: 0.4365 - reconstruction_loss: 0.4365 - kl_loss: 47.8971 - 739ms/epoch - 1ms/step\n",
      "Epoch 20/100\n",
      "625/625 - 1s - loss: 0.4352 - reconstruction_loss: 0.4352 - kl_loss: 48.0958 - 726ms/epoch - 1ms/step\n",
      "Epoch 21/100\n",
      "625/625 - 1s - loss: 0.4342 - reconstruction_loss: 0.4342 - kl_loss: 47.7765 - 726ms/epoch - 1ms/step\n",
      "Epoch 22/100\n",
      "625/625 - 1s - loss: 0.4327 - reconstruction_loss: 0.4327 - kl_loss: 47.7512 - 735ms/epoch - 1ms/step\n",
      "Epoch 23/100\n",
      "625/625 - 1s - loss: 0.4318 - reconstruction_loss: 0.4318 - kl_loss: 47.5217 - 733ms/epoch - 1ms/step\n",
      "Epoch 24/100\n",
      "625/625 - 1s - loss: 0.4308 - reconstruction_loss: 0.4308 - kl_loss: 47.3759 - 749ms/epoch - 1ms/step\n",
      "Epoch 25/100\n",
      "625/625 - 1s - loss: 0.4301 - reconstruction_loss: 0.4301 - kl_loss: 46.6142 - 741ms/epoch - 1ms/step\n",
      "Epoch 26/100\n",
      "625/625 - 1s - loss: 0.4293 - reconstruction_loss: 0.4293 - kl_loss: 45.7163 - 733ms/epoch - 1ms/step\n",
      "Epoch 27/100\n",
      "625/625 - 1s - loss: 0.4284 - reconstruction_loss: 0.4284 - kl_loss: 45.8427 - 733ms/epoch - 1ms/step\n",
      "Epoch 28/100\n",
      "625/625 - 1s - loss: 0.4274 - reconstruction_loss: 0.4274 - kl_loss: 45.8600 - 726ms/epoch - 1ms/step\n",
      "Epoch 29/100\n",
      "625/625 - 1s - loss: 0.4259 - reconstruction_loss: 0.4259 - kl_loss: 45.3815 - 727ms/epoch - 1ms/step\n",
      "Epoch 30/100\n",
      "625/625 - 1s - loss: 0.4250 - reconstruction_loss: 0.4250 - kl_loss: 45.2820 - 722ms/epoch - 1ms/step\n",
      "Epoch 31/100\n",
      "625/625 - 1s - loss: 0.4237 - reconstruction_loss: 0.4237 - kl_loss: 44.8716 - 728ms/epoch - 1ms/step\n",
      "Epoch 32/100\n",
      "625/625 - 1s - loss: 0.4230 - reconstruction_loss: 0.4230 - kl_loss: 44.7124 - 723ms/epoch - 1ms/step\n",
      "Epoch 33/100\n",
      "625/625 - 1s - loss: 0.4226 - reconstruction_loss: 0.4226 - kl_loss: 44.2759 - 728ms/epoch - 1ms/step\n",
      "Epoch 34/100\n",
      "625/625 - 1s - loss: 0.4220 - reconstruction_loss: 0.4220 - kl_loss: 43.8950 - 723ms/epoch - 1ms/step\n",
      "Epoch 35/100\n",
      "625/625 - 1s - loss: 0.4214 - reconstruction_loss: 0.4214 - kl_loss: 43.7358 - 732ms/epoch - 1ms/step\n",
      "Epoch 36/100\n",
      "625/625 - 1s - loss: 0.4208 - reconstruction_loss: 0.4208 - kl_loss: 43.0979 - 730ms/epoch - 1ms/step\n",
      "Epoch 37/100\n",
      "625/625 - 1s - loss: 0.4204 - reconstruction_loss: 0.4204 - kl_loss: 43.1231 - 728ms/epoch - 1ms/step\n",
      "Epoch 38/100\n",
      "625/625 - 1s - loss: 0.4200 - reconstruction_loss: 0.4200 - kl_loss: 42.9476 - 724ms/epoch - 1ms/step\n",
      "Epoch 39/100\n",
      "625/625 - 1s - loss: 0.4195 - reconstruction_loss: 0.4195 - kl_loss: 42.6607 - 727ms/epoch - 1ms/step\n",
      "Epoch 40/100\n",
      "625/625 - 1s - loss: 0.4191 - reconstruction_loss: 0.4191 - kl_loss: 42.2974 - 747ms/epoch - 1ms/step\n",
      "Epoch 41/100\n",
      "625/625 - 1s - loss: 0.4185 - reconstruction_loss: 0.4185 - kl_loss: 42.2528 - 748ms/epoch - 1ms/step\n",
      "Epoch 42/100\n",
      "625/625 - 1s - loss: 0.4181 - reconstruction_loss: 0.4181 - kl_loss: 41.8623 - 730ms/epoch - 1ms/step\n",
      "Epoch 43/100\n",
      "625/625 - 1s - loss: 0.4177 - reconstruction_loss: 0.4177 - kl_loss: 41.2429 - 722ms/epoch - 1ms/step\n",
      "Epoch 44/100\n",
      "625/625 - 1s - loss: 0.4173 - reconstruction_loss: 0.4173 - kl_loss: 40.4744 - 759ms/epoch - 1ms/step\n",
      "Epoch 45/100\n",
      "625/625 - 1s - loss: 0.4171 - reconstruction_loss: 0.4171 - kl_loss: 40.0170 - 764ms/epoch - 1ms/step\n",
      "Epoch 46/100\n",
      "625/625 - 1s - loss: 0.4167 - reconstruction_loss: 0.4167 - kl_loss: 39.9609 - 757ms/epoch - 1ms/step\n",
      "Epoch 47/100\n",
      "625/625 - 1s - loss: 0.4163 - reconstruction_loss: 0.4163 - kl_loss: 39.9477 - 724ms/epoch - 1ms/step\n",
      "Epoch 48/100\n",
      "625/625 - 1s - loss: 0.4160 - reconstruction_loss: 0.4160 - kl_loss: 39.9967 - 729ms/epoch - 1ms/step\n",
      "Epoch 49/100\n",
      "625/625 - 1s - loss: 0.4154 - reconstruction_loss: 0.4154 - kl_loss: 39.9004 - 739ms/epoch - 1ms/step\n",
      "Epoch 50/100\n",
      "625/625 - 1s - loss: 0.4150 - reconstruction_loss: 0.4150 - kl_loss: 39.3689 - 732ms/epoch - 1ms/step\n",
      "Epoch 51/100\n",
      "625/625 - 1s - loss: 0.4146 - reconstruction_loss: 0.4146 - kl_loss: 39.1473 - 732ms/epoch - 1ms/step\n",
      "Epoch 52/100\n",
      "625/625 - 1s - loss: 0.4141 - reconstruction_loss: 0.4141 - kl_loss: 39.1921 - 729ms/epoch - 1ms/step\n",
      "Epoch 53/100\n",
      "625/625 - 1s - loss: 0.4138 - reconstruction_loss: 0.4138 - kl_loss: 39.0293 - 737ms/epoch - 1ms/step\n",
      "Epoch 54/100\n",
      "625/625 - 1s - loss: 0.4134 - reconstruction_loss: 0.4134 - kl_loss: 38.8327 - 733ms/epoch - 1ms/step\n",
      "Epoch 55/100\n",
      "625/625 - 1s - loss: 0.4131 - reconstruction_loss: 0.4131 - kl_loss: 38.4530 - 750ms/epoch - 1ms/step\n",
      "Epoch 56/100\n",
      "625/625 - 1s - loss: 0.4128 - reconstruction_loss: 0.4128 - kl_loss: 38.5241 - 739ms/epoch - 1ms/step\n",
      "Epoch 57/100\n",
      "625/625 - 1s - loss: 0.4128 - reconstruction_loss: 0.4128 - kl_loss: 38.4523 - 726ms/epoch - 1ms/step\n",
      "Epoch 58/100\n",
      "625/625 - 1s - loss: 0.4123 - reconstruction_loss: 0.4123 - kl_loss: 37.8193 - 760ms/epoch - 1ms/step\n",
      "Epoch 59/100\n",
      "625/625 - 1s - loss: 0.4120 - reconstruction_loss: 0.4120 - kl_loss: 38.0598 - 730ms/epoch - 1ms/step\n",
      "Epoch 60/100\n",
      "625/625 - 1s - loss: 0.4118 - reconstruction_loss: 0.4118 - kl_loss: 37.8363 - 727ms/epoch - 1ms/step\n",
      "Epoch 61/100\n",
      "625/625 - 1s - loss: 0.4115 - reconstruction_loss: 0.4115 - kl_loss: 37.6463 - 727ms/epoch - 1ms/step\n",
      "Epoch 62/100\n",
      "625/625 - 1s - loss: 0.4111 - reconstruction_loss: 0.4111 - kl_loss: 37.1670 - 737ms/epoch - 1ms/step\n",
      "Epoch 63/100\n",
      "625/625 - 1s - loss: 0.4109 - reconstruction_loss: 0.4109 - kl_loss: 37.1101 - 756ms/epoch - 1ms/step\n",
      "Epoch 64/100\n",
      "625/625 - 1s - loss: 0.4107 - reconstruction_loss: 0.4107 - kl_loss: 36.9150 - 738ms/epoch - 1ms/step\n",
      "Epoch 65/100\n",
      "625/625 - 1s - loss: 0.4103 - reconstruction_loss: 0.4103 - kl_loss: 36.5002 - 744ms/epoch - 1ms/step\n",
      "Epoch 66/100\n",
      "625/625 - 1s - loss: 0.4100 - reconstruction_loss: 0.4100 - kl_loss: 36.4928 - 725ms/epoch - 1ms/step\n",
      "Epoch 67/100\n",
      "625/625 - 1s - loss: 0.4100 - reconstruction_loss: 0.4100 - kl_loss: 36.4695 - 727ms/epoch - 1ms/step\n",
      "Epoch 68/100\n",
      "625/625 - 1s - loss: 0.4096 - reconstruction_loss: 0.4096 - kl_loss: 36.0786 - 737ms/epoch - 1ms/step\n",
      "Epoch 69/100\n",
      "625/625 - 1s - loss: 0.4096 - reconstruction_loss: 0.4096 - kl_loss: 35.6263 - 751ms/epoch - 1ms/step\n",
      "Epoch 70/100\n",
      "625/625 - 1s - loss: 0.4090 - reconstruction_loss: 0.4090 - kl_loss: 35.6667 - 749ms/epoch - 1ms/step\n",
      "Epoch 71/100\n",
      "625/625 - 1s - loss: 0.4088 - reconstruction_loss: 0.4088 - kl_loss: 35.6209 - 748ms/epoch - 1ms/step\n",
      "Epoch 72/100\n",
      "625/625 - 1s - loss: 0.4087 - reconstruction_loss: 0.4087 - kl_loss: 35.1617 - 733ms/epoch - 1ms/step\n"
     ]
    },
    {
     "name": "stdout",
     "output_type": "stream",
     "text": [
      "Epoch 73/100\n",
      "625/625 - 1s - loss: 0.4085 - reconstruction_loss: 0.4085 - kl_loss: 34.9449 - 728ms/epoch - 1ms/step\n",
      "Epoch 74/100\n",
      "625/625 - 1s - loss: 0.4067 - reconstruction_loss: 0.4067 - kl_loss: 34.5703 - 725ms/epoch - 1ms/step\n",
      "Epoch 75/100\n",
      "625/625 - 1s - loss: 0.3701 - reconstruction_loss: 0.3701 - kl_loss: 34.2422 - 724ms/epoch - 1ms/step\n",
      "Epoch 76/100\n",
      "625/625 - 1s - loss: 0.3695 - reconstruction_loss: 0.3695 - kl_loss: 34.3819 - 724ms/epoch - 1ms/step\n",
      "Epoch 77/100\n",
      "625/625 - 1s - loss: 0.3689 - reconstruction_loss: 0.3689 - kl_loss: 34.4509 - 725ms/epoch - 1ms/step\n",
      "Epoch 78/100\n",
      "625/625 - 1s - loss: 0.3691 - reconstruction_loss: 0.3691 - kl_loss: 34.0168 - 723ms/epoch - 1ms/step\n",
      "Epoch 79/100\n",
      "625/625 - 1s - loss: 0.3687 - reconstruction_loss: 0.3687 - kl_loss: 33.6544 - 719ms/epoch - 1ms/step\n",
      "Epoch 80/100\n",
      "625/625 - 1s - loss: 0.3683 - reconstruction_loss: 0.3683 - kl_loss: 33.7283 - 723ms/epoch - 1ms/step\n",
      "Epoch 81/100\n",
      "625/625 - 1s - loss: 0.3683 - reconstruction_loss: 0.3683 - kl_loss: 33.3824 - 726ms/epoch - 1ms/step\n",
      "Epoch 82/100\n",
      "625/625 - 1s - loss: 0.3682 - reconstruction_loss: 0.3682 - kl_loss: 33.3947 - 724ms/epoch - 1ms/step\n",
      "Epoch 83/100\n",
      "625/625 - 1s - loss: 0.3681 - reconstruction_loss: 0.3681 - kl_loss: 33.0931 - 727ms/epoch - 1ms/step\n",
      "Epoch 84/100\n",
      "625/625 - 1s - loss: 0.3679 - reconstruction_loss: 0.3679 - kl_loss: 33.0989 - 724ms/epoch - 1ms/step\n",
      "Epoch 85/100\n",
      "625/625 - 1s - loss: 0.3681 - reconstruction_loss: 0.3681 - kl_loss: 33.0110 - 725ms/epoch - 1ms/step\n",
      "Epoch 86/100\n",
      "625/625 - 1s - loss: 0.3672 - reconstruction_loss: 0.3672 - kl_loss: 33.2508 - 723ms/epoch - 1ms/step\n",
      "Epoch 87/100\n",
      "625/625 - 1s - loss: 0.3674 - reconstruction_loss: 0.3674 - kl_loss: 33.2868 - 727ms/epoch - 1ms/step\n",
      "Epoch 88/100\n",
      "625/625 - 1s - loss: 0.3673 - reconstruction_loss: 0.3673 - kl_loss: 32.9795 - 725ms/epoch - 1ms/step\n",
      "Epoch 89/100\n",
      "625/625 - 1s - loss: 0.3673 - reconstruction_loss: 0.3673 - kl_loss: 32.9132 - 728ms/epoch - 1ms/step\n",
      "Epoch 90/100\n",
      "625/625 - 1s - loss: 0.3667 - reconstruction_loss: 0.3667 - kl_loss: 33.1250 - 724ms/epoch - 1ms/step\n",
      "Epoch 91/100\n",
      "625/625 - 1s - loss: 0.3665 - reconstruction_loss: 0.3665 - kl_loss: 33.3492 - 725ms/epoch - 1ms/step\n",
      "Epoch 92/100\n",
      "625/625 - 1s - loss: 0.3663 - reconstruction_loss: 0.3663 - kl_loss: 33.6518 - 733ms/epoch - 1ms/step\n",
      "Epoch 93/100\n",
      "625/625 - 1s - loss: 0.3664 - reconstruction_loss: 0.3664 - kl_loss: 33.5056 - 725ms/epoch - 1ms/step\n",
      "Epoch 94/100\n",
      "625/625 - 1s - loss: 0.3663 - reconstruction_loss: 0.3663 - kl_loss: 33.1852 - 722ms/epoch - 1ms/step\n",
      "Epoch 95/100\n",
      "625/625 - 1s - loss: 0.3663 - reconstruction_loss: 0.3663 - kl_loss: 33.4805 - 724ms/epoch - 1ms/step\n",
      "Epoch 96/100\n",
      "625/625 - 1s - loss: 0.3663 - reconstruction_loss: 0.3663 - kl_loss: 33.0674 - 722ms/epoch - 1ms/step\n",
      "Epoch 97/100\n",
      "625/625 - 1s - loss: 0.3661 - reconstruction_loss: 0.3661 - kl_loss: 32.9234 - 724ms/epoch - 1ms/step\n",
      "Epoch 98/100\n",
      "625/625 - 1s - loss: 0.3656 - reconstruction_loss: 0.3656 - kl_loss: 33.0722 - 720ms/epoch - 1ms/step\n",
      "Epoch 99/100\n",
      "625/625 - 1s - loss: 0.3655 - reconstruction_loss: 0.3655 - kl_loss: 33.3660 - 728ms/epoch - 1ms/step\n",
      "Epoch 100/100\n",
      "625/625 - 1s - loss: 0.3651 - reconstruction_loss: 0.3651 - kl_loss: 33.6343 - 726ms/epoch - 1ms/step\n"
     ]
    },
    {
     "data": {
      "text/plain": [
       "<keras.callbacks.History at 0x7fb971f6be20>"
      ]
     },
     "execution_count": 15,
     "metadata": {},
     "output_type": "execute_result"
    }
   ],
   "source": [
    "reg_lambda=0\n",
    "vae = VAE(encoder, decoder)\n",
    "vae.compile(optimizer=keras.optimizers.Adam())\n",
    "vae.fit(trainset, epochs=100, batch_size=128, verbose=2)"
   ]
  }
 ],
 "metadata": {
  "kernelspec": {
   "display_name": "Python 3 (ipykernel)",
   "language": "python",
   "name": "python3"
  },
  "language_info": {
   "codemirror_mode": {
    "name": "ipython",
    "version": 3
   },
   "file_extension": ".py",
   "mimetype": "text/x-python",
   "name": "python",
   "nbconvert_exporter": "python",
   "pygments_lexer": "ipython3",
   "version": "3.10.9"
  }
 },
 "nbformat": 4,
 "nbformat_minor": 5
}
